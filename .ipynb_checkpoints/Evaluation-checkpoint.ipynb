{
 "cells": [
  {
   "cell_type": "code",
   "execution_count": 1,
   "metadata": {},
   "outputs": [],
   "source": [
    "import numpy as np\n",
    "import pandas as pd\n",
    "from scipy import stats\n",
    "from scipy.stats import mannwhitneyu\n"
   ]
  },
  {
   "cell_type": "markdown",
   "metadata": {},
   "source": [
    "# Mann Whitney Test\n",
    "\n",
    "The two samples are combined and rank ordered together. The strategy is to determine if the values from the two samples are randomly mixed in the rank ordering or if they are clustered at opposite ends when combined. A random rank order would mean that the two samples are not different, while a cluster of one sample values would indicate a difference between them."
   ]
  },
  {
   "cell_type": "code",
   "execution_count": 2,
   "metadata": {},
   "outputs": [],
   "source": [
    "# Mann-Whitney U test\n",
    "from numpy.random import seed\n",
    "from numpy.random import randn\n",
    "# seed the random number generator\n",
    "seed(1)\n",
    "# generate two independent samples\n",
    "data1 = 5 * randn(100) + 50\n",
    "data2 = 5 * randn(100) + 51\n",
    "# compare samples\n"
   ]
  },
  {
   "cell_type": "code",
   "execution_count": 3,
   "metadata": {},
   "outputs": [],
   "source": [
    "def mann_whitney(data1, data2):\n",
    "    '''Performs a Mann-Whitney test. Returns '''\n",
    "    stat, p = mannwhitneyu(data1, data2)\n",
    "    print('Statistics=%.3f, p=%.3f' % (stat, p))\n",
    "    # interpret\n",
    "    alpha = 0.05\n",
    "    if p > alpha:\n",
    "        print('Same distribution (fail to reject H0)')\n",
    "        return False, stat, p\n",
    "    else:\n",
    "        print('Different distribution (reject H0)')\n",
    "        return True, stat, p"
   ]
  },
  {
   "cell_type": "code",
   "execution_count": 4,
   "metadata": {},
   "outputs": [
    {
     "name": "stdout",
     "output_type": "stream",
     "text": [
      "Statistics=4025.000, p=0.009\n",
      "Different distribution (reject H0)\n"
     ]
    },
    {
     "data": {
      "text/plain": [
       "(True, 4025.0, 0.008630923458799062)"
      ]
     },
     "execution_count": 4,
     "metadata": {},
     "output_type": "execute_result"
    }
   ],
   "source": [
    "mann_whitney(data1, data2)"
   ]
  },
  {
   "cell_type": "code",
   "execution_count": 128,
   "metadata": {},
   "outputs": [],
   "source": [
    "def mw(x, y):\n",
    "    x_total = np.sum(x, axis=1)\n",
    "    y_total = np.sum(y, axis=1)\n",
    "    stat, p = mannwhitneyu(x_total, y_total)\n",
    "    print('Statistics=%.3f, p=%.3f' % (stat, p))\n",
    "    # interpret\n",
    "    alpha = 0.05\n",
    "    if p > alpha:\n",
    "        print('Same distribution (fail to reject H0)')\n",
    "    else:\n",
    "        print('Different distribution (reject H0)')\n",
    "\n",
    "\n",
    "    s, l = [y_total, x_total] if np.sum(y_total) < np.sum(x_total) else [x_total, y_total]\n",
    "    N = len(x_total)+len(y_total)\n",
    "    ns = len(s)\n",
    "    nl = len(l)\n",
    "\n",
    "#    mu = (ns * (N+1))/2\n",
    "    mu = (ns * nl) / 2\n",
    "    sigma = math.sqrt((ns * nl * (N+1))/12)\n",
    "#    z = (np.sum(s) - mu)/sigma\n",
    "    z = (stat - mu)/sigma\n",
    "    r = z / math.sqrt(N)\n",
    "    print(r)\n",
    "    return stat, p, r\n"
   ]
  },
  {
   "cell_type": "code",
   "execution_count": 5,
   "metadata": {},
   "outputs": [],
   "source": [
    "import numpy as np\n",
    "import matplotlib.pyplot as plt\n",
    "\n",
    "# Fixing random state for reproducibility\n",
    "np.random.seed(19680801)\n",
    "\n",
    "# fake up some data\n",
    "spread = np.random.rand(50) * 100\n",
    "center = np.ones(25) * 50\n",
    "flier_high = np.random.rand(10) * 100 + 100\n",
    "flier_low = np.random.rand(10) * -100\n",
    "data = np.concatenate((spread, center, flier_high, flier_low))\n"
   ]
  },
  {
   "cell_type": "code",
   "execution_count": 6,
   "metadata": {},
   "outputs": [
    {
     "data": {
      "text/plain": [
       "([<matplotlib.axis.XTick at 0x1d5f4730>,\n",
       "  <matplotlib.axis.XTick at 0x1d5f4718>],\n",
       " <a list of 2 Text xticklabel objects>)"
      ]
     },
     "execution_count": 6,
     "metadata": {},
     "output_type": "execute_result"
    },
    {
     "data": {
      "image/png": "[encoded data removed]",
      "text/plain": [
       "<Figure size 432x288 with 1 Axes>"
      ]
     },
     "metadata": {
      "needs_background": "light"
     },
     "output_type": "display_data"
    }
   ],
   "source": [
    "plt.title('Basic Plot')\n",
    "plot_data = [data1, data2]\n",
    "plt.boxplot(plot_data, notch=True)\n",
    "plt.xticks([1, 2], ['mon', 'tue'])"
   ]
  },
  {
   "cell_type": "markdown",
   "metadata": {},
   "source": [
    "# Chi Squared\n",
    "\n",
    "Analysis of frequency of observations"
   ]
  },
  {
   "cell_type": "code",
   "execution_count": 7,
   "metadata": {},
   "outputs": [
    {
     "data": {
      "text/plain": [
       "Power_divergenceResult(statistic=2.0, pvalue=0.8491450360846096)"
      ]
     },
     "execution_count": 7,
     "metadata": {},
     "output_type": "execute_result"
    }
   ],
   "source": [
    "from scipy.stats import chisquare\n",
    "\n",
    "chisquare([16, 18, 16, 14, 12, 12])"
   ]
  },
  {
   "cell_type": "markdown",
   "metadata": {},
   "source": [
    "# Import and structure data for Analysis"
   ]
  },
  {
   "cell_type": "code",
   "execution_count": 8,
   "metadata": {},
   "outputs": [],
   "source": [
    "import pandas as pd\n",
    "\n",
    "xlsx = (r'data.xlsx')\n",
    "\n",
    "df1 = pd.read_excel(xlsx, 'Control Condition')\n",
    "df2 = pd.read_excel(xlsx, 'Experimental Condition')"
   ]
  },
  {
   "cell_type": "code",
   "execution_count": 9,
   "metadata": {},
   "outputs": [],
   "source": [
    "control_data = pd.DataFrame(df1)\n",
    "experimental_data = pd.DataFrame(df2)"
   ]
  },
  {
   "cell_type": "code",
   "execution_count": 10,
   "metadata": {},
   "outputs": [
    {
     "data": {
      "text/html": [
       "<div>\n",
       "<style scoped>\n",
       "    .dataframe tbody tr th:only-of-type {\n",
       "        vertical-align: middle;\n",
       "    }\n",
       "\n",
       "    .dataframe tbody tr th {\n",
       "        vertical-align: top;\n",
       "    }\n",
       "\n",
       "    .dataframe thead th {\n",
       "        text-align: right;\n",
       "    }\n",
       "</style>\n",
       "<table border=\"1\" class=\"dataframe\">\n",
       "  <thead>\n",
       "    <tr style=\"text-align: right;\">\n",
       "      <th></th>\n",
       "      <th>Timestamp</th>\n",
       "      <th>Unnamed: 1</th>\n",
       "      <th>#</th>\n",
       "      <th>Do you agree that we can store your data anonymously and only for use in the context of this particular thesis?</th>\n",
       "      <th>I found my mind wandering while the game was on</th>\n",
       "      <th>At points, I had a hard time making sense of what was going on in the game</th>\n",
       "      <th>My understanding of the characters is unclear</th>\n",
       "      <th>While the game was on I found myself thinking about other things</th>\n",
       "      <th>I had a hard time recognising the thread of the story</th>\n",
       "      <th>The game created a new world, and then that world suddenly disappeared when the game ended</th>\n",
       "      <th>...</th>\n",
       "      <th>I want to continue exploring this environment</th>\n",
       "      <th>Unnamed: 72</th>\n",
       "      <th>What is your age?</th>\n",
       "      <th>What is your gender?</th>\n",
       "      <th>How often do you play video games?</th>\n",
       "      <th>How would you classify yourself as a player based on the definitions in this table of player types?</th>\n",
       "      <th>How much do you know about creating video games?</th>\n",
       "      <th>Unnamed: 78</th>\n",
       "      <th>Do you have any comments about the performance of the game? (e.g. frame rate issues, loading times, graphical bugs etc)</th>\n",
       "      <th>Do you have any additional comments or feedback on the game or this questionnaire?</th>\n",
       "    </tr>\n",
       "  </thead>\n",
       "  <tbody>\n",
       "    <tr>\n",
       "      <th>0</th>\n",
       "      <td>2020-05-12 21:11:52</td>\n",
       "      <td>PILOT_D</td>\n",
       "      <td>48</td>\n",
       "      <td>Yes</td>\n",
       "      <td>2</td>\n",
       "      <td>4</td>\n",
       "      <td>6</td>\n",
       "      <td>1</td>\n",
       "      <td>6</td>\n",
       "      <td>6</td>\n",
       "      <td>...</td>\n",
       "      <td>6</td>\n",
       "      <td>NaN</td>\n",
       "      <td>29</td>\n",
       "      <td>Male</td>\n",
       "      <td>Daily</td>\n",
       "      <td>Immersion</td>\n",
       "      <td>5</td>\n",
       "      <td>NaN</td>\n",
       "      <td>it was very choppy at least on the browser.</td>\n",
       "      <td>besides being choppy, not much. It was a bit v...</td>\n",
       "    </tr>\n",
       "    <tr>\n",
       "      <th>1</th>\n",
       "      <td>2020-05-13 09:54:39</td>\n",
       "      <td>PILOT_T</td>\n",
       "      <td>48</td>\n",
       "      <td>Yes</td>\n",
       "      <td>4</td>\n",
       "      <td>3</td>\n",
       "      <td>5</td>\n",
       "      <td>5</td>\n",
       "      <td>3</td>\n",
       "      <td>5</td>\n",
       "      <td>...</td>\n",
       "      <td>5</td>\n",
       "      <td>NaN</td>\n",
       "      <td>25</td>\n",
       "      <td>Female</td>\n",
       "      <td>Daily</td>\n",
       "      <td>Immersion</td>\n",
       "      <td>5</td>\n",
       "      <td>NaN</td>\n",
       "      <td>NaN</td>\n",
       "      <td>NaN</td>\n",
       "    </tr>\n",
       "    <tr>\n",
       "      <th>2</th>\n",
       "      <td>2020-05-13 11:13:01</td>\n",
       "      <td>NaN</td>\n",
       "      <td>48</td>\n",
       "      <td>Yes</td>\n",
       "      <td>1</td>\n",
       "      <td>6</td>\n",
       "      <td>7</td>\n",
       "      <td>5</td>\n",
       "      <td>1</td>\n",
       "      <td>1</td>\n",
       "      <td>...</td>\n",
       "      <td>1</td>\n",
       "      <td>NaN</td>\n",
       "      <td>25</td>\n",
       "      <td>Male</td>\n",
       "      <td>Daily</td>\n",
       "      <td>Immersion</td>\n",
       "      <td>7</td>\n",
       "      <td>NaN</td>\n",
       "      <td>Had some sound glitching when moving through t...</td>\n",
       "      <td>It was good fundamental level design, that whe...</td>\n",
       "    </tr>\n",
       "    <tr>\n",
       "      <th>3</th>\n",
       "      <td>2020-05-13 11:18:21</td>\n",
       "      <td>NaN</td>\n",
       "      <td>48</td>\n",
       "      <td>Yes</td>\n",
       "      <td>5</td>\n",
       "      <td>5</td>\n",
       "      <td>6</td>\n",
       "      <td>6</td>\n",
       "      <td>6</td>\n",
       "      <td>5</td>\n",
       "      <td>...</td>\n",
       "      <td>2</td>\n",
       "      <td>NaN</td>\n",
       "      <td>24</td>\n",
       "      <td>Male</td>\n",
       "      <td>Weekly</td>\n",
       "      <td>Social</td>\n",
       "      <td>5</td>\n",
       "      <td>NaN</td>\n",
       "      <td>NaN</td>\n",
       "      <td>NaN</td>\n",
       "    </tr>\n",
       "    <tr>\n",
       "      <th>4</th>\n",
       "      <td>2020-05-13 11:48:15</td>\n",
       "      <td>NaN</td>\n",
       "      <td>48</td>\n",
       "      <td>Yes</td>\n",
       "      <td>2</td>\n",
       "      <td>7</td>\n",
       "      <td>6</td>\n",
       "      <td>1</td>\n",
       "      <td>7</td>\n",
       "      <td>7</td>\n",
       "      <td>...</td>\n",
       "      <td>4</td>\n",
       "      <td>NaN</td>\n",
       "      <td>26</td>\n",
       "      <td>Male</td>\n",
       "      <td>Daily</td>\n",
       "      <td>Social</td>\n",
       "      <td>2</td>\n",
       "      <td>NaN</td>\n",
       "      <td>The frame rate was awful on a macbook, and som...</td>\n",
       "      <td>NaN</td>\n",
       "    </tr>\n",
       "  </tbody>\n",
       "</table>\n",
       "<p>5 rows × 81 columns</p>\n",
       "</div>"
      ],
      "text/plain": [
       "            Timestamp Unnamed: 1   #  \\\n",
       "0 2020-05-12 21:11:52    PILOT_D  48   \n",
       "1 2020-05-13 09:54:39    PILOT_T  48   \n",
       "2 2020-05-13 11:13:01        NaN  48   \n",
       "3 2020-05-13 11:18:21        NaN  48   \n",
       "4 2020-05-13 11:48:15        NaN  48   \n",
       "\n",
       "  Do you agree that we can store your data anonymously and only for use in the context of this particular thesis?  \\\n",
       "0                                                Yes                                                                \n",
       "1                                                Yes                                                                \n",
       "2                                                Yes                                                                \n",
       "3                                                Yes                                                                \n",
       "4                                                Yes                                                                \n",
       "\n",
       "   I found my mind wandering while the game was on  \\\n",
       "0                                                2   \n",
       "1                                                4   \n",
       "2                                                1   \n",
       "3                                                5   \n",
       "4                                                2   \n",
       "\n",
       "   At points, I had a hard time making sense of what was going on in the game  \\\n",
       "0                                                  4                            \n",
       "1                                                  3                            \n",
       "2                                                  6                            \n",
       "3                                                  5                            \n",
       "4                                                  7                            \n",
       "\n",
       "   My understanding of the characters is unclear  \\\n",
       "0                                              6   \n",
       "1                                              5   \n",
       "2                                              7   \n",
       "3                                              6   \n",
       "4                                              6   \n",
       "\n",
       "   While the game was on I found myself thinking about other things  \\\n",
       "0                                                  1                  \n",
       "1                                                  5                  \n",
       "2                                                  5                  \n",
       "3                                                  6                  \n",
       "4                                                  1                  \n",
       "\n",
       "   I had a hard time recognising the thread of the story  \\\n",
       "0                                                  6       \n",
       "1                                                  3       \n",
       "2                                                  1       \n",
       "3                                                  6       \n",
       "4                                                  7       \n",
       "\n",
       "   The game created a new world, and then that world suddenly disappeared when the game ended  \\\n",
       "0                                                  6                                            \n",
       "1                                                  5                                            \n",
       "2                                                  1                                            \n",
       "3                                                  5                                            \n",
       "4                                                  7                                            \n",
       "\n",
       "   ...  I want to continue exploring this environment  Unnamed: 72  \\\n",
       "0  ...                                              6          NaN   \n",
       "1  ...                                              5          NaN   \n",
       "2  ...                                              1          NaN   \n",
       "3  ...                                              2          NaN   \n",
       "4  ...                                              4          NaN   \n",
       "\n",
       "   What is your age?  What is your gender?  \\\n",
       "0                 29                  Male   \n",
       "1                 25                Female   \n",
       "2                 25                  Male   \n",
       "3                 24                  Male   \n",
       "4                 26                  Male   \n",
       "\n",
       "   How often do you play video games?  \\\n",
       "0                               Daily   \n",
       "1                               Daily   \n",
       "2                               Daily   \n",
       "3                              Weekly   \n",
       "4                               Daily   \n",
       "\n",
       "   How would you classify yourself as a player based on the definitions in this table of player types?  \\\n",
       "0                                          Immersion                                                     \n",
       "1                                          Immersion                                                     \n",
       "2                                          Immersion                                                     \n",
       "3                                             Social                                                     \n",
       "4                                             Social                                                     \n",
       "\n",
       "   How much do you know about creating video games?  Unnamed: 78  \\\n",
       "0                                                 5          NaN   \n",
       "1                                                 5          NaN   \n",
       "2                                                 7          NaN   \n",
       "3                                                 5          NaN   \n",
       "4                                                 2          NaN   \n",
       "\n",
       "   Do you have any comments about the performance of the game? (e.g. frame rate issues, loading times, graphical bugs etc)  \\\n",
       "0        it was very choppy at least on the browser.                                                                         \n",
       "1                                                NaN                                                                         \n",
       "2  Had some sound glitching when moving through t...                                                                         \n",
       "3                                                NaN                                                                         \n",
       "4  The frame rate was awful on a macbook, and som...                                                                         \n",
       "\n",
       "   Do you have any additional comments or feedback on the game or this questionnaire?  \n",
       "0  besides being choppy, not much. It was a bit v...                                   \n",
       "1                                                NaN                                   \n",
       "2  It was good fundamental level design, that whe...                                   \n",
       "3                                                NaN                                   \n",
       "4                                                NaN                                   \n",
       "\n",
       "[5 rows x 81 columns]"
      ]
     },
     "execution_count": 10,
     "metadata": {},
     "output_type": "execute_result"
    }
   ],
   "source": [
    "control_data.head()"
   ]
  },
  {
   "cell_type": "code",
   "execution_count": null,
   "metadata": {},
   "outputs": [],
   "source": []
  },
  {
   "cell_type": "code",
   "execution_count": 11,
   "metadata": {},
   "outputs": [
    {
     "data": {
      "text/html": [
       "<div>\n",
       "<style scoped>\n",
       "    .dataframe tbody tr th:only-of-type {\n",
       "        vertical-align: middle;\n",
       "    }\n",
       "\n",
       "    .dataframe tbody tr th {\n",
       "        vertical-align: top;\n",
       "    }\n",
       "\n",
       "    .dataframe thead th {\n",
       "        text-align: right;\n",
       "    }\n",
       "</style>\n",
       "<table border=\"1\" class=\"dataframe\">\n",
       "  <thead>\n",
       "    <tr style=\"text-align: right;\">\n",
       "      <th></th>\n",
       "      <th>#</th>\n",
       "      <th>I found my mind wandering while the game was on</th>\n",
       "      <th>At points, I had a hard time making sense of what was going on in the game</th>\n",
       "      <th>My understanding of the characters is unclear</th>\n",
       "      <th>While the game was on I found myself thinking about other things</th>\n",
       "      <th>I had a hard time recognising the thread of the story</th>\n",
       "      <th>The game created a new world, and then that world suddenly disappeared when the game ended</th>\n",
       "      <th>At times during the game, the story world was closer to me than the real world</th>\n",
       "      <th>I had a hard time keeping my mind on the game</th>\n",
       "      <th>During the game, my body was in the room, but my mind was inside the world created by the story</th>\n",
       "      <th>...</th>\n",
       "      <th>It was easy to get to the places I wanted to go</th>\n",
       "      <th>I always knew where to go in the environment</th>\n",
       "      <th>I found the environment boring</th>\n",
       "      <th>The atmosphere of the environment suited the narrative</th>\n",
       "      <th>When I moved around in the environment I felt lost</th>\n",
       "      <th>I want to continue exploring this environment</th>\n",
       "      <th>Unnamed: 72</th>\n",
       "      <th>What is your age?</th>\n",
       "      <th>How much do you know about creating video games?</th>\n",
       "      <th>Unnamed: 78</th>\n",
       "    </tr>\n",
       "  </thead>\n",
       "  <tbody>\n",
       "    <tr>\n",
       "      <th>count</th>\n",
       "      <td>37.0</td>\n",
       "      <td>37.000000</td>\n",
       "      <td>37.000000</td>\n",
       "      <td>37.000000</td>\n",
       "      <td>37.000000</td>\n",
       "      <td>37.000000</td>\n",
       "      <td>37.000000</td>\n",
       "      <td>37.000000</td>\n",
       "      <td>37.000000</td>\n",
       "      <td>37.000000</td>\n",
       "      <td>...</td>\n",
       "      <td>37.000000</td>\n",
       "      <td>37.000000</td>\n",
       "      <td>37.000000</td>\n",
       "      <td>37.000000</td>\n",
       "      <td>37.000000</td>\n",
       "      <td>37.000000</td>\n",
       "      <td>0.0</td>\n",
       "      <td>37.000000</td>\n",
       "      <td>37.000000</td>\n",
       "      <td>0.0</td>\n",
       "    </tr>\n",
       "    <tr>\n",
       "      <th>mean</th>\n",
       "      <td>48.0</td>\n",
       "      <td>3.648649</td>\n",
       "      <td>4.621622</td>\n",
       "      <td>5.243243</td>\n",
       "      <td>3.270270</td>\n",
       "      <td>4.621622</td>\n",
       "      <td>5.027027</td>\n",
       "      <td>3.243243</td>\n",
       "      <td>2.486486</td>\n",
       "      <td>4.189189</td>\n",
       "      <td>...</td>\n",
       "      <td>4.675676</td>\n",
       "      <td>4.945946</td>\n",
       "      <td>3.513514</td>\n",
       "      <td>4.918919</td>\n",
       "      <td>2.945946</td>\n",
       "      <td>5.108108</td>\n",
       "      <td>NaN</td>\n",
       "      <td>28.918919</td>\n",
       "      <td>3.783784</td>\n",
       "      <td>NaN</td>\n",
       "    </tr>\n",
       "    <tr>\n",
       "      <th>std</th>\n",
       "      <td>0.0</td>\n",
       "      <td>1.686815</td>\n",
       "      <td>1.515684</td>\n",
       "      <td>1.460696</td>\n",
       "      <td>1.693921</td>\n",
       "      <td>2.004874</td>\n",
       "      <td>1.787091</td>\n",
       "      <td>2.019425</td>\n",
       "      <td>1.386875</td>\n",
       "      <td>1.697021</td>\n",
       "      <td>...</td>\n",
       "      <td>2.014586</td>\n",
       "      <td>1.665766</td>\n",
       "      <td>1.693478</td>\n",
       "      <td>1.552388</td>\n",
       "      <td>1.508236</td>\n",
       "      <td>1.594849</td>\n",
       "      <td>NaN</td>\n",
       "      <td>7.808039</td>\n",
       "      <td>1.973929</td>\n",
       "      <td>NaN</td>\n",
       "    </tr>\n",
       "    <tr>\n",
       "      <th>min</th>\n",
       "      <td>48.0</td>\n",
       "      <td>1.000000</td>\n",
       "      <td>2.000000</td>\n",
       "      <td>2.000000</td>\n",
       "      <td>1.000000</td>\n",
       "      <td>1.000000</td>\n",
       "      <td>1.000000</td>\n",
       "      <td>1.000000</td>\n",
       "      <td>1.000000</td>\n",
       "      <td>1.000000</td>\n",
       "      <td>...</td>\n",
       "      <td>1.000000</td>\n",
       "      <td>1.000000</td>\n",
       "      <td>1.000000</td>\n",
       "      <td>1.000000</td>\n",
       "      <td>1.000000</td>\n",
       "      <td>1.000000</td>\n",
       "      <td>NaN</td>\n",
       "      <td>18.000000</td>\n",
       "      <td>1.000000</td>\n",
       "      <td>NaN</td>\n",
       "    </tr>\n",
       "    <tr>\n",
       "      <th>25%</th>\n",
       "      <td>48.0</td>\n",
       "      <td>2.000000</td>\n",
       "      <td>4.000000</td>\n",
       "      <td>4.000000</td>\n",
       "      <td>2.000000</td>\n",
       "      <td>3.000000</td>\n",
       "      <td>5.000000</td>\n",
       "      <td>1.000000</td>\n",
       "      <td>2.000000</td>\n",
       "      <td>3.000000</td>\n",
       "      <td>...</td>\n",
       "      <td>4.000000</td>\n",
       "      <td>4.000000</td>\n",
       "      <td>2.000000</td>\n",
       "      <td>4.000000</td>\n",
       "      <td>2.000000</td>\n",
       "      <td>5.000000</td>\n",
       "      <td>NaN</td>\n",
       "      <td>25.000000</td>\n",
       "      <td>2.000000</td>\n",
       "      <td>NaN</td>\n",
       "    </tr>\n",
       "    <tr>\n",
       "      <th>50%</th>\n",
       "      <td>48.0</td>\n",
       "      <td>3.000000</td>\n",
       "      <td>5.000000</td>\n",
       "      <td>6.000000</td>\n",
       "      <td>3.000000</td>\n",
       "      <td>5.000000</td>\n",
       "      <td>5.000000</td>\n",
       "      <td>4.000000</td>\n",
       "      <td>2.000000</td>\n",
       "      <td>5.000000</td>\n",
       "      <td>...</td>\n",
       "      <td>5.000000</td>\n",
       "      <td>5.000000</td>\n",
       "      <td>3.000000</td>\n",
       "      <td>5.000000</td>\n",
       "      <td>3.000000</td>\n",
       "      <td>5.000000</td>\n",
       "      <td>NaN</td>\n",
       "      <td>27.000000</td>\n",
       "      <td>4.000000</td>\n",
       "      <td>NaN</td>\n",
       "    </tr>\n",
       "    <tr>\n",
       "      <th>75%</th>\n",
       "      <td>48.0</td>\n",
       "      <td>5.000000</td>\n",
       "      <td>6.000000</td>\n",
       "      <td>6.000000</td>\n",
       "      <td>4.000000</td>\n",
       "      <td>6.000000</td>\n",
       "      <td>6.000000</td>\n",
       "      <td>5.000000</td>\n",
       "      <td>3.000000</td>\n",
       "      <td>5.000000</td>\n",
       "      <td>...</td>\n",
       "      <td>6.000000</td>\n",
       "      <td>6.000000</td>\n",
       "      <td>5.000000</td>\n",
       "      <td>6.000000</td>\n",
       "      <td>4.000000</td>\n",
       "      <td>6.000000</td>\n",
       "      <td>NaN</td>\n",
       "      <td>31.000000</td>\n",
       "      <td>5.000000</td>\n",
       "      <td>NaN</td>\n",
       "    </tr>\n",
       "    <tr>\n",
       "      <th>max</th>\n",
       "      <td>48.0</td>\n",
       "      <td>7.000000</td>\n",
       "      <td>7.000000</td>\n",
       "      <td>7.000000</td>\n",
       "      <td>7.000000</td>\n",
       "      <td>7.000000</td>\n",
       "      <td>7.000000</td>\n",
       "      <td>7.000000</td>\n",
       "      <td>7.000000</td>\n",
       "      <td>7.000000</td>\n",
       "      <td>...</td>\n",
       "      <td>7.000000</td>\n",
       "      <td>7.000000</td>\n",
       "      <td>7.000000</td>\n",
       "      <td>7.000000</td>\n",
       "      <td>6.000000</td>\n",
       "      <td>7.000000</td>\n",
       "      <td>NaN</td>\n",
       "      <td>58.000000</td>\n",
       "      <td>7.000000</td>\n",
       "      <td>NaN</td>\n",
       "    </tr>\n",
       "  </tbody>\n",
       "</table>\n",
       "<p>8 rows × 57 columns</p>\n",
       "</div>"
      ],
      "text/plain": [
       "          #  I found my mind wandering while the game was on  \\\n",
       "count  37.0                                        37.000000   \n",
       "mean   48.0                                         3.648649   \n",
       "std     0.0                                         1.686815   \n",
       "min    48.0                                         1.000000   \n",
       "25%    48.0                                         2.000000   \n",
       "50%    48.0                                         3.000000   \n",
       "75%    48.0                                         5.000000   \n",
       "max    48.0                                         7.000000   \n",
       "\n",
       "       At points, I had a hard time making sense of what was going on in the game  \\\n",
       "count                                          37.000000                            \n",
       "mean                                            4.621622                            \n",
       "std                                             1.515684                            \n",
       "min                                             2.000000                            \n",
       "25%                                             4.000000                            \n",
       "50%                                             5.000000                            \n",
       "75%                                             6.000000                            \n",
       "max                                             7.000000                            \n",
       "\n",
       "       My understanding of the characters is unclear  \\\n",
       "count                                      37.000000   \n",
       "mean                                        5.243243   \n",
       "std                                         1.460696   \n",
       "min                                         2.000000   \n",
       "25%                                         4.000000   \n",
       "50%                                         6.000000   \n",
       "75%                                         6.000000   \n",
       "max                                         7.000000   \n",
       "\n",
       "       While the game was on I found myself thinking about other things  \\\n",
       "count                                          37.000000                  \n",
       "mean                                            3.270270                  \n",
       "std                                             1.693921                  \n",
       "min                                             1.000000                  \n",
       "25%                                             2.000000                  \n",
       "50%                                             3.000000                  \n",
       "75%                                             4.000000                  \n",
       "max                                             7.000000                  \n",
       "\n",
       "       I had a hard time recognising the thread of the story  \\\n",
       "count                                          37.000000       \n",
       "mean                                            4.621622       \n",
       "std                                             2.004874       \n",
       "min                                             1.000000       \n",
       "25%                                             3.000000       \n",
       "50%                                             5.000000       \n",
       "75%                                             6.000000       \n",
       "max                                             7.000000       \n",
       "\n",
       "       The game created a new world, and then that world suddenly disappeared when the game ended  \\\n",
       "count                                          37.000000                                            \n",
       "mean                                            5.027027                                            \n",
       "std                                             1.787091                                            \n",
       "min                                             1.000000                                            \n",
       "25%                                             5.000000                                            \n",
       "50%                                             5.000000                                            \n",
       "75%                                             6.000000                                            \n",
       "max                                             7.000000                                            \n",
       "\n",
       "       At times during the game, the story world was closer to me than the real world  \\\n",
       "count                                          37.000000                                \n",
       "mean                                            3.243243                                \n",
       "std                                             2.019425                                \n",
       "min                                             1.000000                                \n",
       "25%                                             1.000000                                \n",
       "50%                                             4.000000                                \n",
       "75%                                             5.000000                                \n",
       "max                                             7.000000                                \n",
       "\n",
       "       I had a hard time keeping my mind on the game  \\\n",
       "count                                      37.000000   \n",
       "mean                                        2.486486   \n",
       "std                                         1.386875   \n",
       "min                                         1.000000   \n",
       "25%                                         2.000000   \n",
       "50%                                         2.000000   \n",
       "75%                                         3.000000   \n",
       "max                                         7.000000   \n",
       "\n",
       "       During the game, my body was in the room, but my mind was inside the world created by the story  \\\n",
       "count                                          37.000000                                                 \n",
       "mean                                            4.189189                                                 \n",
       "std                                             1.697021                                                 \n",
       "min                                             1.000000                                                 \n",
       "25%                                             3.000000                                                 \n",
       "50%                                             5.000000                                                 \n",
       "75%                                             5.000000                                                 \n",
       "max                                             7.000000                                                 \n",
       "\n",
       "       ...  It was easy to get to the places I wanted to go  \\\n",
       "count  ...                                        37.000000   \n",
       "mean   ...                                         4.675676   \n",
       "std    ...                                         2.014586   \n",
       "min    ...                                         1.000000   \n",
       "25%    ...                                         4.000000   \n",
       "50%    ...                                         5.000000   \n",
       "75%    ...                                         6.000000   \n",
       "max    ...                                         7.000000   \n",
       "\n",
       "       I always knew where to go in the environment  \\\n",
       "count                                     37.000000   \n",
       "mean                                       4.945946   \n",
       "std                                        1.665766   \n",
       "min                                        1.000000   \n",
       "25%                                        4.000000   \n",
       "50%                                        5.000000   \n",
       "75%                                        6.000000   \n",
       "max                                        7.000000   \n",
       "\n",
       "       I found the environment boring  \\\n",
       "count                       37.000000   \n",
       "mean                         3.513514   \n",
       "std                          1.693478   \n",
       "min                          1.000000   \n",
       "25%                          2.000000   \n",
       "50%                          3.000000   \n",
       "75%                          5.000000   \n",
       "max                          7.000000   \n",
       "\n",
       "       The atmosphere of the environment suited the narrative  \\\n",
       "count                                          37.000000        \n",
       "mean                                            4.918919        \n",
       "std                                             1.552388        \n",
       "min                                             1.000000        \n",
       "25%                                             4.000000        \n",
       "50%                                             5.000000        \n",
       "75%                                             6.000000        \n",
       "max                                             7.000000        \n",
       "\n",
       "       When I moved around in the environment I felt lost  \\\n",
       "count                                          37.000000    \n",
       "mean                                            2.945946    \n",
       "std                                             1.508236    \n",
       "min                                             1.000000    \n",
       "25%                                             2.000000    \n",
       "50%                                             3.000000    \n",
       "75%                                             4.000000    \n",
       "max                                             6.000000    \n",
       "\n",
       "       I want to continue exploring this environment  Unnamed: 72  \\\n",
       "count                                      37.000000          0.0   \n",
       "mean                                        5.108108          NaN   \n",
       "std                                         1.594849          NaN   \n",
       "min                                         1.000000          NaN   \n",
       "25%                                         5.000000          NaN   \n",
       "50%                                         5.000000          NaN   \n",
       "75%                                         6.000000          NaN   \n",
       "max                                         7.000000          NaN   \n",
       "\n",
       "       What is your age?  How much do you know about creating video games?  \\\n",
       "count          37.000000                                         37.000000   \n",
       "mean           28.918919                                          3.783784   \n",
       "std             7.808039                                          1.973929   \n",
       "min            18.000000                                          1.000000   \n",
       "25%            25.000000                                          2.000000   \n",
       "50%            27.000000                                          4.000000   \n",
       "75%            31.000000                                          5.000000   \n",
       "max            58.000000                                          7.000000   \n",
       "\n",
       "       Unnamed: 78  \n",
       "count          0.0  \n",
       "mean           NaN  \n",
       "std            NaN  \n",
       "min            NaN  \n",
       "25%            NaN  \n",
       "50%            NaN  \n",
       "75%            NaN  \n",
       "max            NaN  \n",
       "\n",
       "[8 rows x 57 columns]"
      ]
     },
     "execution_count": 11,
     "metadata": {},
     "output_type": "execute_result"
    }
   ],
   "source": [
    "control_data.describe()"
   ]
  },
  {
   "cell_type": "code",
   "execution_count": 12,
   "metadata": {},
   "outputs": [
    {
     "data": {
      "text/html": [
       "<div>\n",
       "<style scoped>\n",
       "    .dataframe tbody tr th:only-of-type {\n",
       "        vertical-align: middle;\n",
       "    }\n",
       "\n",
       "    .dataframe tbody tr th {\n",
       "        vertical-align: top;\n",
       "    }\n",
       "\n",
       "    .dataframe thead th {\n",
       "        text-align: right;\n",
       "    }\n",
       "</style>\n",
       "<table border=\"1\" class=\"dataframe\">\n",
       "  <thead>\n",
       "    <tr style=\"text-align: right;\">\n",
       "      <th></th>\n",
       "      <th>#</th>\n",
       "      <th>I found my mind wandering while the game was on</th>\n",
       "      <th>At points, I had a hard time making sense of what was going on in the game</th>\n",
       "      <th>My understanding of the characters is unclear</th>\n",
       "      <th>While the game was on I found myself thinking about other things</th>\n",
       "      <th>I had a hard time recognising the thread of the story</th>\n",
       "      <th>The game created a new world, and then that world suddenly disappeared when the game ended</th>\n",
       "      <th>At times during the game, the story world was closer to me than the real world</th>\n",
       "      <th>I had a hard time keeping my mind on the game</th>\n",
       "      <th>During the game, my body was in the room, but my mind was inside the world created by the story</th>\n",
       "      <th>...</th>\n",
       "      <th>It was easy to get to the places I wanted to go</th>\n",
       "      <th>I always knew where to go in the environment</th>\n",
       "      <th>I found the environment boring</th>\n",
       "      <th>The atmosphere of the environment suited the narrative</th>\n",
       "      <th>When I moved around in the environment I felt lost</th>\n",
       "      <th>I want to continue exploring this environment</th>\n",
       "      <th>Unnamed: 72</th>\n",
       "      <th>What is your age?</th>\n",
       "      <th>How much do you know about creating video games?</th>\n",
       "      <th>Unnamed: 78</th>\n",
       "    </tr>\n",
       "  </thead>\n",
       "  <tbody>\n",
       "    <tr>\n",
       "      <th>count</th>\n",
       "      <td>32.000000</td>\n",
       "      <td>32.000000</td>\n",
       "      <td>32.000000</td>\n",
       "      <td>32.000000</td>\n",
       "      <td>32.00000</td>\n",
       "      <td>32.000000</td>\n",
       "      <td>32.000000</td>\n",
       "      <td>32.00000</td>\n",
       "      <td>32.000000</td>\n",
       "      <td>32.000000</td>\n",
       "      <td>...</td>\n",
       "      <td>32.000000</td>\n",
       "      <td>32.000000</td>\n",
       "      <td>32.000000</td>\n",
       "      <td>32.000000</td>\n",
       "      <td>32.000000</td>\n",
       "      <td>32.00000</td>\n",
       "      <td>0.0</td>\n",
       "      <td>32.000000</td>\n",
       "      <td>32.000000</td>\n",
       "      <td>0.0</td>\n",
       "    </tr>\n",
       "    <tr>\n",
       "      <th>mean</th>\n",
       "      <td>469.000000</td>\n",
       "      <td>3.937500</td>\n",
       "      <td>4.625000</td>\n",
       "      <td>4.625000</td>\n",
       "      <td>2.71875</td>\n",
       "      <td>4.062500</td>\n",
       "      <td>5.312500</td>\n",
       "      <td>3.43750</td>\n",
       "      <td>2.562500</td>\n",
       "      <td>4.562500</td>\n",
       "      <td>...</td>\n",
       "      <td>3.593750</td>\n",
       "      <td>3.937500</td>\n",
       "      <td>3.593750</td>\n",
       "      <td>5.062500</td>\n",
       "      <td>3.375000</td>\n",
       "      <td>4.96875</td>\n",
       "      <td>NaN</td>\n",
       "      <td>28.625000</td>\n",
       "      <td>3.312500</td>\n",
       "      <td>NaN</td>\n",
       "    </tr>\n",
       "    <tr>\n",
       "      <th>std</th>\n",
       "      <td>272.737615</td>\n",
       "      <td>1.812813</td>\n",
       "      <td>1.539795</td>\n",
       "      <td>1.736701</td>\n",
       "      <td>1.41955</td>\n",
       "      <td>1.721543</td>\n",
       "      <td>1.554131</td>\n",
       "      <td>1.79493</td>\n",
       "      <td>1.342542</td>\n",
       "      <td>1.605183</td>\n",
       "      <td>...</td>\n",
       "      <td>2.138124</td>\n",
       "      <td>2.046831</td>\n",
       "      <td>1.583369</td>\n",
       "      <td>1.342542</td>\n",
       "      <td>1.995964</td>\n",
       "      <td>1.73176</td>\n",
       "      <td>NaN</td>\n",
       "      <td>6.078784</td>\n",
       "      <td>1.693203</td>\n",
       "      <td>NaN</td>\n",
       "    </tr>\n",
       "    <tr>\n",
       "      <th>min</th>\n",
       "      <td>78.000000</td>\n",
       "      <td>1.000000</td>\n",
       "      <td>1.000000</td>\n",
       "      <td>2.000000</td>\n",
       "      <td>1.00000</td>\n",
       "      <td>1.000000</td>\n",
       "      <td>2.000000</td>\n",
       "      <td>1.00000</td>\n",
       "      <td>1.000000</td>\n",
       "      <td>1.000000</td>\n",
       "      <td>...</td>\n",
       "      <td>1.000000</td>\n",
       "      <td>1.000000</td>\n",
       "      <td>1.000000</td>\n",
       "      <td>2.000000</td>\n",
       "      <td>1.000000</td>\n",
       "      <td>1.00000</td>\n",
       "      <td>NaN</td>\n",
       "      <td>20.000000</td>\n",
       "      <td>1.000000</td>\n",
       "      <td>NaN</td>\n",
       "    </tr>\n",
       "    <tr>\n",
       "      <th>25%</th>\n",
       "      <td>270.000000</td>\n",
       "      <td>2.000000</td>\n",
       "      <td>4.000000</td>\n",
       "      <td>3.000000</td>\n",
       "      <td>2.00000</td>\n",
       "      <td>3.000000</td>\n",
       "      <td>4.000000</td>\n",
       "      <td>2.00000</td>\n",
       "      <td>2.000000</td>\n",
       "      <td>3.000000</td>\n",
       "      <td>...</td>\n",
       "      <td>2.000000</td>\n",
       "      <td>2.000000</td>\n",
       "      <td>2.750000</td>\n",
       "      <td>4.000000</td>\n",
       "      <td>2.000000</td>\n",
       "      <td>4.00000</td>\n",
       "      <td>NaN</td>\n",
       "      <td>23.750000</td>\n",
       "      <td>2.000000</td>\n",
       "      <td>NaN</td>\n",
       "    </tr>\n",
       "    <tr>\n",
       "      <th>50%</th>\n",
       "      <td>385.500000</td>\n",
       "      <td>4.000000</td>\n",
       "      <td>5.000000</td>\n",
       "      <td>5.000000</td>\n",
       "      <td>2.50000</td>\n",
       "      <td>4.000000</td>\n",
       "      <td>6.000000</td>\n",
       "      <td>4.00000</td>\n",
       "      <td>2.000000</td>\n",
       "      <td>5.000000</td>\n",
       "      <td>...</td>\n",
       "      <td>3.500000</td>\n",
       "      <td>4.000000</td>\n",
       "      <td>3.000000</td>\n",
       "      <td>5.000000</td>\n",
       "      <td>3.000000</td>\n",
       "      <td>5.00000</td>\n",
       "      <td>NaN</td>\n",
       "      <td>28.500000</td>\n",
       "      <td>3.000000</td>\n",
       "      <td>NaN</td>\n",
       "    </tr>\n",
       "    <tr>\n",
       "      <th>75%</th>\n",
       "      <td>697.750000</td>\n",
       "      <td>5.250000</td>\n",
       "      <td>6.000000</td>\n",
       "      <td>6.000000</td>\n",
       "      <td>3.00000</td>\n",
       "      <td>5.000000</td>\n",
       "      <td>6.250000</td>\n",
       "      <td>5.00000</td>\n",
       "      <td>3.000000</td>\n",
       "      <td>6.000000</td>\n",
       "      <td>...</td>\n",
       "      <td>6.000000</td>\n",
       "      <td>6.000000</td>\n",
       "      <td>5.000000</td>\n",
       "      <td>6.000000</td>\n",
       "      <td>5.000000</td>\n",
       "      <td>6.00000</td>\n",
       "      <td>NaN</td>\n",
       "      <td>33.000000</td>\n",
       "      <td>5.000000</td>\n",
       "      <td>NaN</td>\n",
       "    </tr>\n",
       "    <tr>\n",
       "      <th>max</th>\n",
       "      <td>952.000000</td>\n",
       "      <td>7.000000</td>\n",
       "      <td>7.000000</td>\n",
       "      <td>7.000000</td>\n",
       "      <td>6.00000</td>\n",
       "      <td>7.000000</td>\n",
       "      <td>7.000000</td>\n",
       "      <td>6.00000</td>\n",
       "      <td>6.000000</td>\n",
       "      <td>7.000000</td>\n",
       "      <td>...</td>\n",
       "      <td>7.000000</td>\n",
       "      <td>7.000000</td>\n",
       "      <td>7.000000</td>\n",
       "      <td>7.000000</td>\n",
       "      <td>7.000000</td>\n",
       "      <td>7.00000</td>\n",
       "      <td>NaN</td>\n",
       "      <td>43.000000</td>\n",
       "      <td>6.000000</td>\n",
       "      <td>NaN</td>\n",
       "    </tr>\n",
       "  </tbody>\n",
       "</table>\n",
       "<p>8 rows × 57 columns</p>\n",
       "</div>"
      ],
      "text/plain": [
       "                #  I found my mind wandering while the game was on  \\\n",
       "count   32.000000                                        32.000000   \n",
       "mean   469.000000                                         3.937500   \n",
       "std    272.737615                                         1.812813   \n",
       "min     78.000000                                         1.000000   \n",
       "25%    270.000000                                         2.000000   \n",
       "50%    385.500000                                         4.000000   \n",
       "75%    697.750000                                         5.250000   \n",
       "max    952.000000                                         7.000000   \n",
       "\n",
       "       At points, I had a hard time making sense of what was going on in the game  \\\n",
       "count                                          32.000000                            \n",
       "mean                                            4.625000                            \n",
       "std                                             1.539795                            \n",
       "min                                             1.000000                            \n",
       "25%                                             4.000000                            \n",
       "50%                                             5.000000                            \n",
       "75%                                             6.000000                            \n",
       "max                                             7.000000                            \n",
       "\n",
       "       My understanding of the characters is unclear  \\\n",
       "count                                      32.000000   \n",
       "mean                                        4.625000   \n",
       "std                                         1.736701   \n",
       "min                                         2.000000   \n",
       "25%                                         3.000000   \n",
       "50%                                         5.000000   \n",
       "75%                                         6.000000   \n",
       "max                                         7.000000   \n",
       "\n",
       "       While the game was on I found myself thinking about other things  \\\n",
       "count                                           32.00000                  \n",
       "mean                                             2.71875                  \n",
       "std                                              1.41955                  \n",
       "min                                              1.00000                  \n",
       "25%                                              2.00000                  \n",
       "50%                                              2.50000                  \n",
       "75%                                              3.00000                  \n",
       "max                                              6.00000                  \n",
       "\n",
       "       I had a hard time recognising the thread of the story  \\\n",
       "count                                          32.000000       \n",
       "mean                                            4.062500       \n",
       "std                                             1.721543       \n",
       "min                                             1.000000       \n",
       "25%                                             3.000000       \n",
       "50%                                             4.000000       \n",
       "75%                                             5.000000       \n",
       "max                                             7.000000       \n",
       "\n",
       "       The game created a new world, and then that world suddenly disappeared when the game ended  \\\n",
       "count                                          32.000000                                            \n",
       "mean                                            5.312500                                            \n",
       "std                                             1.554131                                            \n",
       "min                                             2.000000                                            \n",
       "25%                                             4.000000                                            \n",
       "50%                                             6.000000                                            \n",
       "75%                                             6.250000                                            \n",
       "max                                             7.000000                                            \n",
       "\n",
       "       At times during the game, the story world was closer to me than the real world  \\\n",
       "count                                           32.00000                                \n",
       "mean                                             3.43750                                \n",
       "std                                              1.79493                                \n",
       "min                                              1.00000                                \n",
       "25%                                              2.00000                                \n",
       "50%                                              4.00000                                \n",
       "75%                                              5.00000                                \n",
       "max                                              6.00000                                \n",
       "\n",
       "       I had a hard time keeping my mind on the game  \\\n",
       "count                                      32.000000   \n",
       "mean                                        2.562500   \n",
       "std                                         1.342542   \n",
       "min                                         1.000000   \n",
       "25%                                         2.000000   \n",
       "50%                                         2.000000   \n",
       "75%                                         3.000000   \n",
       "max                                         6.000000   \n",
       "\n",
       "       During the game, my body was in the room, but my mind was inside the world created by the story  \\\n",
       "count                                          32.000000                                                 \n",
       "mean                                            4.562500                                                 \n",
       "std                                             1.605183                                                 \n",
       "min                                             1.000000                                                 \n",
       "25%                                             3.000000                                                 \n",
       "50%                                             5.000000                                                 \n",
       "75%                                             6.000000                                                 \n",
       "max                                             7.000000                                                 \n",
       "\n",
       "       ...  It was easy to get to the places I wanted to go  \\\n",
       "count  ...                                        32.000000   \n",
       "mean   ...                                         3.593750   \n",
       "std    ...                                         2.138124   \n",
       "min    ...                                         1.000000   \n",
       "25%    ...                                         2.000000   \n",
       "50%    ...                                         3.500000   \n",
       "75%    ...                                         6.000000   \n",
       "max    ...                                         7.000000   \n",
       "\n",
       "       I always knew where to go in the environment  \\\n",
       "count                                     32.000000   \n",
       "mean                                       3.937500   \n",
       "std                                        2.046831   \n",
       "min                                        1.000000   \n",
       "25%                                        2.000000   \n",
       "50%                                        4.000000   \n",
       "75%                                        6.000000   \n",
       "max                                        7.000000   \n",
       "\n",
       "       I found the environment boring  \\\n",
       "count                       32.000000   \n",
       "mean                         3.593750   \n",
       "std                          1.583369   \n",
       "min                          1.000000   \n",
       "25%                          2.750000   \n",
       "50%                          3.000000   \n",
       "75%                          5.000000   \n",
       "max                          7.000000   \n",
       "\n",
       "       The atmosphere of the environment suited the narrative  \\\n",
       "count                                          32.000000        \n",
       "mean                                            5.062500        \n",
       "std                                             1.342542        \n",
       "min                                             2.000000        \n",
       "25%                                             4.000000        \n",
       "50%                                             5.000000        \n",
       "75%                                             6.000000        \n",
       "max                                             7.000000        \n",
       "\n",
       "       When I moved around in the environment I felt lost  \\\n",
       "count                                          32.000000    \n",
       "mean                                            3.375000    \n",
       "std                                             1.995964    \n",
       "min                                             1.000000    \n",
       "25%                                             2.000000    \n",
       "50%                                             3.000000    \n",
       "75%                                             5.000000    \n",
       "max                                             7.000000    \n",
       "\n",
       "       I want to continue exploring this environment  Unnamed: 72  \\\n",
       "count                                       32.00000          0.0   \n",
       "mean                                         4.96875          NaN   \n",
       "std                                          1.73176          NaN   \n",
       "min                                          1.00000          NaN   \n",
       "25%                                          4.00000          NaN   \n",
       "50%                                          5.00000          NaN   \n",
       "75%                                          6.00000          NaN   \n",
       "max                                          7.00000          NaN   \n",
       "\n",
       "       What is your age?  How much do you know about creating video games?  \\\n",
       "count          32.000000                                         32.000000   \n",
       "mean           28.625000                                          3.312500   \n",
       "std             6.078784                                          1.693203   \n",
       "min            20.000000                                          1.000000   \n",
       "25%            23.750000                                          2.000000   \n",
       "50%            28.500000                                          3.000000   \n",
       "75%            33.000000                                          5.000000   \n",
       "max            43.000000                                          6.000000   \n",
       "\n",
       "       Unnamed: 78  \n",
       "count          0.0  \n",
       "mean           NaN  \n",
       "std            NaN  \n",
       "min            NaN  \n",
       "25%            NaN  \n",
       "50%            NaN  \n",
       "75%            NaN  \n",
       "max            NaN  \n",
       "\n",
       "[8 rows x 57 columns]"
      ]
     },
     "execution_count": 12,
     "metadata": {},
     "output_type": "execute_result"
    }
   ],
   "source": [
    "experimental_data.describe()"
   ]
  },
  {
   "cell_type": "markdown",
   "metadata": {},
   "source": [
    "## List of headers"
   ]
  },
  {
   "cell_type": "code",
   "execution_count": 13,
   "metadata": {},
   "outputs": [
    {
     "data": {
      "text/plain": [
       "['Timestamp',\n",
       " 'Unnamed: 1',\n",
       " '#',\n",
       " 'Do you agree that we can store your data anonymously and only for use in the context of this particular thesis?',\n",
       " 'I found my mind wandering while the game was on',\n",
       " 'At points, I had a hard time making sense of what was going on in the game',\n",
       " 'My understanding of the characters is unclear',\n",
       " 'While the game was on I found myself thinking about other things',\n",
       " 'I had a hard time recognising the thread of the story',\n",
       " 'The game created a new world, and then that world suddenly disappeared when the game ended',\n",
       " 'At times during the game, the story world was closer to me than the real world',\n",
       " 'I had a hard time keeping my mind on the game',\n",
       " 'During the game, my body was in the room, but my mind was inside the world created by the story',\n",
       " 'I would like to play this game again',\n",
       " 'Unnamed: 14',\n",
       " 'I did not experience any narrative progression',\n",
       " 'At the end, I knew more about the narrative than when I began',\n",
       " 'I was more interested in the narrative at the beginning than the end',\n",
       " 'I became less and less interested in the narrative as it progressed',\n",
       " 'My attention towards the narrative increased over time',\n",
       " 'At no point did I find the narrative interesting',\n",
       " 'Unnamed: 21',\n",
       " 'Why is the island hidden on maps?',\n",
       " 'Binary Code',\n",
       " 'Why is the island hidden on maps?.1',\n",
       " 'Original Code',\n",
       " 'Binary Code.1',\n",
       " 'Is there anyone else on the island?',\n",
       " 'Binary Code.2',\n",
       " 'Is there anyone else on the island?.1',\n",
       " 'Original Code.1',\n",
       " 'Binary Code.3',\n",
       " 'Where did the skeletons come from?',\n",
       " 'Binary Code.4',\n",
       " 'Where did the skeletons come from?.1',\n",
       " 'Original Code.2',\n",
       " 'Binary Code.5',\n",
       " 'Who built the radio tower?',\n",
       " 'Binary Code.6',\n",
       " 'Who built the radio tower?.1',\n",
       " 'Original Code.3',\n",
       " 'Binary Code.7',\n",
       " 'Where are the ones who built the radio tower now?',\n",
       " 'Binary Code.8',\n",
       " 'Where are the ones who built the radio tower now?.1',\n",
       " 'Original Code.4',\n",
       " 'Binary Code.9',\n",
       " 'Why is so much stuff left on the island?',\n",
       " 'Binary Code.10',\n",
       " 'Why is so much stuff left on the island?.1',\n",
       " 'Original Code.5',\n",
       " 'Binary Code.11',\n",
       " 'Who killed the former inhabitants on the island?',\n",
       " 'Binary Code.12',\n",
       " 'Who killed the former inhabitants on the island?.1',\n",
       " 'Original Code.6',\n",
       " 'Binary Code.13',\n",
       " 'Who set fire to your boat?',\n",
       " 'Binary Code.14',\n",
       " 'Who set fire to your boat?.1',\n",
       " 'Original Code.7',\n",
       " 'Binary Code.15',\n",
       " 'Unnamed: 62',\n",
       " 'I was not able to navigate between two points in the environment',\n",
       " 'The narrative did not feel well suited to this environment',\n",
       " 'I was curious to explore the environment',\n",
       " 'It was easy to get to the places I wanted to go',\n",
       " 'I always knew where to go in the environment',\n",
       " 'I found the environment boring',\n",
       " 'The atmosphere of the environment suited the narrative',\n",
       " 'When I moved around in the environment I felt lost',\n",
       " 'I want to continue exploring this environment',\n",
       " 'Unnamed: 72',\n",
       " 'What is your age?',\n",
       " 'What is your gender?',\n",
       " 'How often do you play video games?',\n",
       " 'How would you classify yourself as a player based on the definitions in this table of player types?',\n",
       " 'How much do you know about creating video games?',\n",
       " 'Unnamed: 78',\n",
       " 'Do you have any comments about the performance of the game? (e.g. frame rate issues, loading times, graphical bugs etc)',\n",
       " 'Do you have any additional comments or feedback on the game or this questionnaire?']"
      ]
     },
     "execution_count": 13,
     "metadata": {},
     "output_type": "execute_result"
    }
   ],
   "source": [
    "list(control_data.columns.values)"
   ]
  },
  {
   "cell_type": "markdown",
   "metadata": {},
   "source": [
    "# Test Plan\n",
    "## Engagement\n",
    "- Narrative Understanding - 3 items - t-Test\n",
    "- Attentional focus - 3 items - t-Test\n",
    "- Narrative Presence - 3 items - t-Test\n",
    "- I would lke to play this game again - 1 item - Mann Whitney U\n",
    "\n",
    "## Tension\n",
    "6 items - t-Test\n",
    "\n",
    "## Narrative Coherency\n",
    "binary coding, only concerned with frequency (i.e. understood or didn't understand)\n",
    "Chi Square\n",
    "\n",
    "## PCG Environment\n",
    "Mann Whitney on Each item\n",
    "\n",
    "__reference for using t-test on Likert Items:__\n",
    "https://www.researchgate.net/post/Is_it_appropriate_to_use_Mann_Whitney_U_test_to_compare_between_two_unrelated_groups_unequal_no_of_participants_where_response_is_in_likert_scale"
   ]
  },
  {
   "cell_type": "markdown",
   "metadata": {},
   "source": [
    "## Narrative Engagement"
   ]
  },
  {
   "cell_type": "code",
   "execution_count": 14,
   "metadata": {},
   "outputs": [],
   "source": [
    "narrative_understanding = [\n",
    "    'At points, I had a hard time making sense of what was going on in the game',\n",
    "    'My understanding of the characters is unclear',\n",
    "    'I had a hard time recognising the thread of the story']\n",
    "attentional_focus = [\n",
    "    'I found my mind wandering while the game was on',\n",
    "    'While the game was on I found myself thinking about other things',\n",
    "    'I had a hard time keeping my mind on the game']\n",
    "narrative_presence = [\n",
    "    'During the game, my body was in the room, but my mind was inside the world created by the story',\n",
    "    'The game created a new world, and then that world suddenly disappeared when the game ended',\n",
    "    'At times during the game, the story world was closer to me than the real world'\n",
    "]\n",
    "play_again = ['I would like to play this game again']"
   ]
  },
  {
   "cell_type": "code",
   "execution_count": 15,
   "metadata": {},
   "outputs": [],
   "source": [
    "x_understanding = np.subtract(8, control_data[narrative_understanding].to_numpy())\n",
    "y_understanding = np.subtract(8, experimental_data[narrative_understanding].to_numpy())\n",
    "\n",
    "x_attention = np.subtract(8, control_data[attentional_focus].to_numpy())\n",
    "y_attention = np.subtract(8, experimental_data[attentional_focus].to_numpy())\n",
    "\n",
    "x_presence = control_data[narrative_presence].to_numpy()\n",
    "y_presence = experimental_data[narrative_presence].to_numpy()"
   ]
  },
  {
   "cell_type": "code",
   "execution_count": 16,
   "metadata": {},
   "outputs": [],
   "source": [
    "x_log = np.log(x_understanding)\n",
    "y_log = np.log(y_understanding)"
   ]
  },
  {
   "cell_type": "markdown",
   "metadata": {},
   "source": [
    "### Andersen-Darling\n",
    "\n",
    "Before determining if we can use a t-test, first we much see if the data is normally distributed using the Anderson-Darling test, using ```scipy.stats.anderson```\n",
    "https://docs.scipy.org/doc/scipy/reference/generated/scipy.stats.anderson.html.\n",
    "\n",
    "If the returned statistic is larger than these critical values then for the corresponding significance level, the null hypothesis that the data come from the chosen distribution can be rejected. The returned statistic is referred to as ‘A2’ in the references.\n",
    "\n",
    "https://www.itl.nist.gov/div898/handbook/eda/section3/eda35e.htm"
   ]
  },
  {
   "cell_type": "code",
   "execution_count": 17,
   "metadata": {},
   "outputs": [
    {
     "data": {
      "text/plain": [
       "AndersonResult(statistic=0.8500576725775346, critical_values=array([0.529, 0.602, 0.722, 0.842, 1.002]), significance_level=array([15. , 10. ,  5. ,  2.5,  1. ]))"
      ]
     },
     "execution_count": 17,
     "metadata": {},
     "output_type": "execute_result"
    }
   ],
   "source": [
    "stats.anderson(x_understanding[:, 0], dist='norm')"
   ]
  },
  {
   "cell_type": "code",
   "execution_count": 18,
   "metadata": {},
   "outputs": [
    {
     "data": {
      "text/plain": [
       "AndersonResult(statistic=1.574740412570982, critical_values=array([0.529, 0.602, 0.722, 0.842, 1.002]), significance_level=array([15. , 10. ,  5. ,  2.5,  1. ]))"
      ]
     },
     "execution_count": 18,
     "metadata": {},
     "output_type": "execute_result"
    }
   ],
   "source": [
    "stats.anderson(x_log[:, 0], dist='norm')"
   ]
  },
  {
   "cell_type": "code",
   "execution_count": 19,
   "metadata": {},
   "outputs": [],
   "source": [
    "def histogram_data(title, data, log_data, labels):\n",
    "#    fig1, (ax1, ax2) = plt.subplots(1, 2, sharey=True)\n",
    "    plt.figure()\n",
    "    plt.title(title)\n",
    "\n",
    "    #plt.style.use('seaborn-deep')\n",
    "    bins = np.linspace(1, 7)\n",
    "    plt.hist([data, log_data], bins, label=labels)\n",
    "    plt.legend(loc='upper right')\n",
    "    plt.show()\n"
   ]
  },
  {
   "cell_type": "code",
   "execution_count": 20,
   "metadata": {},
   "outputs": [],
   "source": [
    "def is_normal(data, log_data, titles):\n",
    "    for i in range(len(titles)):\n",
    "        print('Original Data:')\n",
    "        stat, values, sig = stats.anderson(data[:,i])\n",
    "        print(f\"\\tTest Statistic: {stat}\\n\\tCritical values: {values}\\n\\tSignificance levels: {sig}\")\n",
    "\n",
    "        if stat > values[2]:\n",
    "            print(\"not normally distributed\")\n",
    "        else: \n",
    "            print(\"normally distributed\")\n",
    "\n",
    "        print('Log Transformed Data:')\n",
    "        stat, values, sig = stats.anderson(data[:,i])\n",
    "        print(f\"\\tTest Statistic: {stat}\\n\\tCritical values: {values}\\n\\tSignificance levels: {sig}\")\n",
    "\n",
    "        if stat > values[2]:\n",
    "            print(\"not normally distributed\")\n",
    "        else: \n",
    "            print(\"normally distributed\")\n",
    "        labels = ['Original', 'Log-Transformed']\n",
    "        histogram_data(titles[i], data[:, i], log_data[:, i], labels)"
   ]
  },
  {
   "cell_type": "code",
   "execution_count": 21,
   "metadata": {},
   "outputs": [],
   "source": [
    "numBins = 20\n",
    "colors = ['red', 'green', 'blue']"
   ]
  },
  {
   "cell_type": "markdown",
   "metadata": {},
   "source": [
    "### Narrative Understanding - Control"
   ]
  },
  {
   "cell_type": "code",
   "execution_count": 22,
   "metadata": {
    "scrolled": true
   },
   "outputs": [
    {
     "name": "stdout",
     "output_type": "stream",
     "text": [
      "Original Data:\n",
      "\tTest Statistic: 0.8500576725775346\n",
      "\tCritical values: [0.529 0.602 0.722 0.842 1.002]\n",
      "\tSignificance levels: [15.  10.   5.   2.5  1. ]\n",
      "not normally distributed\n",
      "Log Transformed Data:\n",
      "\tTest Statistic: 0.8500576725775346\n",
      "\tCritical values: [0.529 0.602 0.722 0.842 1.002]\n",
      "\tSignificance levels: [15.  10.   5.   2.5  1. ]\n",
      "not normally distributed\n"
     ]
    },
    {
     "data": {
      "image/png": "[encoded data removed]",
      "text/plain": [
       "<Figure size 432x288 with 1 Axes>"
      ]
     },
     "metadata": {
      "needs_background": "light"
     },
     "output_type": "display_data"
    },
    {
     "name": "stdout",
     "output_type": "stream",
     "text": [
      "Original Data:\n",
      "\tTest Statistic: 1.2648860454238715\n",
      "\tCritical values: [0.529 0.602 0.722 0.842 1.002]\n",
      "\tSignificance levels: [15.  10.   5.   2.5  1. ]\n",
      "not normally distributed\n",
      "Log Transformed Data:\n",
      "\tTest Statistic: 1.2648860454238715\n",
      "\tCritical values: [0.529 0.602 0.722 0.842 1.002]\n",
      "\tSignificance levels: [15.  10.   5.   2.5  1. ]\n",
      "not normally distributed\n"
     ]
    },
    {
     "data": {
      "image/png": "[encoded data removed]",
      "text/plain": [
       "<Figure size 432x288 with 1 Axes>"
      ]
     },
     "metadata": {
      "needs_background": "light"
     },
     "output_type": "display_data"
    },
    {
     "name": "stdout",
     "output_type": "stream",
     "text": [
      "Original Data:\n",
      "\tTest Statistic: 1.5185416844540995\n",
      "\tCritical values: [0.529 0.602 0.722 0.842 1.002]\n",
      "\tSignificance levels: [15.  10.   5.   2.5  1. ]\n",
      "not normally distributed\n",
      "Log Transformed Data:\n",
      "\tTest Statistic: 1.5185416844540995\n",
      "\tCritical values: [0.529 0.602 0.722 0.842 1.002]\n",
      "\tSignificance levels: [15.  10.   5.   2.5  1. ]\n",
      "not normally distributed\n"
     ]
    },
    {
     "data": {
      "image/png": "[encoded data removed]",
      "text/plain": [
       "<Figure size 432x288 with 1 Axes>"
      ]
     },
     "metadata": {
      "needs_background": "light"
     },
     "output_type": "display_data"
    }
   ],
   "source": [
    "is_normal(x_understanding, x_log, narrative_understanding)"
   ]
  },
  {
   "cell_type": "markdown",
   "metadata": {},
   "source": [
    "### Narrative Understanding - Experimental"
   ]
  },
  {
   "cell_type": "code",
   "execution_count": 23,
   "metadata": {
    "scrolled": true
   },
   "outputs": [
    {
     "name": "stdout",
     "output_type": "stream",
     "text": [
      "Original Data:\n",
      "\tTest Statistic: 0.811078100545636\n",
      "\tCritical values: [0.523 0.596 0.715 0.834 0.992]\n",
      "\tSignificance levels: [15.  10.   5.   2.5  1. ]\n",
      "not normally distributed\n",
      "Log Transformed Data:\n",
      "\tTest Statistic: 0.811078100545636\n",
      "\tCritical values: [0.523 0.596 0.715 0.834 0.992]\n",
      "\tSignificance levels: [15.  10.   5.   2.5  1. ]\n",
      "not normally distributed\n"
     ]
    },
    {
     "data": {
      "image/png": "[encoded data removed]",
      "text/plain": [
       "<Figure size 432x288 with 1 Axes>"
      ]
     },
     "metadata": {
      "needs_background": "light"
     },
     "output_type": "display_data"
    },
    {
     "name": "stdout",
     "output_type": "stream",
     "text": [
      "Original Data:\n",
      "\tTest Statistic: 1.2053311843735344\n",
      "\tCritical values: [0.523 0.596 0.715 0.834 0.992]\n",
      "\tSignificance levels: [15.  10.   5.   2.5  1. ]\n",
      "not normally distributed\n",
      "Log Transformed Data:\n",
      "\tTest Statistic: 1.2053311843735344\n",
      "\tCritical values: [0.523 0.596 0.715 0.834 0.992]\n",
      "\tSignificance levels: [15.  10.   5.   2.5  1. ]\n",
      "not normally distributed\n"
     ]
    },
    {
     "data": {
      "image/png": "[encoded data removed]",
      "text/plain": [
       "<Figure size 432x288 with 1 Axes>"
      ]
     },
     "metadata": {
      "needs_background": "light"
     },
     "output_type": "display_data"
    },
    {
     "name": "stdout",
     "output_type": "stream",
     "text": [
      "Original Data:\n",
      "\tTest Statistic: 0.5376803710377871\n",
      "\tCritical values: [0.523 0.596 0.715 0.834 0.992]\n",
      "\tSignificance levels: [15.  10.   5.   2.5  1. ]\n",
      "normally distributed\n",
      "Log Transformed Data:\n",
      "\tTest Statistic: 0.5376803710377871\n",
      "\tCritical values: [0.523 0.596 0.715 0.834 0.992]\n",
      "\tSignificance levels: [15.  10.   5.   2.5  1. ]\n",
      "normally distributed\n"
     ]
    },
    {
     "data": {
      "image/png": "[encoded data removed]",
      "text/plain": [
       "<Figure size 432x288 with 1 Axes>"
      ]
     },
     "metadata": {
      "needs_background": "light"
     },
     "output_type": "display_data"
    }
   ],
   "source": [
    "is_normal(y_understanding, y_log, narrative_understanding)"
   ]
  },
  {
   "cell_type": "markdown",
   "metadata": {},
   "source": [
    "### Attentional Focus - Control"
   ]
  },
  {
   "cell_type": "code",
   "execution_count": null,
   "metadata": {},
   "outputs": [],
   "source": [
    "x_log = np.log(x_attention)\n",
    "y_log = np.log(y_attention)"
   ]
  },
  {
   "cell_type": "code",
   "execution_count": 25,
   "metadata": {
    "scrolled": true
   },
   "outputs": [
    {
     "name": "stdout",
     "output_type": "stream",
     "text": [
      "Original Data:\n",
      "\tTest Statistic: 0.9351087232090833\n",
      "\tCritical values: [0.529 0.602 0.722 0.842 1.002]\n",
      "\tSignificance levels: [15.  10.   5.   2.5  1. ]\n",
      "not normally distributed\n",
      "Log Transformed Data:\n",
      "\tTest Statistic: 0.9351087232090833\n",
      "\tCritical values: [0.529 0.602 0.722 0.842 1.002]\n",
      "\tSignificance levels: [15.  10.   5.   2.5  1. ]\n",
      "not normally distributed\n"
     ]
    },
    {
     "data": {
      "image/png": "[encoded data removed]",
      "text/plain": [
       "<Figure size 432x288 with 1 Axes>"
      ]
     },
     "metadata": {
      "needs_background": "light"
     },
     "output_type": "display_data"
    },
    {
     "name": "stdout",
     "output_type": "stream",
     "text": [
      "Original Data:\n",
      "\tTest Statistic: 0.9963399874484793\n",
      "\tCritical values: [0.529 0.602 0.722 0.842 1.002]\n",
      "\tSignificance levels: [15.  10.   5.   2.5  1. ]\n",
      "not normally distributed\n",
      "Log Transformed Data:\n",
      "\tTest Statistic: 0.9963399874484793\n",
      "\tCritical values: [0.529 0.602 0.722 0.842 1.002]\n",
      "\tSignificance levels: [15.  10.   5.   2.5  1. ]\n",
      "not normally distributed\n"
     ]
    },
    {
     "data": {
      "image/png": "[encoded data removed]",
      "text/plain": [
       "<Figure size 432x288 with 1 Axes>"
      ]
     },
     "metadata": {
      "needs_background": "light"
     },
     "output_type": "display_data"
    },
    {
     "name": "stdout",
     "output_type": "stream",
     "text": [
      "Original Data:\n",
      "\tTest Statistic: 2.2642643967872047\n",
      "\tCritical values: [0.529 0.602 0.722 0.842 1.002]\n",
      "\tSignificance levels: [15.  10.   5.   2.5  1. ]\n",
      "not normally distributed\n",
      "Log Transformed Data:\n",
      "\tTest Statistic: 2.2642643967872047\n",
      "\tCritical values: [0.529 0.602 0.722 0.842 1.002]\n",
      "\tSignificance levels: [15.  10.   5.   2.5  1. ]\n",
      "not normally distributed\n"
     ]
    },
    {
     "data": {
      "image/png": "[encoded data removed]",
      "text/plain": [
       "<Figure size 432x288 with 1 Axes>"
      ]
     },
     "metadata": {
      "needs_background": "light"
     },
     "output_type": "display_data"
    }
   ],
   "source": [
    "is_normal(x_attention, x_log, attentional_focus)"
   ]
  },
  {
   "cell_type": "markdown",
   "metadata": {},
   "source": [
    "### Attentional Focus - Control"
   ]
  },
  {
   "cell_type": "code",
   "execution_count": 26,
   "metadata": {
    "scrolled": true
   },
   "outputs": [
    {
     "name": "stdout",
     "output_type": "stream",
     "text": [
      "Original Data:\n",
      "\tTest Statistic: 1.1088696706544567\n",
      "\tCritical values: [0.523 0.596 0.715 0.834 0.992]\n",
      "\tSignificance levels: [15.  10.   5.   2.5  1. ]\n",
      "not normally distributed\n",
      "Log Transformed Data:\n",
      "\tTest Statistic: 1.1088696706544567\n",
      "\tCritical values: [0.523 0.596 0.715 0.834 0.992]\n",
      "\tSignificance levels: [15.  10.   5.   2.5  1. ]\n",
      "not normally distributed\n"
     ]
    },
    {
     "data": {
      "image/png": "[encoded data removed]",
      "text/plain": [
       "<Figure size 432x288 with 1 Axes>"
      ]
     },
     "metadata": {
      "needs_background": "light"
     },
     "output_type": "display_data"
    },
    {
     "name": "stdout",
     "output_type": "stream",
     "text": [
      "Original Data:\n",
      "\tTest Statistic: 1.5559830835137376\n",
      "\tCritical values: [0.523 0.596 0.715 0.834 0.992]\n",
      "\tSignificance levels: [15.  10.   5.   2.5  1. ]\n",
      "not normally distributed\n",
      "Log Transformed Data:\n",
      "\tTest Statistic: 1.5559830835137376\n",
      "\tCritical values: [0.523 0.596 0.715 0.834 0.992]\n",
      "\tSignificance levels: [15.  10.   5.   2.5  1. ]\n",
      "not normally distributed\n"
     ]
    },
    {
     "data": {
      "image/png": "[encoded data removed]",
      "text/plain": [
       "<Figure size 432x288 with 1 Axes>"
      ]
     },
     "metadata": {
      "needs_background": "light"
     },
     "output_type": "display_data"
    },
    {
     "name": "stdout",
     "output_type": "stream",
     "text": [
      "Original Data:\n",
      "\tTest Statistic: 2.4278405511187486\n",
      "\tCritical values: [0.523 0.596 0.715 0.834 0.992]\n",
      "\tSignificance levels: [15.  10.   5.   2.5  1. ]\n",
      "not normally distributed\n",
      "Log Transformed Data:\n",
      "\tTest Statistic: 2.4278405511187486\n",
      "\tCritical values: [0.523 0.596 0.715 0.834 0.992]\n",
      "\tSignificance levels: [15.  10.   5.   2.5  1. ]\n",
      "not normally distributed\n"
     ]
    },
    {
     "data": {
      "image/png": "[encoded data removed]",
      "text/plain": [
       "<Figure size 432x288 with 1 Axes>"
      ]
     },
     "metadata": {
      "needs_background": "light"
     },
     "output_type": "display_data"
    }
   ],
   "source": [
    "is_normal(y_attention, x_log, attentional_focus)"
   ]
  },
  {
   "cell_type": "markdown",
   "metadata": {},
   "source": [
    "### Narrative Presence - Control"
   ]
  },
  {
   "cell_type": "code",
   "execution_count": 27,
   "metadata": {},
   "outputs": [],
   "source": [
    "x_log = np.log(x_presence)\n",
    "y_log = np.log(y_presence)"
   ]
  },
  {
   "cell_type": "code",
   "execution_count": 28,
   "metadata": {
    "scrolled": true
   },
   "outputs": [
    {
     "name": "stdout",
     "output_type": "stream",
     "text": [
      "Original Data:\n",
      "\tTest Statistic: 1.7287126510930904\n",
      "\tCritical values: [0.529 0.602 0.722 0.842 1.002]\n",
      "\tSignificance levels: [15.  10.   5.   2.5  1. ]\n",
      "not normally distributed\n",
      "Log Transformed Data:\n",
      "\tTest Statistic: 1.7287126510930904\n",
      "\tCritical values: [0.529 0.602 0.722 0.842 1.002]\n",
      "\tSignificance levels: [15.  10.   5.   2.5  1. ]\n",
      "not normally distributed\n"
     ]
    },
    {
     "data": {
      "image/png": "[encoded data removed]",
      "text/plain": [
       "<Figure size 432x288 with 1 Axes>"
      ]
     },
     "metadata": {
      "needs_background": "light"
     },
     "output_type": "display_data"
    },
    {
     "name": "stdout",
     "output_type": "stream",
     "text": [
      "Original Data:\n",
      "\tTest Statistic: 2.043962438556754\n",
      "\tCritical values: [0.529 0.602 0.722 0.842 1.002]\n",
      "\tSignificance levels: [15.  10.   5.   2.5  1. ]\n",
      "not normally distributed\n",
      "Log Transformed Data:\n",
      "\tTest Statistic: 2.043962438556754\n",
      "\tCritical values: [0.529 0.602 0.722 0.842 1.002]\n",
      "\tSignificance levels: [15.  10.   5.   2.5  1. ]\n",
      "not normally distributed\n"
     ]
    },
    {
     "data": {
      "image/png": "[encoded data removed]",
      "text/plain": [
       "<Figure size 432x288 with 1 Axes>"
      ]
     },
     "metadata": {
      "needs_background": "light"
     },
     "output_type": "display_data"
    },
    {
     "name": "stdout",
     "output_type": "stream",
     "text": [
      "Original Data:\n",
      "\tTest Statistic: 1.9567815919714988\n",
      "\tCritical values: [0.529 0.602 0.722 0.842 1.002]\n",
      "\tSignificance levels: [15.  10.   5.   2.5  1. ]\n",
      "not normally distributed\n",
      "Log Transformed Data:\n",
      "\tTest Statistic: 1.9567815919714988\n",
      "\tCritical values: [0.529 0.602 0.722 0.842 1.002]\n",
      "\tSignificance levels: [15.  10.   5.   2.5  1. ]\n",
      "not normally distributed\n"
     ]
    },
    {
     "data": {
      "image/png": "[encoded data removed]",
      "text/plain": [
       "<Figure size 432x288 with 1 Axes>"
      ]
     },
     "metadata": {
      "needs_background": "light"
     },
     "output_type": "display_data"
    }
   ],
   "source": [
    "is_normal(x_presence, x_log, narrative_presence)"
   ]
  },
  {
   "cell_type": "markdown",
   "metadata": {},
   "source": [
    "### Narrative Presence - Control"
   ]
  },
  {
   "cell_type": "code",
   "execution_count": 29,
   "metadata": {
    "scrolled": true
   },
   "outputs": [
    {
     "name": "stdout",
     "output_type": "stream",
     "text": [
      "Original Data:\n",
      "\tTest Statistic: 0.8501614119890775\n",
      "\tCritical values: [0.523 0.596 0.715 0.834 0.992]\n",
      "\tSignificance levels: [15.  10.   5.   2.5  1. ]\n",
      "not normally distributed\n",
      "Log Transformed Data:\n",
      "\tTest Statistic: 0.8501614119890775\n",
      "\tCritical values: [0.523 0.596 0.715 0.834 0.992]\n",
      "\tSignificance levels: [15.  10.   5.   2.5  1. ]\n",
      "not normally distributed\n"
     ]
    },
    {
     "data": {
      "image/png": "[encoded data removed]",
      "text/plain": [
       "<Figure size 432x288 with 1 Axes>"
      ]
     },
     "metadata": {
      "needs_background": "light"
     },
     "output_type": "display_data"
    },
    {
     "name": "stdout",
     "output_type": "stream",
     "text": [
      "Original Data:\n",
      "\tTest Statistic: 1.4288947617093086\n",
      "\tCritical values: [0.523 0.596 0.715 0.834 0.992]\n",
      "\tSignificance levels: [15.  10.   5.   2.5  1. ]\n",
      "not normally distributed\n",
      "Log Transformed Data:\n",
      "\tTest Statistic: 1.4288947617093086\n",
      "\tCritical values: [0.523 0.596 0.715 0.834 0.992]\n",
      "\tSignificance levels: [15.  10.   5.   2.5  1. ]\n",
      "not normally distributed\n"
     ]
    },
    {
     "data": {
      "image/png": "[encoded data removed]",
      "text/plain": [
       "<Figure size 432x288 with 1 Axes>"
      ]
     },
     "metadata": {
      "needs_background": "light"
     },
     "output_type": "display_data"
    },
    {
     "name": "stdout",
     "output_type": "stream",
     "text": [
      "Original Data:\n",
      "\tTest Statistic: 2.070328367099428\n",
      "\tCritical values: [0.523 0.596 0.715 0.834 0.992]\n",
      "\tSignificance levels: [15.  10.   5.   2.5  1. ]\n",
      "not normally distributed\n",
      "Log Transformed Data:\n",
      "\tTest Statistic: 2.070328367099428\n",
      "\tCritical values: [0.523 0.596 0.715 0.834 0.992]\n",
      "\tSignificance levels: [15.  10.   5.   2.5  1. ]\n",
      "not normally distributed\n"
     ]
    },
    {
     "data": {
      "image/png": "[encoded data removed]",
      "text/plain": [
       "<Figure size 432x288 with 1 Axes>"
      ]
     },
     "metadata": {
      "needs_background": "light"
     },
     "output_type": "display_data"
    }
   ],
   "source": [
    "is_normal(y_presence, x_log, narrative_presence)"
   ]
  },
  {
   "cell_type": "markdown",
   "metadata": {},
   "source": [
    "## Mann Whitney's U\n",
    "\n",
    "Based on the above results, it can be determined that the data is non-parametric without needing to use Levene's test to check for equal variance. As such, this section will progress by using Mann Whitney's U in place of an independant t-test."
   ]
  },
  {
   "cell_type": "code",
   "execution_count": 163,
   "metadata": {},
   "outputs": [
    {
     "name": "stdout",
     "output_type": "stream",
     "text": [
      "Statistics=467.000, p=0.066\n",
      "Same distribution (fail to reject H0)\n"
     ]
    }
   ],
   "source": [
    "x_total_understanding = np.sum(x_understanding, axis=1)\n",
    "y_total_understanding = np.sum(y_understanding, axis=1)\n",
    "\n",
    "significant, stat, p = mann_whitney(x_total_understanding, y_total_understanding)"
   ]
  },
  {
   "cell_type": "code",
   "execution_count": 164,
   "metadata": {},
   "outputs": [
    {
     "data": {
      "text/plain": [
       "AndersonResult(statistic=0.7499008913187168, critical_values=array([0.529, 0.602, 0.722, 0.842, 1.002]), significance_level=array([15. , 10. ,  5. ,  2.5,  1. ]))"
      ]
     },
     "execution_count": 164,
     "metadata": {},
     "output_type": "execute_result"
    }
   ],
   "source": [
    "stats.anderson(x_total_understanding)\n",
    "#not normal"
   ]
  },
  {
   "cell_type": "code",
   "execution_count": 165,
   "metadata": {},
   "outputs": [
    {
     "data": {
      "text/plain": [
       "AndersonResult(statistic=0.5991297007023064, critical_values=array([0.523, 0.596, 0.715, 0.834, 0.992]), significance_level=array([15. , 10. ,  5. ,  2.5,  1. ]))"
      ]
     },
     "execution_count": 165,
     "metadata": {},
     "output_type": "execute_result"
    }
   ],
   "source": [
    "stats.anderson(y_total_understanding)\n",
    "#normal"
   ]
  },
  {
   "cell_type": "code",
   "execution_count": 168,
   "metadata": {},
   "outputs": [
    {
     "data": {
      "text/plain": [
       "AndersonResult(statistic=0.5186924805792401, critical_values=array([0.529, 0.602, 0.722, 0.842, 1.002]), significance_level=array([15. , 10. ,  5. ,  2.5,  1. ]))"
      ]
     },
     "execution_count": 168,
     "metadata": {},
     "output_type": "execute_result"
    }
   ],
   "source": [
    "stats.anderson(np.log(x_total_understanding))"
   ]
  },
  {
   "cell_type": "code",
   "execution_count": 170,
   "metadata": {},
   "outputs": [
    {
     "data": {
      "text/plain": [
       "AndersonResult(statistic=0.5186924805792401, critical_values=array([0.529, 0.602, 0.722, 0.842, 1.002]), significance_level=array([15. , 10. ,  5. ,  2.5,  1. ]))"
      ]
     },
     "execution_count": 170,
     "metadata": {},
     "output_type": "execute_result"
    }
   ],
   "source": [
    "stats.anderson(np.log(x_total_understanding))"
   ]
  },
  {
   "cell_type": "code",
   "execution_count": 160,
   "metadata": {},
   "outputs": [
    {
     "data": {
      "text/plain": [
       "LeveneResult(statistic=0.012385700125302098, pvalue=0.9117182720070695)"
      ]
     },
     "execution_count": 160,
     "metadata": {},
     "output_type": "execute_result"
    }
   ],
   "source": [
    "stats.levene(np.log(x_total_understanding), np.log(y_total_understanding))"
   ]
  },
  {
   "cell_type": "code",
   "execution_count": 161,
   "metadata": {},
   "outputs": [
    {
     "data": {
      "text/plain": [
       "Ttest_indResult(statistic=-0.9995473428711231, pvalue=0.32112598617974825)"
      ]
     },
     "execution_count": 161,
     "metadata": {},
     "output_type": "execute_result"
    }
   ],
   "source": [
    "stats.ttest_ind(np.log(x_total_understanding), np.log(y_total_understanding))"
   ]
  },
  {
   "cell_type": "code",
   "execution_count": 148,
   "metadata": {},
   "outputs": [
    {
     "name": "stdout",
     "output_type": "stream",
     "text": [
      "mean: 9.513513513513514\n",
      "ranksum: 352\n",
      "median:9.0\n"
     ]
    }
   ],
   "source": [
    "describe(x_total_understanding)"
   ]
  },
  {
   "cell_type": "code",
   "execution_count": 149,
   "metadata": {},
   "outputs": [
    {
     "name": "stdout",
     "output_type": "stream",
     "text": [
      "mean: 10.6875\n",
      "ranksum: 342\n",
      "median:12.0\n"
     ]
    }
   ],
   "source": [
    "describe(y_total_understanding)"
   ]
  },
  {
   "cell_type": "code",
   "execution_count": 151,
   "metadata": {},
   "outputs": [
    {
     "data": {
      "image/png": "[encoded data removed]",
      "text/plain": [
       "<Figure size 432x288 with 1 Axes>"
      ]
     },
     "metadata": {
      "needs_background": "light"
     },
     "output_type": "display_data"
    }
   ],
   "source": [
    "plt.figure()\n",
    "plt.title(\"Engagment - Understanding\")\n",
    "plot_data = [x_total_understanding,y_total_understanding]\n",
    "plt.boxplot(plot_data, notch=True)\n",
    "plt.ylabel('Sum of Scores')\n",
    "plt.xticks([1, 2], ['Control', 'Experimental'])\n",
    "plt.show()"
   ]
  },
  {
   "cell_type": "code",
   "execution_count": 30,
   "metadata": {
    "scrolled": true
   },
   "outputs": [
    {
     "name": "stdout",
     "output_type": "stream",
     "text": [
      "Statistics=583.000, p=0.458\n",
      "Same distribution (fail to reject H0)\n"
     ]
    }
   ],
   "source": [
    "significant, stat, p = mann_whitney(x_understanding[:,0], y_understanding[:, 0])"
   ]
  },
  {
   "cell_type": "code",
   "execution_count": 31,
   "metadata": {},
   "outputs": [
    {
     "name": "stdout",
     "output_type": "stream",
     "text": [
      "Statistics=472.500, p=0.072\n",
      "Same distribution (fail to reject H0)\n"
     ]
    }
   ],
   "source": [
    "significant, stat, p = mann_whitney(x_understanding[:,1], y_understanding[:, 1])"
   ]
  },
  {
   "cell_type": "code",
   "execution_count": 32,
   "metadata": {},
   "outputs": [
    {
     "name": "stdout",
     "output_type": "stream",
     "text": [
      "Statistics=480.500, p=0.088\n",
      "Same distribution (fail to reject H0)\n"
     ]
    }
   ],
   "source": [
    "significant, stat, p = mann_whitney(x_understanding[:,2], y_understanding[:, 2])"
   ]
  },
  {
   "cell_type": "code",
   "execution_count": 33,
   "metadata": {
    "scrolled": true
   },
   "outputs": [
    {
     "data": {
      "text/plain": [
       "([<matplotlib.axis.XTick at 0x1dcc6c58>,\n",
       "  <matplotlib.axis.XTick at 0x1dcc6c40>],\n",
       " <a list of 2 Text xticklabel objects>)"
      ]
     },
     "execution_count": 33,
     "metadata": {},
     "output_type": "execute_result"
    },
    {
     "data": {
      "image/png": "[encoded data removed]",
      "text/plain": [
       "<Figure size 432x288 with 1 Axes>"
      ]
     },
     "metadata": {
      "needs_background": "light"
     },
     "output_type": "display_data"
    },
    {
     "data": {
      "image/png": "[encoded data removed]",
      "text/plain": [
       "<Figure size 432x288 with 1 Axes>"
      ]
     },
     "metadata": {
      "needs_background": "light"
     },
     "output_type": "display_data"
    },
    {
     "data": {
      "image/png": "[encoded data removed]",
      "text/plain": [
       "<Figure size 432x288 with 1 Axes>"
      ]
     },
     "metadata": {
      "needs_background": "light"
     },
     "output_type": "display_data"
    }
   ],
   "source": [
    "plt.figure()\n",
    "plt.title(narrative_understanding[0])\n",
    "plot_data = [x_understanding[:,0], y_understanding[:, 0]]\n",
    "plt.boxplot(plot_data, notch=True)\n",
    "plt.xticks([1, 2], ['Control', 'Experimental'])\n",
    "\n",
    "plt.figure()\n",
    "plt.title(narrative_understanding[1])\n",
    "plot_data = [x_understanding[:,1], y_understanding[:, 1]]\n",
    "plt.boxplot(plot_data, notch=True)\n",
    "plt.xticks([1, 2], ['Control', 'Experimental'])\n",
    "\n",
    "plt.figure()\n",
    "plt.title(narrative_understanding[2])\n",
    "plot_data = [x_understanding[:,2], y_understanding[:, 2]]\n",
    "plt.boxplot(plot_data, notch=True)\n",
    "plt.xticks([1, 2], ['Control', 'Experimental'])"
   ]
  },
  {
   "cell_type": "code",
   "execution_count": 34,
   "metadata": {},
   "outputs": [
    {
     "data": {
      "text/plain": [
       "Text(0.5, 0.98, 'Narrative Understanding')"
      ]
     },
     "execution_count": 34,
     "metadata": {},
     "output_type": "execute_result"
    },
    {
     "data": {
      "image/png": "[encoded data removed]",
      "text/plain": [
       "<Figure size 432x288 with 3 Axes>"
      ]
     },
     "metadata": {
      "needs_background": "light"
     },
     "output_type": "display_data"
    }
   ],
   "source": [
    "fig1, (ax1, ax2, ax3) = plt.subplots(1, 3, sharey=True)\n",
    "ax1.set_title('Q1')\n",
    "plot_data = [x_understanding[:,0], y_understanding[:, 0]]\n",
    "ax1.boxplot(plot_data, notch=True)\n",
    "ax2.set_title('Q2')\n",
    "plot_data = [x_understanding[:,1], y_understanding[:, 1]]\n",
    "ax2.boxplot(plot_data, notch=True)\n",
    "ax3.set_title('Q2')\n",
    "plot_data = [x_understanding[:,2], y_understanding[:, 2]]\n",
    "ax3.boxplot(plot_data, notch=True)\n",
    "fig1.suptitle(\"Narrative Understanding\")\n"
   ]
  },
  {
   "cell_type": "code",
   "execution_count": 35,
   "metadata": {},
   "outputs": [
    {
     "name": "stdout",
     "output_type": "stream",
     "text": [
      "Statistics=542.000, p=0.272\n",
      "Same distribution (fail to reject H0)\n"
     ]
    }
   ],
   "source": [
    "significant, stat, p = mann_whitney(x_attention[:,0], y_attention[:, 0])"
   ]
  },
  {
   "cell_type": "code",
   "execution_count": 36,
   "metadata": {},
   "outputs": [
    {
     "name": "stdout",
     "output_type": "stream",
     "text": [
      "Statistics=484.500, p=0.094\n",
      "Same distribution (fail to reject H0)\n"
     ]
    }
   ],
   "source": [
    "significant, stat, p = mann_whitney(x_attention[:,1], y_attention[:, 1])"
   ]
  },
  {
   "cell_type": "code",
   "execution_count": 37,
   "metadata": {},
   "outputs": [
    {
     "name": "stdout",
     "output_type": "stream",
     "text": [
      "Statistics=484.500, p=0.094\n",
      "Same distribution (fail to reject H0)\n"
     ]
    }
   ],
   "source": [
    "significant, stat, p = mann_whitney(x_attention[:,1], y_attention[:, 1])"
   ]
  },
  {
   "cell_type": "code",
   "execution_count": 38,
   "metadata": {},
   "outputs": [
    {
     "data": {
      "text/plain": [
       "([<matplotlib.axis.XTick at 0x1d84e9a0>,\n",
       "  <matplotlib.axis.XTick at 0x1d84e940>],\n",
       " <a list of 2 Text xticklabel objects>)"
      ]
     },
     "execution_count": 38,
     "metadata": {},
     "output_type": "execute_result"
    },
    {
     "data": {
      "image/png": "[encoded data removed]",
      "text/plain": [
       "<Figure size 432x288 with 1 Axes>"
      ]
     },
     "metadata": {
      "needs_background": "light"
     },
     "output_type": "display_data"
    },
    {
     "data": {
      "image/png": "[encoded data removed]",
      "text/plain": [
       "<Figure size 432x288 with 1 Axes>"
      ]
     },
     "metadata": {
      "needs_background": "light"
     },
     "output_type": "display_data"
    },
    {
     "data": {
      "image/png": "[encoded data removed]",
      "text/plain": [
       "<Figure size 432x288 with 1 Axes>"
      ]
     },
     "metadata": {
      "needs_background": "light"
     },
     "output_type": "display_data"
    }
   ],
   "source": [
    "plt.figure()\n",
    "plt.title(attentional_focus[0])\n",
    "plot_data = [x_attention[:,0], y_attention[:, 0]]\n",
    "plt.boxplot(plot_data, notch=True)\n",
    "plt.xticks([1, 2], ['Control', 'Experimental'])\n",
    "\n",
    "plt.figure()\n",
    "plt.title(attentional_focus[1])\n",
    "plot_data = [x_attention[:,1], y_attention[:, 1]]\n",
    "plt.boxplot(plot_data, notch=True)\n",
    "plt.xticks([1, 2], ['Control', 'Experimental'])\n",
    "\n",
    "plt.figure()\n",
    "plt.title(attentional_focus[2])\n",
    "plot_data = [x_attention[:,2], y_attention[:, 2]]\n",
    "plt.boxplot(plot_data, notch=True)\n",
    "plt.xticks([1, 2], ['Control', 'Experimental'])"
   ]
  },
  {
   "cell_type": "code",
   "execution_count": 39,
   "metadata": {},
   "outputs": [
    {
     "data": {
      "text/plain": [
       "Text(0.5, 0.98, 'Attentional Focus')"
      ]
     },
     "execution_count": 39,
     "metadata": {},
     "output_type": "execute_result"
    },
    {
     "data": {
      "image/png": "[encoded data removed]",
      "text/plain": [
       "<Figure size 432x288 with 3 Axes>"
      ]
     },
     "metadata": {
      "needs_background": "light"
     },
     "output_type": "display_data"
    }
   ],
   "source": [
    "fig1, (ax1, ax2, ax3) = plt.subplots(1, 3, sharey=True)\n",
    "ax1.set_title('Q1')\n",
    "plot_data = [x_attention[:,0], y_attention[:, 0]]\n",
    "ax1.boxplot(plot_data, notch=True)\n",
    "ax2.set_title('Q2')\n",
    "plot_data = [x_attention[:,1], y_attention[:, 1]]\n",
    "ax2.boxplot(plot_data, notch=True)\n",
    "ax3.set_title('Q2')\n",
    "plot_data = [x_attention[:,2], y_attention[:, 2]]\n",
    "ax3.boxplot(plot_data, notch=True)\n",
    "fig1.suptitle(\"Attentional Focus\")"
   ]
  },
  {
   "cell_type": "code",
   "execution_count": 40,
   "metadata": {},
   "outputs": [
    {
     "name": "stdout",
     "output_type": "stream",
     "text": [
      "Statistics=523.000, p=0.199\n",
      "Same distribution (fail to reject H0)\n"
     ]
    }
   ],
   "source": [
    "significant, stat, p = mann_whitney(x_presence[:,0], y_presence[:, 0])"
   ]
  },
  {
   "cell_type": "code",
   "execution_count": 41,
   "metadata": {},
   "outputs": [
    {
     "name": "stdout",
     "output_type": "stream",
     "text": [
      "Statistics=543.000, p=0.275\n",
      "Same distribution (fail to reject H0)\n"
     ]
    }
   ],
   "source": [
    "significant, stat, p = mann_whitney(x_presence[:,1], y_presence[:, 1])"
   ]
  },
  {
   "cell_type": "code",
   "execution_count": 42,
   "metadata": {},
   "outputs": [
    {
     "name": "stdout",
     "output_type": "stream",
     "text": [
      "Statistics=539.000, p=0.259\n",
      "Same distribution (fail to reject H0)\n"
     ]
    }
   ],
   "source": [
    "significant, stat, p = mann_whitney(x_presence[:,2], y_presence[:, 2])"
   ]
  },
  {
   "cell_type": "code",
   "execution_count": 43,
   "metadata": {},
   "outputs": [
    {
     "data": {
      "text/plain": [
       "([<matplotlib.axis.XTick at 0x1db77c40>,\n",
       "  <matplotlib.axis.XTick at 0x1db77c28>],\n",
       " <a list of 2 Text xticklabel objects>)"
      ]
     },
     "execution_count": 43,
     "metadata": {},
     "output_type": "execute_result"
    },
    {
     "data": {
      "image/png": "[encoded data removed]",
      "text/plain": [
       "<Figure size 432x288 with 1 Axes>"
      ]
     },
     "metadata": {
      "needs_background": "light"
     },
     "output_type": "display_data"
    },
    {
     "data": {
      "image/png": "[encoded data removed]",
      "text/plain": [
       "<Figure size 432x288 with 1 Axes>"
      ]
     },
     "metadata": {
      "needs_background": "light"
     },
     "output_type": "display_data"
    },
    {
     "data": {
      "image/png": "[encoded data removed]",
      "text/plain": [
       "<Figure size 432x288 with 1 Axes>"
      ]
     },
     "metadata": {
      "needs_background": "light"
     },
     "output_type": "display_data"
    }
   ],
   "source": [
    "plt.figure()\n",
    "plt.title(narrative_presence[0])\n",
    "plot_data = [x_presence[:,0], y_presence[:, 0]]\n",
    "plt.boxplot(plot_data, notch=True)\n",
    "plt.xticks([1, 2], ['Control', 'Experimental'])\n",
    "\n",
    "plt.figure()\n",
    "plt.title(narrative_presence[1])\n",
    "plot_data = [x_presence[:,1], y_presence[:, 1]]\n",
    "plt.boxplot(plot_data, notch=True)\n",
    "plt.xticks([1, 2], ['Control', 'Experimental'])\n",
    "\n",
    "plt.figure()\n",
    "plt.title(narrative_presence[2])\n",
    "plot_data = [x_presence[:,2], y_presence[:, 2]]\n",
    "plt.boxplot(plot_data, notch=True)\n",
    "plt.xticks([1, 2], ['Control', 'Experimental'])"
   ]
  },
  {
   "cell_type": "code",
   "execution_count": 44,
   "metadata": {},
   "outputs": [
    {
     "data": {
      "text/plain": [
       "Text(0.5, 0.98, 'Narrative Presence')"
      ]
     },
     "execution_count": 44,
     "metadata": {},
     "output_type": "execute_result"
    },
    {
     "data": {
      "image/png": "[encoded data removed]",
      "text/plain": [
       "<Figure size 432x288 with 3 Axes>"
      ]
     },
     "metadata": {
      "needs_background": "light"
     },
     "output_type": "display_data"
    }
   ],
   "source": [
    "fig1, (ax1, ax2, ax3) = plt.subplots(1, 3, sharey=True)\n",
    "ax1.set_title('Q1')\n",
    "plot_data = [x_presence[:,0], y_presence[:, 0]]\n",
    "ax1.boxplot(plot_data, notch=True)\n",
    "ax2.set_title('Q2')\n",
    "plot_data = [x_presence[:,1], y_presence[:, 1]]\n",
    "ax2.boxplot(plot_data, notch=True)\n",
    "ax3.set_title('Q2')\n",
    "plot_data = [x_presence[:,2], y_presence[:, 2]]\n",
    "ax3.boxplot(plot_data, notch=True)\n",
    "fig1.suptitle(\"Narrative Presence\")"
   ]
  },
  {
   "cell_type": "markdown",
   "metadata": {},
   "source": [
    "# Cumulative Narrative Engagement"
   ]
  },
  {
   "cell_type": "code",
   "execution_count": 45,
   "metadata": {},
   "outputs": [],
   "source": [
    "total_x_understanding = np.sum(x_understanding, axis=1)\n",
    "total_x_attention = np.sum(x_attention, axis=1)\n",
    "total_x_presence = np.sum(x_presence, axis=1)\n",
    "\n",
    "total_x = np.add(total_x_understanding, total_x_attention, total_x_presence)"
   ]
  },
  {
   "cell_type": "code",
   "execution_count": 46,
   "metadata": {},
   "outputs": [],
   "source": [
    "total_y_understanding = np.sum(y_understanding, axis=1)\n",
    "total_y_attention = np.sum(y_attention, axis=1)\n",
    "total_y_presence = np.sum(y_presence, axis=1)\n",
    "\n",
    "total_y = np.add(total_y_understanding, total_y_attention, total_y_presence)"
   ]
  },
  {
   "cell_type": "code",
   "execution_count": 47,
   "metadata": {},
   "outputs": [
    {
     "name": "stdout",
     "output_type": "stream",
     "text": [
      "\tTest Statistic: 0.5159021814162941\n",
      "\tCritical values: [0.529 0.602 0.722 0.842 1.002]\n",
      "\tSignificance levels: [15.  10.   5.   2.5  1. ]\n",
      "normally distributed\n"
     ]
    }
   ],
   "source": [
    "stat, values, sig = stats.anderson(total_x)\n",
    "print(f\"\\tTest Statistic: {stat}\\n\\tCritical values: {values}\\n\\tSignificance levels: {sig}\")\n",
    "\n",
    "if stat > values[2]:\n",
    "    print(\"not normally distributed\")\n",
    "else: \n",
    "    print(\"normally distributed\")\n"
   ]
  },
  {
   "cell_type": "code",
   "execution_count": null,
   "metadata": {},
   "outputs": [],
   "source": []
  },
  {
   "cell_type": "code",
   "execution_count": 48,
   "metadata": {},
   "outputs": [
    {
     "name": "stdout",
     "output_type": "stream",
     "text": [
      "\tTest Statistic: 0.28681783780618275\n",
      "\tCritical values: [0.523 0.596 0.715 0.834 0.992]\n",
      "\tSignificance levels: [15.  10.   5.   2.5  1. ]\n",
      "normally distributed\n"
     ]
    }
   ],
   "source": [
    "stat, values, sig = stats.anderson(total_y)\n",
    "print(f\"\\tTest Statistic: {stat}\\n\\tCritical values: {values}\\n\\tSignificance levels: {sig}\")\n",
    "\n",
    "if stat > values[2]:\n",
    "    print(\"not normally distributed\")\n",
    "else: \n",
    "    print(\"normally distributed\")\n"
   ]
  },
  {
   "cell_type": "code",
   "execution_count": 49,
   "metadata": {},
   "outputs": [
    {
     "name": "stdout",
     "output_type": "stream",
     "text": [
      "[array([27, 25, 27, 15, 22, 26, 25, 18, 24, 17, 27, 25, 24,  9, 24, 34, 18,\n",
      "       21, 21, 34, 25, 27, 22, 16, 36, 30, 25, 25, 33, 29, 22, 25, 21, 24,\n",
      "       33, 15, 21], dtype=int64), array([37, 26, 26, 25, 25, 32, 32, 30, 21, 33, 27, 14, 25, 27, 22, 32, 20,\n",
      "       23, 24, 31, 17, 15, 25, 16, 21, 27, 29, 31, 33, 23, 22, 24],\n",
      "      dtype=int64)]\n"
     ]
    }
   ],
   "source": [
    "print([total_x, total_y])"
   ]
  },
  {
   "cell_type": "code",
   "execution_count": 50,
   "metadata": {},
   "outputs": [
    {
     "data": {
      "image/png": "[encoded data removed]",
      "text/plain": [
       "<Figure size 432x288 with 2 Axes>"
      ]
     },
     "metadata": {
      "needs_background": "light"
     },
     "output_type": "display_data"
    }
   ],
   "source": [
    "fig1, (ax1, ax2) = plt.subplots(1, 2, sharey=True)\n",
    "fig1.suptitle('Narrative Engagement')\n",
    "bins = np.linspace(7, 7*9)\n",
    "ax1.set_title('Control')\n",
    "ax1.set_ylabel('Number of responses')\n",
    "ax1.set_xlabel('Sum of Scores')\n",
    "ax1.hist(total_x,50,alpha=0.8)\n",
    "mu, sigma = stats.norm.fit(total_x)\n",
    "best_fit_line = stats.norm.pdf(bins, mu, sigma)\n",
    "ax1.plot(bins, best_fit_line*70)\n",
    "\n",
    "ax2.set_title('Experimental')\n",
    "ax2.set_ylabel('Number of responses')\n",
    "ax2.set_xlabel('Sum of Scores')\n",
    "ax2.hist(total_y,50, alpha=0.8)\n",
    "mu, sigma = stats.norm.fit(total_y)\n",
    "best_fit_line = stats.norm.pdf(bins, mu, sigma)\n",
    "ax2.plot(bins, best_fit_line*70)\n",
    "\n",
    "plt.show()"
   ]
  },
  {
   "cell_type": "code",
   "execution_count": 51,
   "metadata": {},
   "outputs": [
    {
     "data": {
      "image/png": "[encoded data removed]",
      "text/plain": [
       "<Figure size 432x288 with 1 Axes>"
      ]
     },
     "metadata": {
      "needs_background": "light"
     },
     "output_type": "display_data"
    }
   ],
   "source": [
    "bins = np.linspace(7, 7*9)\n",
    "plt.title('Narrative Engagement')\n",
    "plt.hist([total_x, total_y], bins, label=['Control', 'Experimental'])\n",
    "plt.ylabel('Number of responses')\n",
    "plt.xlabel('Sum of Scores')\n",
    "plt.legend(loc='upper right')\n",
    "plt.show()"
   ]
  },
  {
   "cell_type": "code",
   "execution_count": 52,
   "metadata": {},
   "outputs": [
    {
     "data": {
      "image/png": "[encoded data removed]",
      "text/plain": [
       "<Figure size 432x288 with 1 Axes>"
      ]
     },
     "metadata": {
      "needs_background": "light"
     },
     "output_type": "display_data"
    },
    {
     "data": {
      "image/png": "[encoded data removed]",
      "text/plain": [
       "<Figure size 432x288 with 1 Axes>"
      ]
     },
     "metadata": {
      "needs_background": "light"
     },
     "output_type": "display_data"
    }
   ],
   "source": [
    "# This is not a qq plot\n",
    "plt.figure\n",
    "plt.title(\"Control\") \n",
    "stats.probplot(total_x, dist=\"norm\", plot=plt)\n",
    "plt.show() \n",
    "\n",
    "plt.title(\"Experimental\")\n",
    "stats.probplot(total_y, dist=\"norm\", plot=plt)\n",
    "plt.show() "
   ]
  },
  {
   "cell_type": "code",
   "execution_count": 53,
   "metadata": {},
   "outputs": [
    {
     "data": {
      "image/png": "[encoded data removed]",
      "text/plain": [
       "<Figure size 432x288 with 1 Axes>"
      ]
     },
     "metadata": {
      "needs_background": "light"
     },
     "output_type": "display_data"
    }
   ],
   "source": [
    "import statsmodels.api as sm \n",
    "import pylab as py \n",
    "  \n",
    "# np.random generates different random numbers \n",
    "# whenever the code is executed \n",
    "# Note: When you execute the same code  \n",
    "# the graph look different than shown below. \n",
    "  \n",
    "# Random data points generated \n",
    "data_points = np.random.normal(0, 1, 100)     \n",
    "  \n",
    "sm.qqplot(data_points, line ='45') \n",
    "py.show() "
   ]
  },
  {
   "cell_type": "markdown",
   "metadata": {},
   "source": [
    "Anderson-Darling shows that the data for the cumulative Engagement Measure is normally distrbuted.\n",
    "\n",
    "The data still needs analysis with Levene's test before declaring it parametric"
   ]
  },
  {
   "cell_type": "code",
   "execution_count": 54,
   "metadata": {},
   "outputs": [
    {
     "data": {
      "text/plain": [
       "LeveneResult(statistic=0.014283878797820311, pvalue=0.9052248575906978)"
      ]
     },
     "execution_count": 54,
     "metadata": {},
     "output_type": "execute_result"
    }
   ],
   "source": [
    "stats.levene(total_x, total_y)"
   ]
  },
  {
   "cell_type": "markdown",
   "metadata": {},
   "source": [
    "Levene's test is __not__ significant, meaning we can accept the null hypothesis that the variance in the different samples is apprximately equal.\n",
    "\n",
    "As such, we can treat this data as parametric, and perform a t-test"
   ]
  },
  {
   "cell_type": "code",
   "execution_count": 55,
   "metadata": {},
   "outputs": [
    {
     "data": {
      "text/plain": [
       "Ttest_indResult(statistic=-0.9783864549241055, pvalue=0.33140283045597974)"
      ]
     },
     "execution_count": 55,
     "metadata": {},
     "output_type": "execute_result"
    }
   ],
   "source": [
    "stats.ttest_ind(total_x, total_y)"
   ]
  },
  {
   "cell_type": "markdown",
   "metadata": {},
   "source": [
    "## Summary of Engagement\n",
    "\n",
    "There is no significant difference in Engagment across conditions (p = 0.33, a = 0.05)"
   ]
  },
  {
   "cell_type": "markdown",
   "metadata": {},
   "source": [
    "## I Want to Play Again"
   ]
  },
  {
   "cell_type": "code",
   "execution_count": 56,
   "metadata": {},
   "outputs": [],
   "source": [
    "x = control_data[play_again]\n",
    "y = experimental_data[play_again]\n",
    "\n",
    "\n"
   ]
  },
  {
   "cell_type": "code",
   "execution_count": 57,
   "metadata": {},
   "outputs": [
    {
     "data": {
      "text/html": [
       "<div>\n",
       "<style scoped>\n",
       "    .dataframe tbody tr th:only-of-type {\n",
       "        vertical-align: middle;\n",
       "    }\n",
       "\n",
       "    .dataframe tbody tr th {\n",
       "        vertical-align: top;\n",
       "    }\n",
       "\n",
       "    .dataframe thead th {\n",
       "        text-align: right;\n",
       "    }\n",
       "</style>\n",
       "<table border=\"1\" class=\"dataframe\">\n",
       "  <thead>\n",
       "    <tr style=\"text-align: right;\">\n",
       "      <th></th>\n",
       "      <th>I would like to play this game again</th>\n",
       "    </tr>\n",
       "  </thead>\n",
       "  <tbody>\n",
       "    <tr>\n",
       "      <th>count</th>\n",
       "      <td>37.000000</td>\n",
       "    </tr>\n",
       "    <tr>\n",
       "      <th>mean</th>\n",
       "      <td>3.648649</td>\n",
       "    </tr>\n",
       "    <tr>\n",
       "      <th>std</th>\n",
       "      <td>1.888801</td>\n",
       "    </tr>\n",
       "    <tr>\n",
       "      <th>min</th>\n",
       "      <td>1.000000</td>\n",
       "    </tr>\n",
       "    <tr>\n",
       "      <th>25%</th>\n",
       "      <td>2.000000</td>\n",
       "    </tr>\n",
       "    <tr>\n",
       "      <th>50%</th>\n",
       "      <td>3.000000</td>\n",
       "    </tr>\n",
       "    <tr>\n",
       "      <th>75%</th>\n",
       "      <td>5.000000</td>\n",
       "    </tr>\n",
       "    <tr>\n",
       "      <th>max</th>\n",
       "      <td>7.000000</td>\n",
       "    </tr>\n",
       "  </tbody>\n",
       "</table>\n",
       "</div>"
      ],
      "text/plain": [
       "       I would like to play this game again\n",
       "count                             37.000000\n",
       "mean                               3.648649\n",
       "std                                1.888801\n",
       "min                                1.000000\n",
       "25%                                2.000000\n",
       "50%                                3.000000\n",
       "75%                                5.000000\n",
       "max                                7.000000"
      ]
     },
     "execution_count": 57,
     "metadata": {},
     "output_type": "execute_result"
    }
   ],
   "source": [
    "x.describe()"
   ]
  },
  {
   "cell_type": "code",
   "execution_count": 58,
   "metadata": {},
   "outputs": [
    {
     "data": {
      "text/plain": [
       "135"
      ]
     },
     "execution_count": 58,
     "metadata": {},
     "output_type": "execute_result"
    }
   ],
   "source": [
    "np.sum(x.to_numpy())"
   ]
  },
  {
   "cell_type": "code",
   "execution_count": 59,
   "metadata": {},
   "outputs": [
    {
     "data": {
      "text/html": [
       "<div>\n",
       "<style scoped>\n",
       "    .dataframe tbody tr th:only-of-type {\n",
       "        vertical-align: middle;\n",
       "    }\n",
       "\n",
       "    .dataframe tbody tr th {\n",
       "        vertical-align: top;\n",
       "    }\n",
       "\n",
       "    .dataframe thead th {\n",
       "        text-align: right;\n",
       "    }\n",
       "</style>\n",
       "<table border=\"1\" class=\"dataframe\">\n",
       "  <thead>\n",
       "    <tr style=\"text-align: right;\">\n",
       "      <th></th>\n",
       "      <th>I would like to play this game again</th>\n",
       "    </tr>\n",
       "  </thead>\n",
       "  <tbody>\n",
       "    <tr>\n",
       "      <th>count</th>\n",
       "      <td>32.000000</td>\n",
       "    </tr>\n",
       "    <tr>\n",
       "      <th>mean</th>\n",
       "      <td>4.218750</td>\n",
       "    </tr>\n",
       "    <tr>\n",
       "      <th>std</th>\n",
       "      <td>1.717732</td>\n",
       "    </tr>\n",
       "    <tr>\n",
       "      <th>min</th>\n",
       "      <td>1.000000</td>\n",
       "    </tr>\n",
       "    <tr>\n",
       "      <th>25%</th>\n",
       "      <td>3.750000</td>\n",
       "    </tr>\n",
       "    <tr>\n",
       "      <th>50%</th>\n",
       "      <td>4.000000</td>\n",
       "    </tr>\n",
       "    <tr>\n",
       "      <th>75%</th>\n",
       "      <td>5.000000</td>\n",
       "    </tr>\n",
       "    <tr>\n",
       "      <th>max</th>\n",
       "      <td>7.000000</td>\n",
       "    </tr>\n",
       "  </tbody>\n",
       "</table>\n",
       "</div>"
      ],
      "text/plain": [
       "       I would like to play this game again\n",
       "count                             32.000000\n",
       "mean                               4.218750\n",
       "std                                1.717732\n",
       "min                                1.000000\n",
       "25%                                3.750000\n",
       "50%                                4.000000\n",
       "75%                                5.000000\n",
       "max                                7.000000"
      ]
     },
     "execution_count": 59,
     "metadata": {},
     "output_type": "execute_result"
    }
   ],
   "source": [
    "y.describe()"
   ]
  },
  {
   "cell_type": "code",
   "execution_count": 60,
   "metadata": {},
   "outputs": [
    {
     "data": {
      "text/plain": [
       "135"
      ]
     },
     "execution_count": 60,
     "metadata": {},
     "output_type": "execute_result"
    }
   ],
   "source": [
    "np.sum(y.to_numpy())"
   ]
  },
  {
   "cell_type": "code",
   "execution_count": 61,
   "metadata": {},
   "outputs": [],
   "source": [
    "x = x.to_numpy()\n",
    "y = y.to_numpy()"
   ]
  },
  {
   "cell_type": "code",
   "execution_count": 62,
   "metadata": {},
   "outputs": [
    {
     "name": "stdout",
     "output_type": "stream",
     "text": [
      "Statistics=488.500, p=0.105\n",
      "Same distribution (fail to reject H0)\n"
     ]
    }
   ],
   "source": [
    "stat, p = mannwhitneyu(x, y)\n",
    "print('Statistics=%.3f, p=%.3f' % (stat, p))\n",
    "# interpret\n",
    "alpha = 0.05\n",
    "if p > alpha:\n",
    "\tprint('Same distribution (fail to reject H0)')\n",
    "else:\n",
    "\tprint('Different distribution (reject H0)')\n",
    "    "
   ]
  },
  {
   "cell_type": "code",
   "execution_count": 63,
   "metadata": {},
   "outputs": [
    {
     "data": {
      "text/plain": [
       "False"
      ]
     },
     "execution_count": 63,
     "metadata": {},
     "output_type": "execute_result"
    }
   ],
   "source": [
    "np.sum(y) < np.sum(x)"
   ]
  },
  {
   "cell_type": "code",
   "execution_count": 64,
   "metadata": {},
   "outputs": [
    {
     "name": "stdout",
     "output_type": "stream",
     "text": [
      "-0.1499275886996181\n"
     ]
    }
   ],
   "source": [
    "import math\n",
    "\n",
    "s, l = [y, x] if np.sum(y) < np.sum(x) else [x, y]\n",
    "N = len(x)+len(y)\n",
    "ns = len(s)\n",
    "nl = len(l)\n",
    "\n",
    "#    mu = (ns * (N+1))/2\n",
    "mu = (ns * nl) / 2\n",
    "sigma = math.sqrt((ns * nl * (N+1))/12)\n",
    "#    z = (np.sum(s) - mu)/sigma\n",
    "z = (stat - mu)/sigma\n",
    "r = z / math.sqrt(N)\n",
    "print(r)"
   ]
  },
  {
   "cell_type": "code",
   "execution_count": 65,
   "metadata": {},
   "outputs": [
    {
     "name": "stdout",
     "output_type": "stream",
     "text": [
      "135\n",
      "135\n"
     ]
    }
   ],
   "source": [
    "print(np.sum(x))\n",
    "print(np.sum(y))"
   ]
  },
  {
   "cell_type": "code",
   "execution_count": 66,
   "metadata": {},
   "outputs": [
    {
     "name": "stdout",
     "output_type": "stream",
     "text": [
      "-1.4268471001847713\n"
     ]
    }
   ],
   "source": [
    "import math \n",
    "\n",
    "N = len(x)+len(y)\n",
    "ns = len(y)\n",
    "nl = len(x)\n",
    "\n",
    "mu = (ns * (N+1))/2\n",
    "theta = math.sqrt((ns * nl * (N+1))/12)\n",
    "z = (np.sum(y) - mu)/theta\n",
    "r = z / math.sqrt(N)\n",
    "print(r)"
   ]
  },
  {
   "cell_type": "code",
   "execution_count": 67,
   "metadata": {},
   "outputs": [
    {
     "data": {
      "text/plain": [
       "([<matplotlib.axis.XTick at 0x1f6bb7d8>,\n",
       "  <matplotlib.axis.XTick at 0x1f6bb850>],\n",
       " <a list of 2 Text xticklabel objects>)"
      ]
     },
     "execution_count": 67,
     "metadata": {},
     "output_type": "execute_result"
    },
    {
     "data": {
      "image/png": "[encoded data removed]",
      "text/plain": [
       "<Figure size 432x288 with 1 Axes>"
      ]
     },
     "metadata": {
      "needs_background": "light"
     },
     "output_type": "display_data"
    }
   ],
   "source": [
    "import numpy as np\n",
    "import matplotlib.pyplot as plt\n",
    "\n",
    "plt.figure()\n",
    "plt.title('I would like to play this game again')\n",
    "plot_data = [x, y]\n",
    "plt.boxplot(plot_data, notch=True)\n",
    "plt.xticks([1, 2], ['Control', 'Experimental'])"
   ]
  },
  {
   "cell_type": "code",
   "execution_count": 68,
   "metadata": {},
   "outputs": [
    {
     "name": "stdout",
     "output_type": "stream",
     "text": [
      "[7 6 5 4 3 2 1]\n"
     ]
    }
   ],
   "source": [
    "test = [1, 2, 3, 4, 5, 6, 7]\n",
    "\n",
    "print(np.subtract(8, test))"
   ]
  },
  {
   "cell_type": "markdown",
   "metadata": {},
   "source": [
    "## Tension\n",
    "\n"
   ]
  },
  {
   "cell_type": "code",
   "execution_count": 130,
   "metadata": {},
   "outputs": [],
   "source": [
    "narrative_tension = [\n",
    "    'At the end, I knew more about the narrative than when I began', \n",
    "    'I was more interested in the narrative at the beginning than the end',\n",
    "    'My attention towards the narrative increased over time']\n",
    "narrative_tension_rc = [\n",
    "    'I did not experience any narrative progression',\n",
    "    'I became less and less interested in the narrative as it progressed',\n",
    "    'At no point did I find the narrative interesting']\n",
    "\n",
    "x_positive = control_data[narrative_understanding].to_numpy()\n",
    "x_reverse = np.subtract(8, control_data[narrative_tension_rc].to_numpy())\n",
    "\n",
    "x = np.concatenate((x_positive, x_reverse), axis=1)\n",
    "\n",
    "y_positive = experimental_data[narrative_understanding].to_numpy()\n",
    "y_reverse = np.subtract(8, experimental_data[narrative_tension_rc].to_numpy())\n",
    "\n",
    "y = np.concatenate((y_positive, y_reverse), axis=1)\n",
    "\n"
   ]
  },
  {
   "cell_type": "code",
   "execution_count": 131,
   "metadata": {},
   "outputs": [],
   "source": [
    "total_x = np.sum(x, axis=1)\n",
    "total_y = np.sum(y, axis=1)"
   ]
  },
  {
   "cell_type": "code",
   "execution_count": 132,
   "metadata": {},
   "outputs": [
    {
     "name": "stdout",
     "output_type": "stream",
     "text": [
      "Statistics=498.500, p=0.130\n",
      "Same distribution (fail to reject H0)\n",
      "-0.13544183133733617\n"
     ]
    },
    {
     "data": {
      "text/plain": [
       "(498.5, 0.13021900761610822, -0.13544183133733617)"
      ]
     },
     "execution_count": 132,
     "metadata": {},
     "output_type": "execute_result"
    }
   ],
   "source": [
    "mw(x, y)"
   ]
  },
  {
   "cell_type": "code",
   "execution_count": 71,
   "metadata": {},
   "outputs": [
    {
     "name": "stdout",
     "output_type": "stream",
     "text": [
      "\tTest Statistic: 0.256634358504904\n",
      "\tCritical values: [0.529 0.602 0.722 0.842 1.002]\n",
      "\tSignificance levels: [15.  10.   5.   2.5  1. ]\n",
      "normally distributed\n"
     ]
    }
   ],
   "source": [
    "stat, values, sig = stats.anderson(total_x)\n",
    "print(f\"\\tTest Statistic: {stat}\\n\\tCritical values: {values}\\n\\tSignificance levels: {sig}\")\n",
    "\n",
    "if stat > values[2]:\n",
    "    print(\"not normally distributed\")\n",
    "else: \n",
    "    print(\"normally distributed\")\n"
   ]
  },
  {
   "cell_type": "code",
   "execution_count": 72,
   "metadata": {},
   "outputs": [
    {
     "name": "stdout",
     "output_type": "stream",
     "text": [
      "\tTest Statistic: 0.2824113868290823\n",
      "\tCritical values: [0.529 0.602 0.722 0.842 1.002]\n",
      "\tSignificance levels: [15.  10.   5.   2.5  1. ]\n",
      "normally distributed\n"
     ]
    }
   ],
   "source": [
    "x_log = np.log(total_x)\n",
    "stat, values, sig = stats.anderson(x_log)\n",
    "print(f\"\\tTest Statistic: {stat}\\n\\tCritical values: {values}\\n\\tSignificance levels: {sig}\")\n",
    "\n",
    "if stat > values[2]:\n",
    "    print(\"not normally distributed\")\n",
    "else: \n",
    "    print(\"normally distributed\")\n"
   ]
  },
  {
   "cell_type": "code",
   "execution_count": 73,
   "metadata": {},
   "outputs": [
    {
     "name": "stdout",
     "output_type": "stream",
     "text": [
      "\tTest Statistic: 0.8163999201752148\n",
      "\tCritical values: [0.523 0.596 0.715 0.834 0.992]\n",
      "\tSignificance levels: [15.  10.   5.   2.5  1. ]\n",
      "not normally distributed\n"
     ]
    }
   ],
   "source": [
    "stat, values, sig = stats.anderson(total_y)\n",
    "print(f\"\\tTest Statistic: {stat}\\n\\tCritical values: {values}\\n\\tSignificance levels: {sig}\")\n",
    "\n",
    "if stat > values[2]:\n",
    "    print(\"not normally distributed\")\n",
    "else: \n",
    "    print(\"normally distributed\")"
   ]
  },
  {
   "cell_type": "code",
   "execution_count": 74,
   "metadata": {},
   "outputs": [
    {
     "name": "stdout",
     "output_type": "stream",
     "text": [
      "\tTest Statistic: 0.5907148712229429\n",
      "\tCritical values: [0.523 0.596 0.715 0.834 0.992]\n",
      "\tSignificance levels: [15.  10.   5.   2.5  1. ]\n",
      "normally distributed\n"
     ]
    }
   ],
   "source": [
    "y_log = np.log(total_y)\n",
    "stat, values, sig = stats.anderson(y_log)\n",
    "print(f\"\\tTest Statistic: {stat}\\n\\tCritical values: {values}\\n\\tSignificance levels: {sig}\")\n",
    "\n",
    "if stat > values[2]:\n",
    "    print(\"not normally distributed\")\n",
    "else: \n",
    "    print(\"normally distributed\")"
   ]
  },
  {
   "cell_type": "code",
   "execution_count": 75,
   "metadata": {},
   "outputs": [
    {
     "data": {
      "image/png": "[encoded data removed]",
      "text/plain": [
       "<Figure size 432x288 with 1 Axes>"
      ]
     },
     "metadata": {
      "needs_background": "light"
     },
     "output_type": "display_data"
    }
   ],
   "source": [
    "bins = np.linspace(7, 7*6)\n",
    "plt.title('Narrative Tension')\n",
    "plt.hist([total_x, total_y], bins, label=['Control', 'Experimental'])\n",
    "plt.ylabel('Number of responses')\n",
    "plt.xlabel('Sum of Scores')\n",
    "plt.legend(loc='upper right')\n",
    "plt.show()"
   ]
  },
  {
   "cell_type": "code",
   "execution_count": 76,
   "metadata": {
    "scrolled": true
   },
   "outputs": [
    {
     "data": {
      "image/png": "[encoded data removed]",
      "text/plain": [
       "<Figure size 432x288 with 1 Axes>"
      ]
     },
     "metadata": {
      "needs_background": "light"
     },
     "output_type": "display_data"
    }
   ],
   "source": [
    "plt.title('Narrative Tension (Log Transformed)')\n",
    "plt.hist([x_log, y_log], label=['Control', 'Experimental'])\n",
    "plt.ylabel('Number of responses')\n",
    "plt.xlabel('Log of Sum of Scores')\n",
    "plt.legend(loc='upper right')\n",
    "plt.show()"
   ]
  },
  {
   "cell_type": "code",
   "execution_count": 77,
   "metadata": {},
   "outputs": [
    {
     "data": {
      "image/png": "[encoded data removed]",
      "text/plain": [
       "<Figure size 432x288 with 1 Axes>"
      ]
     },
     "metadata": {
      "needs_background": "light"
     },
     "output_type": "display_data"
    },
    {
     "data": {
      "image/png": "[encoded data removed]",
      "text/plain": [
       "<Figure size 432x288 with 1 Axes>"
      ]
     },
     "metadata": {
      "needs_background": "light"
     },
     "output_type": "display_data"
    }
   ],
   "source": [
    "# This is not a qq plot\n",
    "plt.figure\n",
    "plt.title(\"Control\") \n",
    "stats.probplot(total_x, dist=\"norm\", plot=plt)\n",
    "plt.show() \n",
    "\n",
    "plt.title(\"Experimental\")\n",
    "stats.probplot(total_y, dist=\"norm\", plot=plt)\n",
    "plt.show() "
   ]
  },
  {
   "cell_type": "code",
   "execution_count": 78,
   "metadata": {
    "scrolled": true
   },
   "outputs": [
    {
     "data": {
      "image/png": "[encoded data removed]",
      "text/plain": [
       "<Figure size 432x288 with 1 Axes>"
      ]
     },
     "metadata": {
      "needs_background": "light"
     },
     "output_type": "display_data"
    },
    {
     "data": {
      "image/png": "[encoded data removed]",
      "text/plain": [
       "<Figure size 432x288 with 1 Axes>"
      ]
     },
     "metadata": {
      "needs_background": "light"
     },
     "output_type": "display_data"
    }
   ],
   "source": [
    "# This is not a qq plot\n",
    "plt.figure\n",
    "plt.title(\"Control\") \n",
    "stats.probplot(x_log, dist=\"norm\", plot=plt)\n",
    "plt.show() \n",
    "\n",
    "plt.title(\"Experimental\")\n",
    "stats.probplot(y_log, dist=\"norm\", plot=plt)\n",
    "plt.show() "
   ]
  },
  {
   "cell_type": "code",
   "execution_count": 79,
   "metadata": {},
   "outputs": [
    {
     "data": {
      "text/plain": [
       "LeveneResult(statistic=5.740185150615078, pvalue=0.019380783899352546)"
      ]
     },
     "execution_count": 79,
     "metadata": {},
     "output_type": "execute_result"
    }
   ],
   "source": [
    "stats.levene(x_log, y_log)"
   ]
  },
  {
   "cell_type": "code",
   "execution_count": 80,
   "metadata": {},
   "outputs": [
    {
     "data": {
      "text/plain": [
       "LeveneResult(statistic=4.616511586039338, pvalue=0.035283407753976856)"
      ]
     },
     "execution_count": 80,
     "metadata": {},
     "output_type": "execute_result"
    }
   ],
   "source": [
    "stats.levene(total_x, total_y)"
   ]
  },
  {
   "cell_type": "code",
   "execution_count": 81,
   "metadata": {},
   "outputs": [
    {
     "data": {
      "text/plain": [
       "Ttest_indResult(statistic=-1.308803018456829, pvalue=0.19507260616487831)"
      ]
     },
     "execution_count": 81,
     "metadata": {},
     "output_type": "execute_result"
    }
   ],
   "source": [
    "stats.ttest_ind(x_log, y_log)"
   ]
  },
  {
   "cell_type": "code",
   "execution_count": 129,
   "metadata": {},
   "outputs": [
    {
     "ename": "AxisError",
     "evalue": "axis 1 is out of bounds for array of dimension 1",
     "output_type": "error",
     "traceback": [
      "\u001b[1;31m---------------------------------------------------------------------------\u001b[0m",
      "\u001b[1;31mAxisError\u001b[0m                                 Traceback (most recent call last)",
      "\u001b[1;32m<ipython-input-129-b217c4bca495>\u001b[0m in \u001b[0;36m<module>\u001b[1;34m\u001b[0m\n\u001b[1;32m----> 1\u001b[1;33m \u001b[0mmw\u001b[0m\u001b[1;33m(\u001b[0m\u001b[0mtotal_x\u001b[0m\u001b[1;33m,\u001b[0m \u001b[0mtotal_y\u001b[0m\u001b[1;33m)\u001b[0m\u001b[1;33m\u001b[0m\u001b[1;33m\u001b[0m\u001b[0m\n\u001b[0m",
      "\u001b[1;32m<ipython-input-128-6e41931c557c>\u001b[0m in \u001b[0;36mmw\u001b[1;34m(x, y)\u001b[0m\n\u001b[0;32m      1\u001b[0m \u001b[1;32mdef\u001b[0m \u001b[0mmw\u001b[0m\u001b[1;33m(\u001b[0m\u001b[0mx\u001b[0m\u001b[1;33m,\u001b[0m \u001b[0my\u001b[0m\u001b[1;33m)\u001b[0m\u001b[1;33m:\u001b[0m\u001b[1;33m\u001b[0m\u001b[1;33m\u001b[0m\u001b[0m\n\u001b[1;32m----> 2\u001b[1;33m     \u001b[0mx_total\u001b[0m \u001b[1;33m=\u001b[0m \u001b[0mnp\u001b[0m\u001b[1;33m.\u001b[0m\u001b[0msum\u001b[0m\u001b[1;33m(\u001b[0m\u001b[0mx\u001b[0m\u001b[1;33m,\u001b[0m \u001b[0maxis\u001b[0m\u001b[1;33m=\u001b[0m\u001b[1;36m1\u001b[0m\u001b[1;33m)\u001b[0m\u001b[1;33m\u001b[0m\u001b[1;33m\u001b[0m\u001b[0m\n\u001b[0m\u001b[0;32m      3\u001b[0m     \u001b[0my_total\u001b[0m \u001b[1;33m=\u001b[0m \u001b[0mnp\u001b[0m\u001b[1;33m.\u001b[0m\u001b[0msum\u001b[0m\u001b[1;33m(\u001b[0m\u001b[0my\u001b[0m\u001b[1;33m,\u001b[0m \u001b[0maxis\u001b[0m\u001b[1;33m=\u001b[0m\u001b[1;36m1\u001b[0m\u001b[1;33m)\u001b[0m\u001b[1;33m\u001b[0m\u001b[1;33m\u001b[0m\u001b[0m\n\u001b[0;32m      4\u001b[0m     \u001b[0mstat\u001b[0m\u001b[1;33m,\u001b[0m \u001b[0mp\u001b[0m \u001b[1;33m=\u001b[0m \u001b[0mmannwhitneyu\u001b[0m\u001b[1;33m(\u001b[0m\u001b[0mx_total\u001b[0m\u001b[1;33m,\u001b[0m \u001b[0my_total\u001b[0m\u001b[1;33m)\u001b[0m\u001b[1;33m\u001b[0m\u001b[1;33m\u001b[0m\u001b[0m\n\u001b[0;32m      5\u001b[0m     \u001b[0mprint\u001b[0m\u001b[1;33m(\u001b[0m\u001b[1;34m'Statistics=%.3f, p=%.3f'\u001b[0m \u001b[1;33m%\u001b[0m \u001b[1;33m(\u001b[0m\u001b[0mstat\u001b[0m\u001b[1;33m,\u001b[0m \u001b[0mp\u001b[0m\u001b[1;33m)\u001b[0m\u001b[1;33m)\u001b[0m\u001b[1;33m\u001b[0m\u001b[1;33m\u001b[0m\u001b[0m\n",
      "\u001b[1;32m<__array_function__ internals>\u001b[0m in \u001b[0;36msum\u001b[1;34m(*args, **kwargs)\u001b[0m\n",
      "\u001b[1;32mc:\\users\\eoinr\\appdata\\local\\programs\\python\\python38-32\\lib\\site-packages\\numpy\\core\\fromnumeric.py\u001b[0m in \u001b[0;36msum\u001b[1;34m(a, axis, dtype, out, keepdims, initial, where)\u001b[0m\n\u001b[0;32m   2226\u001b[0m         \u001b[1;32mreturn\u001b[0m \u001b[0mres\u001b[0m\u001b[1;33m\u001b[0m\u001b[1;33m\u001b[0m\u001b[0m\n\u001b[0;32m   2227\u001b[0m \u001b[1;33m\u001b[0m\u001b[0m\n\u001b[1;32m-> 2228\u001b[1;33m     return _wrapreduction(a, np.add, 'sum', axis, dtype, out, keepdims=keepdims,\n\u001b[0m\u001b[0;32m   2229\u001b[0m                           initial=initial, where=where)\n\u001b[0;32m   2230\u001b[0m \u001b[1;33m\u001b[0m\u001b[0m\n",
      "\u001b[1;32mc:\\users\\eoinr\\appdata\\local\\programs\\python\\python38-32\\lib\\site-packages\\numpy\\core\\fromnumeric.py\u001b[0m in \u001b[0;36m_wrapreduction\u001b[1;34m(obj, ufunc, method, axis, dtype, out, **kwargs)\u001b[0m\n\u001b[0;32m     88\u001b[0m                 \u001b[1;32mreturn\u001b[0m \u001b[0mreduction\u001b[0m\u001b[1;33m(\u001b[0m\u001b[0maxis\u001b[0m\u001b[1;33m=\u001b[0m\u001b[0maxis\u001b[0m\u001b[1;33m,\u001b[0m \u001b[0mout\u001b[0m\u001b[1;33m=\u001b[0m\u001b[0mout\u001b[0m\u001b[1;33m,\u001b[0m \u001b[1;33m**\u001b[0m\u001b[0mpasskwargs\u001b[0m\u001b[1;33m)\u001b[0m\u001b[1;33m\u001b[0m\u001b[1;33m\u001b[0m\u001b[0m\n\u001b[0;32m     89\u001b[0m \u001b[1;33m\u001b[0m\u001b[0m\n\u001b[1;32m---> 90\u001b[1;33m     \u001b[1;32mreturn\u001b[0m \u001b[0mufunc\u001b[0m\u001b[1;33m.\u001b[0m\u001b[0mreduce\u001b[0m\u001b[1;33m(\u001b[0m\u001b[0mobj\u001b[0m\u001b[1;33m,\u001b[0m \u001b[0maxis\u001b[0m\u001b[1;33m,\u001b[0m \u001b[0mdtype\u001b[0m\u001b[1;33m,\u001b[0m \u001b[0mout\u001b[0m\u001b[1;33m,\u001b[0m \u001b[1;33m**\u001b[0m\u001b[0mpasskwargs\u001b[0m\u001b[1;33m)\u001b[0m\u001b[1;33m\u001b[0m\u001b[1;33m\u001b[0m\u001b[0m\n\u001b[0m\u001b[0;32m     91\u001b[0m \u001b[1;33m\u001b[0m\u001b[0m\n\u001b[0;32m     92\u001b[0m \u001b[1;33m\u001b[0m\u001b[0m\n",
      "\u001b[1;31mAxisError\u001b[0m: axis 1 is out of bounds for array of dimension 1"
     ]
    }
   ],
   "source": [
    "mw(total_x, total_y)"
   ]
  },
  {
   "cell_type": "code",
   "execution_count": null,
   "metadata": {},
   "outputs": [],
   "source": []
  },
  {
   "cell_type": "code",
   "execution_count": 82,
   "metadata": {},
   "outputs": [
    {
     "name": "stdout",
     "output_type": "stream",
     "text": [
      "28.8125\n"
     ]
    }
   ],
   "source": [
    "print(np.mean(total_y))"
   ]
  },
  {
   "cell_type": "code",
   "execution_count": 83,
   "metadata": {},
   "outputs": [
    {
     "name": "stdout",
     "output_type": "stream",
     "text": [
      "[3.35691452 3.35691452 3.35691452 3.35691452 3.35691452]\n"
     ]
    }
   ],
   "source": [
    "padding = np.ones(5)*np.mean(y_log)\n",
    "print(padding)"
   ]
  },
  {
   "cell_type": "code",
   "execution_count": 84,
   "metadata": {},
   "outputs": [
    {
     "name": "stdout",
     "output_type": "stream",
     "text": [
      "[3.35691452 3.35691452 3.35691452 3.35691452 3.35691452]\n"
     ]
    }
   ],
   "source": [
    "padding = np.ones(5)*np.mean(y_log)\n",
    "print(padding)\n",
    "padded = np.concatenate((y_log, padding))"
   ]
  },
  {
   "cell_type": "code",
   "execution_count": 85,
   "metadata": {},
   "outputs": [
    {
     "name": "stdout",
     "output_type": "stream",
     "text": [
      "[3.21887582 3.29583687 3.40119738 3.36729583 3.4657359  3.36729583\n",
      " 3.25809654 3.40119738 3.33220451 3.33220451 3.40119738 3.36729583\n",
      " 3.36729583 3.4339872  3.36729583 3.25809654 3.40119738 3.29583687\n",
      " 3.33220451 3.4339872  3.66356165 3.25809654 3.29583687 3.4657359\n",
      " 3.36729583 3.33220451 3.25809654 3.40119738 3.29583687 3.21887582\n",
      " 3.4339872  3.33220451 3.35691452 3.35691452 3.35691452 3.35691452\n",
      " 3.35691452]\n"
     ]
    }
   ],
   "source": [
    "print(padded)"
   ]
  },
  {
   "cell_type": "code",
   "execution_count": 86,
   "metadata": {},
   "outputs": [
    {
     "data": {
      "text/plain": [
       "(0.21406324297937607, 0.2032976875611226)"
      ]
     },
     "execution_count": 86,
     "metadata": {},
     "output_type": "execute_result"
    }
   ],
   "source": [
    "stats.pearsonr(x_log, padded)"
   ]
  },
  {
   "cell_type": "code",
   "execution_count": 87,
   "metadata": {},
   "outputs": [
    {
     "data": {
      "text/plain": [
       "Text(0, 0.5, 'Experimemtal')"
      ]
     },
     "execution_count": 87,
     "metadata": {},
     "output_type": "execute_result"
    },
    {
     "data": {
      "image/png": "[encoded data removed]",
      "text/plain": [
       "<Figure size 432x288 with 1 Axes>"
      ]
     },
     "metadata": {
      "needs_background": "light"
     },
     "output_type": "display_data"
    }
   ],
   "source": [
    "plt.scatter(x_log, padded)\n",
    "plt.title(\"Narrative Tension\")\n",
    "plt.xlabel(\"Control\")\n",
    "plt.ylabel(\"Experimemtal\")"
   ]
  },
  {
   "cell_type": "markdown",
   "metadata": {},
   "source": [
    "Pearson correlation coefficient and p-value for testing non-correlation.\n",
    "\n",
    "The Pearson correlation coefficient [1] measures the linear relationship between two datasets. The calculation of the p-value relies on the assumption that each dataset is normally distributed. (See Kowalski [3] for a discussion of the effects of non-normality of the input on the distribution of the correlation coefficient.) Like other correlation coefficients, this one varies between -1 and +1 with 0 implying no correlation. Correlations of -1 or +1 imply an exact linear relationship. Positive correlations imply that as x increases, so does y. Negative correlations imply that as x increases, y decreases.\n",
    "\n",
    "The p-value roughly indicates the probability of an uncorrelated system producing datasets that have a Pearson correlation at least as extreme as the one computed from these datasets.\n",
    "\n",
    "Returns\n",
    "rfloat\n",
    "Pearson’s correlation coefficient.\n",
    "\n",
    "p-valuefloat\n",
    "Two-tailed p-value.\n",
    "\n",
    "R:\n",
    "-1.0: Perfect negative relationship.\n",
    "-0.7: Strong negative relationship\n",
    "-0.5: Moderate negative relationship\n",
    "-0.3: Weak negative relationship\n",
    "0.0: No relationship.\n",
    "0.3: Weak positive relationship\n",
    "0.5: Moderate positive relationship\n",
    "0.7: Strong positive relationship\n",
    "1.0: Perfect positive relationship."
   ]
  },
  {
   "cell_type": "code",
   "execution_count": 88,
   "metadata": {},
   "outputs": [
    {
     "name": "stdout",
     "output_type": "stream",
     "text": [
      "Statistics=-4775.000, p=0.000\n",
      "Different distribution (reject H0)\n"
     ]
    }
   ],
   "source": [
    "stat, p = mannwhitneyu(x, y)\n",
    "print('Statistics=%.3f, p=%.3f' % (stat, p))\n",
    "# interpret\n",
    "alpha = 0.05\n",
    "if p > alpha:\n",
    "\tprint('Same distribution (fail to reject H0)')\n",
    "else:\n",
    "\tprint('Different distribution (reject H0)')\n",
    "    "
   ]
  },
  {
   "cell_type": "code",
   "execution_count": 89,
   "metadata": {},
   "outputs": [
    {
     "data": {
      "text/plain": [
       "([<matplotlib.axis.XTick at 0x1f7e5fe8>,\n",
       "  <matplotlib.axis.XTick at 0x1f7e54d8>],\n",
       " <a list of 2 Text xticklabel objects>)"
      ]
     },
     "execution_count": 89,
     "metadata": {},
     "output_type": "execute_result"
    },
    {
     "data": {
      "image/png": "[encoded data removed]",
      "text/plain": [
       "<Figure size 432x288 with 1 Axes>"
      ]
     },
     "metadata": {
      "needs_background": "light"
     },
     "output_type": "display_data"
    }
   ],
   "source": [
    "import numpy as np\n",
    "import matplotlib.pyplot as plt\n",
    "\n",
    "plt.figure()\n",
    "plt.title('Narrative Tension')\n",
    "plot_data = [total_x, total_y]\n",
    "plt.boxplot(plot_data, notch=True)\n",
    "plt.ylim(6, 7*6)\n",
    "plt.ylabel('Sum of Scores')\n",
    "plt.xticks([1, 2], ['Control', 'Experimental'])"
   ]
  },
  {
   "cell_type": "code",
   "execution_count": 90,
   "metadata": {},
   "outputs": [
    {
     "name": "stdout",
     "output_type": "stream",
     "text": [
      "1032\n",
      "27.89189189189189\n"
     ]
    }
   ],
   "source": [
    "print(np.sum(total_x))\n",
    "print(np.mean(total_x))"
   ]
  },
  {
   "cell_type": "code",
   "execution_count": 91,
   "metadata": {},
   "outputs": [
    {
     "name": "stdout",
     "output_type": "stream",
     "text": [
      "922\n",
      "28.8125\n"
     ]
    }
   ],
   "source": [
    "print(np.sum(total_y))\n",
    "print(np.mean(total_y))"
   ]
  },
  {
   "cell_type": "code",
   "execution_count": 92,
   "metadata": {},
   "outputs": [
    {
     "name": "stdout",
     "output_type": "stream",
     "text": [
      "-7.774505976336719\n"
     ]
    }
   ],
   "source": [
    "import math\n",
    "stat, p = mannwhitneyu(total_x, total_y)\n",
    "\n",
    "s, l = [total_y, total_x] if np.sum(total_y) < np.sum(total_x) else [total_x, total_y]\n",
    "N = len(total_x)+len(total_y)\n",
    "ns = len(s)\n",
    "nl = len(l)\n",
    "\n",
    "#    mu = (ns * (N+1))/2\n",
    "mu = (ns * nl) / 2\n",
    "sigma = math.sqrt((ns * nl * (N+1))/12)\n",
    "#    z = (np.sum(s) - mu)/sigma\n",
    "z = (stat - mu)/sigma\n",
    "r = z / math.sqrt(N)\n",
    "print(r)"
   ]
  },
  {
   "cell_type": "code",
   "execution_count": 93,
   "metadata": {},
   "outputs": [
    {
     "name": "stdout",
     "output_type": "stream",
     "text": [
      "-64.57989686543777\n"
     ]
    }
   ],
   "source": [
    "print(z)"
   ]
  },
  {
   "cell_type": "code",
   "execution_count": 94,
   "metadata": {},
   "outputs": [
    {
     "name": "stdout",
     "output_type": "stream",
     "text": [
      "-7.774505976336719\n"
     ]
    }
   ],
   "source": [
    "r = z / math.sqrt(N)\n",
    "print(r)"
   ]
  },
  {
   "cell_type": "code",
   "execution_count": 95,
   "metadata": {},
   "outputs": [
    {
     "name": "stdout",
     "output_type": "stream",
     "text": [
      "28.0\n",
      "29.0\n"
     ]
    }
   ],
   "source": [
    "print(np.median(total_x))\n",
    "print(np.median(total_y))"
   ]
  },
  {
   "cell_type": "code",
   "execution_count": 96,
   "metadata": {},
   "outputs": [],
   "source": [
    "_1_f = ['Binary Code','Binary Code.6']\n",
    "_1_mc_orig = ['Original Code', 'Original Code.3']\n",
    "_1_mc = ['Binary Code.1','Binary Code.7']\n",
    "\n",
    "_2_f = ['Binary Code.8','Binary Code.10']\n",
    "_2_mc = ['Binary Code.9', 'Binary Code.11']\n",
    "_2_mc_orig = ['Original Code.4', 'Original Code.5']\n",
    "\n",
    "_3_f = ['Binary Code.2','Binary Code.14']\n",
    "_3_mc = ['Binary Code.3', 'Binary Code.15']\n",
    "_3_mc_orig = ['Original Code.1', 'Original Code.7']\n",
    "\n",
    "_0_f = ['Binary Code.4','Binary Code.12']\n",
    "_0_mc = ['Binary Code.5', 'Binary Code.13']\n",
    "_0_mc_orig = ['Original Code.2', 'Original Code.6']\n"
   ]
  },
  {
   "cell_type": "code",
   "execution_count": 97,
   "metadata": {},
   "outputs": [
    {
     "name": "stdout",
     "output_type": "stream",
     "text": [
      "[3 0 0 6 1 6 6 6 6 2 3 2 3 6 0 2 3 2 4 6 6 0 0 1 3 6 1 5 6 3 6 6 3 3 6 6 3]\n",
      "[4 4 0 2 0 4 4 3 5 5 3 2 5 5 0 5 5 6 3 1 1 2 0 3 4 4 0 3 6 6 4 1 0 5 5 3 0]\n",
      "[1 1 1 4 2 3 6 3 6 3 2 4 5 6 2 6 5 5 5 3 2 2 2 4 5 5 2 3 2 4 4 6 2 6 5 2 2]\n",
      "[3 5 3 4 3 2 5 3 4 6 6 5 3 5 3 5 3 4 5 3 4 3 3 6 6 4 6 3 4 6 3 3 3 5 3 3 3]\n",
      "[11 10  4 16  6 15 21 15 21 16 14 13 16 22  5 18 16 17 17 13 13  7  5 14\n",
      " 18 19  9 14 18 19 17 16  8 19 19 14  8]\n"
     ]
    }
   ],
   "source": [
    "x_1 = (np.sum(control_data[_1_mc_orig].to_numpy(), axis=1))\n",
    "x_2 = (np.sum(control_data[_2_mc_orig].to_numpy(), axis=1))\n",
    "x_3 = (np.sum(control_data[_3_mc_orig].to_numpy(), axis=1))\n",
    "x_0 = (np.sum(control_data[_0_mc_orig].to_numpy(), axis=1))\n",
    "\n",
    "q = np.concatenate((_1_mc_orig, _2_mc_orig, _3_mc_orig, _0_mc_orig))\n",
    "x_total = (np.sum(control_data[q].to_numpy(), axis=1))\n",
    "print(x_1)\n",
    "print(x_2)\n",
    "print(x_3)\n",
    "print(x_0)\n",
    "print(x_total)"
   ]
  },
  {
   "cell_type": "code",
   "execution_count": 98,
   "metadata": {},
   "outputs": [
    {
     "data": {
      "text/html": [
       "<div>\n",
       "<style scoped>\n",
       "    .dataframe tbody tr th:only-of-type {\n",
       "        vertical-align: middle;\n",
       "    }\n",
       "\n",
       "    .dataframe tbody tr th {\n",
       "        vertical-align: top;\n",
       "    }\n",
       "\n",
       "    .dataframe thead th {\n",
       "        text-align: right;\n",
       "    }\n",
       "</style>\n",
       "<table border=\"1\" class=\"dataframe\">\n",
       "  <thead>\n",
       "    <tr style=\"text-align: right;\">\n",
       "      <th></th>\n",
       "      <th>Original Code</th>\n",
       "      <th>Original Code.3</th>\n",
       "    </tr>\n",
       "  </thead>\n",
       "  <tbody>\n",
       "    <tr>\n",
       "      <th>0</th>\n",
       "      <td>0</td>\n",
       "      <td>3</td>\n",
       "    </tr>\n",
       "    <tr>\n",
       "      <th>1</th>\n",
       "      <td>0</td>\n",
       "      <td>0</td>\n",
       "    </tr>\n",
       "    <tr>\n",
       "      <th>2</th>\n",
       "      <td>0</td>\n",
       "      <td>0</td>\n",
       "    </tr>\n",
       "    <tr>\n",
       "      <th>3</th>\n",
       "      <td>3</td>\n",
       "      <td>3</td>\n",
       "    </tr>\n",
       "    <tr>\n",
       "      <th>4</th>\n",
       "      <td>1</td>\n",
       "      <td>0</td>\n",
       "    </tr>\n",
       "    <tr>\n",
       "      <th>5</th>\n",
       "      <td>3</td>\n",
       "      <td>3</td>\n",
       "    </tr>\n",
       "    <tr>\n",
       "      <th>6</th>\n",
       "      <td>3</td>\n",
       "      <td>3</td>\n",
       "    </tr>\n",
       "    <tr>\n",
       "      <th>7</th>\n",
       "      <td>3</td>\n",
       "      <td>3</td>\n",
       "    </tr>\n",
       "    <tr>\n",
       "      <th>8</th>\n",
       "      <td>3</td>\n",
       "      <td>3</td>\n",
       "    </tr>\n",
       "    <tr>\n",
       "      <th>9</th>\n",
       "      <td>0</td>\n",
       "      <td>2</td>\n",
       "    </tr>\n",
       "    <tr>\n",
       "      <th>10</th>\n",
       "      <td>3</td>\n",
       "      <td>0</td>\n",
       "    </tr>\n",
       "    <tr>\n",
       "      <th>11</th>\n",
       "      <td>2</td>\n",
       "      <td>0</td>\n",
       "    </tr>\n",
       "    <tr>\n",
       "      <th>12</th>\n",
       "      <td>0</td>\n",
       "      <td>3</td>\n",
       "    </tr>\n",
       "    <tr>\n",
       "      <th>13</th>\n",
       "      <td>3</td>\n",
       "      <td>3</td>\n",
       "    </tr>\n",
       "    <tr>\n",
       "      <th>14</th>\n",
       "      <td>0</td>\n",
       "      <td>0</td>\n",
       "    </tr>\n",
       "    <tr>\n",
       "      <th>15</th>\n",
       "      <td>0</td>\n",
       "      <td>2</td>\n",
       "    </tr>\n",
       "    <tr>\n",
       "      <th>16</th>\n",
       "      <td>0</td>\n",
       "      <td>3</td>\n",
       "    </tr>\n",
       "    <tr>\n",
       "      <th>17</th>\n",
       "      <td>0</td>\n",
       "      <td>2</td>\n",
       "    </tr>\n",
       "    <tr>\n",
       "      <th>18</th>\n",
       "      <td>1</td>\n",
       "      <td>3</td>\n",
       "    </tr>\n",
       "    <tr>\n",
       "      <th>19</th>\n",
       "      <td>3</td>\n",
       "      <td>3</td>\n",
       "    </tr>\n",
       "    <tr>\n",
       "      <th>20</th>\n",
       "      <td>3</td>\n",
       "      <td>3</td>\n",
       "    </tr>\n",
       "    <tr>\n",
       "      <th>21</th>\n",
       "      <td>0</td>\n",
       "      <td>0</td>\n",
       "    </tr>\n",
       "    <tr>\n",
       "      <th>22</th>\n",
       "      <td>0</td>\n",
       "      <td>0</td>\n",
       "    </tr>\n",
       "    <tr>\n",
       "      <th>23</th>\n",
       "      <td>0</td>\n",
       "      <td>1</td>\n",
       "    </tr>\n",
       "    <tr>\n",
       "      <th>24</th>\n",
       "      <td>2</td>\n",
       "      <td>1</td>\n",
       "    </tr>\n",
       "    <tr>\n",
       "      <th>25</th>\n",
       "      <td>3</td>\n",
       "      <td>3</td>\n",
       "    </tr>\n",
       "    <tr>\n",
       "      <th>26</th>\n",
       "      <td>1</td>\n",
       "      <td>0</td>\n",
       "    </tr>\n",
       "    <tr>\n",
       "      <th>27</th>\n",
       "      <td>3</td>\n",
       "      <td>2</td>\n",
       "    </tr>\n",
       "    <tr>\n",
       "      <th>28</th>\n",
       "      <td>3</td>\n",
       "      <td>3</td>\n",
       "    </tr>\n",
       "    <tr>\n",
       "      <th>29</th>\n",
       "      <td>2</td>\n",
       "      <td>1</td>\n",
       "    </tr>\n",
       "    <tr>\n",
       "      <th>30</th>\n",
       "      <td>3</td>\n",
       "      <td>3</td>\n",
       "    </tr>\n",
       "    <tr>\n",
       "      <th>31</th>\n",
       "      <td>3</td>\n",
       "      <td>3</td>\n",
       "    </tr>\n",
       "    <tr>\n",
       "      <th>32</th>\n",
       "      <td>0</td>\n",
       "      <td>3</td>\n",
       "    </tr>\n",
       "    <tr>\n",
       "      <th>33</th>\n",
       "      <td>0</td>\n",
       "      <td>3</td>\n",
       "    </tr>\n",
       "    <tr>\n",
       "      <th>34</th>\n",
       "      <td>3</td>\n",
       "      <td>3</td>\n",
       "    </tr>\n",
       "    <tr>\n",
       "      <th>35</th>\n",
       "      <td>3</td>\n",
       "      <td>3</td>\n",
       "    </tr>\n",
       "    <tr>\n",
       "      <th>36</th>\n",
       "      <td>3</td>\n",
       "      <td>0</td>\n",
       "    </tr>\n",
       "  </tbody>\n",
       "</table>\n",
       "</div>"
      ],
      "text/plain": [
       "    Original Code  Original Code.3\n",
       "0               0                3\n",
       "1               0                0\n",
       "2               0                0\n",
       "3               3                3\n",
       "4               1                0\n",
       "5               3                3\n",
       "6               3                3\n",
       "7               3                3\n",
       "8               3                3\n",
       "9               0                2\n",
       "10              3                0\n",
       "11              2                0\n",
       "12              0                3\n",
       "13              3                3\n",
       "14              0                0\n",
       "15              0                2\n",
       "16              0                3\n",
       "17              0                2\n",
       "18              1                3\n",
       "19              3                3\n",
       "20              3                3\n",
       "21              0                0\n",
       "22              0                0\n",
       "23              0                1\n",
       "24              2                1\n",
       "25              3                3\n",
       "26              1                0\n",
       "27              3                2\n",
       "28              3                3\n",
       "29              2                1\n",
       "30              3                3\n",
       "31              3                3\n",
       "32              0                3\n",
       "33              0                3\n",
       "34              3                3\n",
       "35              3                3\n",
       "36              3                0"
      ]
     },
     "execution_count": 98,
     "metadata": {},
     "output_type": "execute_result"
    }
   ],
   "source": [
    "control_data[_1_mc_orig]"
   ]
  },
  {
   "cell_type": "code",
   "execution_count": 99,
   "metadata": {},
   "outputs": [
    {
     "data": {
      "text/plain": [
       "([<matplotlib.axis.XTick at 0x1f834dc0>,\n",
       "  <matplotlib.axis.XTick at 0x1f834da8>,\n",
       "  <matplotlib.axis.XTick at 0x1f850940>,\n",
       "  <matplotlib.axis.XTick at 0x1f872928>],\n",
       " <a list of 4 Text xticklabel objects>)"
      ]
     },
     "execution_count": 99,
     "metadata": {},
     "output_type": "execute_result"
    },
    {
     "data": {
      "image/png": "[encoded data removed]",
      "text/plain": [
       "<Figure size 432x288 with 1 Axes>"
      ]
     },
     "metadata": {
      "needs_background": "light"
     },
     "output_type": "display_data"
    }
   ],
   "source": [
    "plt.figure()\n",
    "plt.title('Narrative Understanding (Control)')\n",
    "plot_data = [x_1, x_2, x_3, x_0]\n",
    "plt.boxplot(plot_data, notch=True)\n",
    "plt.ylabel('Narrative Understanding Rank Sum')\n",
    "plt.xticks([1, 2, 3, 4], ['Point 1', 'Point 2', 'Point 3', 'Misinformation'])"
   ]
  },
  {
   "cell_type": "code",
   "execution_count": 100,
   "metadata": {},
   "outputs": [],
   "source": [
    "y_1 = (np.sum(experimental_data[_1_mc_orig].to_numpy(), axis=1))\n",
    "y_2 = (np.sum(experimental_data[_2_mc_orig].to_numpy(), axis=1))\n",
    "y_3 = (np.sum(experimental_data[_3_mc_orig].to_numpy(), axis=1))\n",
    "y_0 = (np.sum(experimental_data[_0_mc_orig].to_numpy(), axis=1))\n",
    "\n",
    "q = np.concatenate((_1_mc_orig, _2_mc_orig, _3_mc_orig, _0_mc_orig))\n",
    "y_total = (np.sum(experimental_data[q].to_numpy(), axis=1))"
   ]
  },
  {
   "cell_type": "code",
   "execution_count": 101,
   "metadata": {},
   "outputs": [
    {
     "data": {
      "text/plain": [
       "([<matplotlib.axis.XTick at 0x1f899298>,\n",
       "  <matplotlib.axis.XTick at 0x1f899280>,\n",
       "  <matplotlib.axis.XTick at 0x1f89ddc0>,\n",
       "  <matplotlib.axis.XTick at 0x1f8c3dd8>],\n",
       " <a list of 4 Text xticklabel objects>)"
      ]
     },
     "execution_count": 101,
     "metadata": {},
     "output_type": "execute_result"
    },
    {
     "data": {
      "image/png": "[encoded data removed]",
      "text/plain": [
       "<Figure size 432x288 with 1 Axes>"
      ]
     },
     "metadata": {
      "needs_background": "light"
     },
     "output_type": "display_data"
    }
   ],
   "source": [
    "plt.figure()\n",
    "plt.title('Narrative Understanding (Experimental)')\n",
    "plot_data = [y_1, y_2, y_3, y_0]\n",
    "plt.boxplot(plot_data, notch=True)\n",
    "plt.ylabel('Narrative Understanding Rank Sum')\n",
    "plt.xticks([1, 2, 3, 4], ['Point 1', 'Point 2', 'Point 3', 'Misinformation'])"
   ]
  },
  {
   "cell_type": "code",
   "execution_count": 102,
   "metadata": {},
   "outputs": [
    {
     "name": "stdout",
     "output_type": "stream",
     "text": [
      "Statistics=533.500, p=0.242\n",
      "Same distribution (fail to reject H0)\n",
      "-0.08474168056934936\n"
     ]
    }
   ],
   "source": [
    "stat, p = mannwhitneyu(x_total, y_total)\n",
    "print('Statistics=%.3f, p=%.3f' % (stat, p))\n",
    "# interpret\n",
    "alpha = 0.05\n",
    "if p > alpha:\n",
    "\tprint('Same distribution (fail to reject H0)')\n",
    "else:\n",
    "\tprint('Different distribution (reject H0)')\n",
    "    \n",
    "    \n",
    "s, l = [y_total, x_total] if np.sum(y_total) < np.sum(x_total) else [x_total, y_total]\n",
    "N = len(x_total)+len(y_total)\n",
    "ns = len(s)\n",
    "nl = len(l)\n",
    "\n",
    "#    mu = (ns * (N+1))/2\n",
    "mu = (ns * nl) / 2\n",
    "sigma = math.sqrt((ns * nl * (N+1))/12)\n",
    "#    z = (np.sum(s) - mu)/sigma\n",
    "z = (stat - mu)/sigma\n",
    "r = z / math.sqrt(N)\n",
    "print(r)"
   ]
  },
  {
   "cell_type": "code",
   "execution_count": 103,
   "metadata": {},
   "outputs": [
    {
     "data": {
      "text/plain": [
       "([<matplotlib.axis.XTick at 0x1f8e3100>,\n",
       "  <matplotlib.axis.XTick at 0x1f8e3130>],\n",
       " <a list of 2 Text xticklabel objects>)"
      ]
     },
     "execution_count": 103,
     "metadata": {},
     "output_type": "execute_result"
    },
    {
     "data": {
      "image/png": "[encoded data removed]",
      "text/plain": [
       "<Figure size 432x288 with 1 Axes>"
      ]
     },
     "metadata": {
      "needs_background": "light"
     },
     "output_type": "display_data"
    }
   ],
   "source": [
    "plt.figure()\n",
    "plt.title('Narrative Understanding')\n",
    "plot_data = [x_total, y_total]\n",
    "plt.boxplot(plot_data, notch=True)\n",
    "plt.ylim(0, 3*8)\n",
    "plt.ylabel('Narrative Understanding Rank Sum')\n",
    "\n",
    "plt.xticks([1, 2], ['Control', 'Experimental'])"
   ]
  },
  {
   "cell_type": "code",
   "execution_count": 104,
   "metadata": {},
   "outputs": [
    {
     "name": "stdout",
     "output_type": "stream",
     "text": [
      "\tTest Statistic: 2.0567030172114187\n",
      "\tCritical values: [0.529 0.602 0.722 0.842 1.002]\n",
      "\tSignificance levels: [15.  10.   5.   2.5  1. ]\n",
      "not normally distributed\n"
     ]
    }
   ],
   "source": [
    "stat, values, sig = stats.anderson(np.log(x_total))\n",
    "print(f\"\\tTest Statistic: {stat}\\n\\tCritical values: {values}\\n\\tSignificance levels: {sig}\")\n",
    "\n",
    "if stat > values[2]:\n",
    "    print(\"not normally distributed\")\n",
    "else: \n",
    "    print(\"normally distributed\")"
   ]
  },
  {
   "cell_type": "code",
   "execution_count": null,
   "metadata": {},
   "outputs": [],
   "source": [
    "stats.levene(x_total, x_total)"
   ]
  },
  {
   "cell_type": "code",
   "execution_count": 105,
   "metadata": {},
   "outputs": [
    {
     "name": "stdout",
     "output_type": "stream",
     "text": [
      "Statistics=584.000, p=0.462\n",
      "Same distribution (fail to reject H0)\n"
     ]
    }
   ],
   "source": [
    "stat, p = mannwhitneyu(x_0, y_0)\n",
    "print('Statistics=%.3f, p=%.3f' % (stat, p))\n",
    "# interpret\n",
    "alpha = 0.05\n",
    "if p > alpha:\n",
    "\tprint('Same distribution (fail to reject H0)')\n",
    "else:\n",
    "\tprint('Different distribution (reject H0)')\n",
    "    "
   ]
  },
  {
   "cell_type": "code",
   "execution_count": 106,
   "metadata": {},
   "outputs": [
    {
     "name": "stdout",
     "output_type": "stream",
     "text": [
      "Statistics=579.000, p=0.438\n",
      "Same distribution (fail to reject H0)\n"
     ]
    }
   ],
   "source": [
    "stat, p = mannwhitneyu(x_1, y_1)\n",
    "print('Statistics=%.3f, p=%.3f' % (stat, p))\n",
    "# interpret\n",
    "alpha = 0.05\n",
    "if p > alpha:\n",
    "\tprint('Same distribution (fail to reject H0)')\n",
    "else:\n",
    "\tprint('Different distribution (reject H0)')\n",
    "    "
   ]
  },
  {
   "cell_type": "code",
   "execution_count": 107,
   "metadata": {},
   "outputs": [
    {
     "name": "stdout",
     "output_type": "stream",
     "text": [
      "Statistics=546.500, p=0.292\n",
      "Same distribution (fail to reject H0)\n"
     ]
    }
   ],
   "source": [
    "stat, p = mannwhitneyu(x_2, y_2)\n",
    "print('Statistics=%.3f, p=%.3f' % (stat, p))\n",
    "# interpret\n",
    "alpha = 0.05\n",
    "if p > alpha:\n",
    "\tprint('Same distribution (fail to reject H0)')\n",
    "else:\n",
    "\tprint('Different distribution (reject H0)')\n",
    "    "
   ]
  },
  {
   "cell_type": "code",
   "execution_count": 108,
   "metadata": {},
   "outputs": [
    {
     "name": "stdout",
     "output_type": "stream",
     "text": [
      "Statistics=489.500, p=0.105\n",
      "Same distribution (fail to reject H0)\n"
     ]
    }
   ],
   "source": [
    "stat, p = mannwhitneyu(x_3, y_3)\n",
    "print('Statistics=%.3f, p=%.3f' % (stat, p))\n",
    "# interpret\n",
    "alpha = 0.05\n",
    "if p > alpha:\n",
    "\tprint('Same distribution (fail to reject H0)')\n",
    "else:\n",
    "\tprint('Different distribution (reject H0)')\n",
    "    "
   ]
  },
  {
   "cell_type": "code",
   "execution_count": 109,
   "metadata": {},
   "outputs": [
    {
     "name": "stdout",
     "output_type": "stream",
     "text": [
      "523\n",
      "14.135135135135135\n",
      "15.0\n"
     ]
    }
   ],
   "source": [
    "print(np.sum(x_total))\n",
    "print(np.mean(x_total))\n",
    "print(np.median(x_total))"
   ]
  },
  {
   "cell_type": "code",
   "execution_count": 110,
   "metadata": {},
   "outputs": [
    {
     "name": "stdout",
     "output_type": "stream",
     "text": [
      "481\n",
      "15.03125\n",
      "15.0\n"
     ]
    }
   ],
   "source": [
    "print(np.sum(y_total))\n",
    "print(np.mean(y_total))\n",
    "print(np.median(y_total))"
   ]
  },
  {
   "cell_type": "markdown",
   "metadata": {},
   "source": [
    "# PCG"
   ]
  },
  {
   "cell_type": "code",
   "execution_count": 111,
   "metadata": {},
   "outputs": [],
   "source": [
    "usability = [\n",
    "    'I was not able to navigate between two points in the environment', \n",
    "    'It was easy to get to the places I wanted to go'\n",
    "]\n",
    "suitability=[\n",
    "    'The narrative did not feel well suited to this environment',\n",
    "    'The atmosphere of the environment suited the narrative'\n",
    "]\n",
    "navigability=[\n",
    "    'When I moved around in the environment I felt lost',\n",
    "    'I always knew where to go in the environment'\n",
    "]\n",
    "interest=[\n",
    "    'I was curious to explore the environment',\n",
    "    'I found the environment boring', \n",
    "    'I want to continue exploring this environment'\n",
    "]"
   ]
  },
  {
   "cell_type": "code",
   "execution_count": 112,
   "metadata": {},
   "outputs": [],
   "source": [
    "## usability\n",
    "x = control_data[usability]\n",
    "y = experimental_data[usability]\n",
    "\n",
    "temp = x.to_numpy()\n",
    "fix = np.subtract([8, 0], temp)\n",
    "x_usability = np.multiply([1, -1], fix)\n",
    "\n",
    "temp = y.to_numpy()\n",
    "fix = np.subtract([8, 0], temp)\n",
    "y_usability = np.multiply([1, -1], fix)"
   ]
  },
  {
   "cell_type": "code",
   "execution_count": 113,
   "metadata": {},
   "outputs": [],
   "source": [
    "## suitability\n",
    "x = control_data[suitability]\n",
    "y = experimental_data[suitability]\n",
    "\n",
    "temp = x.to_numpy()\n",
    "fix = np.subtract([8, 0], temp)\n",
    "x_suitability = np.multiply([1, -1], fix)\n",
    "\n",
    "temp = y.to_numpy()\n",
    "fix = np.subtract([8, 0], temp)\n",
    "y_suitability = np.multiply([1, -1], fix)"
   ]
  },
  {
   "cell_type": "code",
   "execution_count": 114,
   "metadata": {},
   "outputs": [],
   "source": [
    "## navigability\n",
    "x = control_data[navigability]\n",
    "y = experimental_data[navigability]\n",
    "\n",
    "temp = x.to_numpy()\n",
    "fix = np.subtract([8, 0], temp)\n",
    "x_navigability = np.multiply([1, -1], fix)\n",
    "\n",
    "temp = y.to_numpy()\n",
    "fix = np.subtract([8, 0], temp)\n",
    "y_navigability = np.multiply([1, -1], fix)"
   ]
  },
  {
   "cell_type": "code",
   "execution_count": 115,
   "metadata": {},
   "outputs": [],
   "source": [
    "## interest\n",
    "x = control_data[interest]\n",
    "y = experimental_data[interest]\n",
    "\n",
    "temp = x.to_numpy()\n",
    "fix = np.subtract([0, 8, 0], temp)\n",
    "x_interest = np.multiply([-1, 1, -1], fix)\n",
    "\n",
    "temp = y.to_numpy()\n",
    "fix = np.subtract([0, 8, 0], temp)\n",
    "y_interest = np.multiply([-1, 1, -1], fix)"
   ]
  },
  {
   "cell_type": "code",
   "execution_count": 116,
   "metadata": {},
   "outputs": [
    {
     "name": "stdout",
     "output_type": "stream",
     "text": [
      "Original Data:\n",
      "\tTest Statistic: 2.9782560002281215\n",
      "\tCritical values: [0.529 0.602 0.722 0.842 1.002]\n",
      "\tSignificance levels: [15.  10.   5.   2.5  1. ]\n",
      "not normally distributed\n",
      "Log Transformed Data:\n",
      "\tTest Statistic: 2.9782560002281215\n",
      "\tCritical values: [0.529 0.602 0.722 0.842 1.002]\n",
      "\tSignificance levels: [15.  10.   5.   2.5  1. ]\n",
      "not normally distributed\n"
     ]
    },
    {
     "data": {
      "image/png": "[encoded data removed]",
      "text/plain": [
       "<Figure size 432x288 with 1 Axes>"
      ]
     },
     "metadata": {
      "needs_background": "light"
     },
     "output_type": "display_data"
    },
    {
     "name": "stdout",
     "output_type": "stream",
     "text": [
      "Original Data:\n",
      "\tTest Statistic: 1.8447884238606775\n",
      "\tCritical values: [0.529 0.602 0.722 0.842 1.002]\n",
      "\tSignificance levels: [15.  10.   5.   2.5  1. ]\n",
      "not normally distributed\n",
      "Log Transformed Data:\n",
      "\tTest Statistic: 1.8447884238606775\n",
      "\tCritical values: [0.529 0.602 0.722 0.842 1.002]\n",
      "\tSignificance levels: [15.  10.   5.   2.5  1. ]\n",
      "not normally distributed\n"
     ]
    },
    {
     "data": {
      "image/png": "[encoded data removed]",
      "text/plain": [
       "<Figure size 432x288 with 1 Axes>"
      ]
     },
     "metadata": {
      "needs_background": "light"
     },
     "output_type": "display_data"
    }
   ],
   "source": [
    "is_normal(x_usability, y_usability, ['C', 'X'])"
   ]
  },
  {
   "cell_type": "code",
   "execution_count": 117,
   "metadata": {},
   "outputs": [
    {
     "name": "stdout",
     "output_type": "stream",
     "text": [
      "Original Data:\n",
      "\tTest Statistic: 4.575074540834649\n",
      "\tCritical values: [0.529 0.602 0.722 0.842 1.002]\n",
      "\tSignificance levels: [15.  10.   5.   2.5  1. ]\n",
      "not normally distributed\n",
      "Log Transformed Data:\n",
      "\tTest Statistic: 4.575074540834649\n",
      "\tCritical values: [0.529 0.602 0.722 0.842 1.002]\n",
      "\tSignificance levels: [15.  10.   5.   2.5  1. ]\n",
      "not normally distributed\n"
     ]
    },
    {
     "data": {
      "image/png": "[encoded data removed]",
      "text/plain": [
       "<Figure size 432x288 with 1 Axes>"
      ]
     },
     "metadata": {
      "needs_background": "light"
     },
     "output_type": "display_data"
    },
    {
     "name": "stdout",
     "output_type": "stream",
     "text": [
      "Original Data:\n",
      "\tTest Statistic: 3.76093133783354\n",
      "\tCritical values: [0.529 0.602 0.722 0.842 1.002]\n",
      "\tSignificance levels: [15.  10.   5.   2.5  1. ]\n",
      "not normally distributed\n",
      "Log Transformed Data:\n",
      "\tTest Statistic: 3.76093133783354\n",
      "\tCritical values: [0.529 0.602 0.722 0.842 1.002]\n",
      "\tSignificance levels: [15.  10.   5.   2.5  1. ]\n",
      "not normally distributed\n"
     ]
    },
    {
     "data": {
      "image/png": "[encoded data removed]",
      "text/plain": [
       "<Figure size 432x288 with 1 Axes>"
      ]
     },
     "metadata": {
      "needs_background": "light"
     },
     "output_type": "display_data"
    }
   ],
   "source": [
    "is_normal(np.log(x_usability), np.log(y_usability), ['C', 'X'])"
   ]
  },
  {
   "cell_type": "code",
   "execution_count": 118,
   "metadata": {},
   "outputs": [],
   "source": [
    "def mw(x, y):\n",
    "    x_total = np.sum(x, axis=1)\n",
    "    y_total = np.sum(y, axis=1)\n",
    "    stat, p = mannwhitneyu(x_total, y_total)\n",
    "    print('Statistics=%.3f, p=%.3f' % (stat, p))\n",
    "    # interpret\n",
    "    alpha = 0.05\n",
    "    if p > alpha:\n",
    "        print('Same distribution (fail to reject H0)')\n",
    "    else:\n",
    "        print('Different distribution (reject H0)')\n",
    "\n",
    "\n",
    "    s, l = [y_total, x_total] if np.sum(y_total) < np.sum(x_total) else [x_total, y_total]\n",
    "    N = len(x_total)+len(y_total)\n",
    "    ns = len(s)\n",
    "    nl = len(l)\n",
    "\n",
    "#    mu = (ns * (N+1))/2\n",
    "    mu = (ns * nl) / 2\n",
    "    sigma = math.sqrt((ns * nl * (N+1))/12)\n",
    "#    z = (np.sum(s) - mu)/sigma\n",
    "    z = (stat - mu)/sigma\n",
    "    r = z / math.sqrt(N)\n",
    "    print(r)\n",
    "    return stat, p, r\n"
   ]
  },
  {
   "cell_type": "code",
   "execution_count": 119,
   "metadata": {},
   "outputs": [
    {
     "name": "stdout",
     "output_type": "stream",
     "text": [
      "Statistics=498.500, p=0.128\n",
      "Same distribution (fail to reject H0)\n",
      "-0.13544183133733617\n"
     ]
    },
    {
     "data": {
      "text/plain": [
       "(498.5, 0.12827005864654545, -0.13544183133733617)"
      ]
     },
     "execution_count": 119,
     "metadata": {},
     "output_type": "execute_result"
    }
   ],
   "source": [
    "\n",
    "mw(x_usability, y_usability)"
   ]
  },
  {
   "cell_type": "code",
   "execution_count": 137,
   "metadata": {},
   "outputs": [],
   "source": [
    "\n",
    "def describe(data):\n",
    "    print(\"mean: \" + str(np.mean(data)))\n",
    "    print(\"ranksum: \" + str(np.sum(data)))\n",
    "    print(\"median:\" + str(np.median(data)))"
   ]
  },
  {
   "cell_type": "code",
   "execution_count": 138,
   "metadata": {},
   "outputs": [
    {
     "name": "stdout",
     "output_type": "stream",
     "text": [
      "mean: 4.972972972972973\n",
      "ranksum: 368\n",
      "median:6.0\n"
     ]
    }
   ],
   "source": [
    "describe(x_usability)\n",
    "describe(y_usability)"
   ]
  },
  {
   "cell_type": "code",
   "execution_count": 140,
   "metadata": {},
   "outputs": [
    {
     "name": "stdout",
     "output_type": "stream",
     "text": [
      "mean: 5.108108108108108\n",
      "ranksum: 378\n",
      "median:5.5\n",
      "mean: 5.390625\n",
      "ranksum: 345\n",
      "median:6.0\n"
     ]
    }
   ],
   "source": [
    "describe(x_suitability)\n",
    "describe(y_suitability)"
   ]
  },
  {
   "cell_type": "code",
   "execution_count": 140,
   "metadata": {},
   "outputs": [
    {
     "name": "stdout",
     "output_type": "stream",
     "text": [
      "mean: 5.108108108108108\n",
      "ranksum: 378\n",
      "median:5.5\n",
      "mean: 5.390625\n",
      "ranksum: 345\n",
      "median:6.0\n"
     ]
    }
   ],
   "source": [
    "describe(x_suitability)\n",
    "describe(y_suitability)"
   ]
  },
  {
   "cell_type": "code",
   "execution_count": 142,
   "metadata": {},
   "outputs": [
    {
     "name": "stdout",
     "output_type": "stream",
     "text": [
      "mean: 5.0\n",
      "ranksum: 370\n",
      "median:5.0\n",
      "mean: 4.28125\n",
      "ranksum: 274\n",
      "median:5.0\n"
     ]
    }
   ],
   "source": [
    "describe(x_navigability)\n",
    "describe(y_navigability)"
   ]
  },
  {
   "cell_type": "code",
   "execution_count": 143,
   "metadata": {},
   "outputs": [
    {
     "name": "stdout",
     "output_type": "stream",
     "text": [
      "mean: 4.972972972972973\n",
      "ranksum: 552\n",
      "median:5.0\n",
      "mean: 4.927083333333333\n",
      "ranksum: 473\n",
      "median:5.0\n"
     ]
    }
   ],
   "source": [
    "describe(x_interest)\n",
    "describe(y_interest)"
   ]
  },
  {
   "cell_type": "code",
   "execution_count": 139,
   "metadata": {},
   "outputs": [
    {
     "name": "stdout",
     "output_type": "stream",
     "text": [
      "mean: 4.59375\n",
      "ranksum: 294\n",
      "median:5.0\n"
     ]
    }
   ],
   "source": [
    "describe(y_usability)"
   ]
  },
  {
   "cell_type": "code",
   "execution_count": null,
   "metadata": {},
   "outputs": [],
   "source": [
    "mw(x_suitability, y_suitability)"
   ]
  },
  {
   "cell_type": "code",
   "execution_count": 121,
   "metadata": {},
   "outputs": [
    {
     "name": "stdout",
     "output_type": "stream",
     "text": [
      "Statistics=470.000, p=0.070\n",
      "Same distribution (fail to reject H0)\n",
      "-0.1767262398198397\n"
     ]
    },
    {
     "data": {
      "text/plain": [
       "(470.0, 0.07048752938003412, -0.1767262398198397)"
      ]
     },
     "execution_count": 121,
     "metadata": {},
     "output_type": "execute_result"
    }
   ],
   "source": [
    "mw(x_navigability, y_navigability)"
   ]
  },
  {
   "cell_type": "code",
   "execution_count": 122,
   "metadata": {},
   "outputs": [
    {
     "name": "stdout",
     "output_type": "stream",
     "text": [
      "Statistics=584.500, p=0.466\n",
      "Same distribution (fail to reject H0)\n",
      "-0.010864318021711455\n"
     ]
    },
    {
     "data": {
      "text/plain": [
       "(584.5, 0.4662386126736937, -0.010864318021711455)"
      ]
     },
     "execution_count": 122,
     "metadata": {},
     "output_type": "execute_result"
    }
   ],
   "source": [
    "mw(x_interest, y_interest)"
   ]
  },
  {
   "cell_type": "code",
   "execution_count": 123,
   "metadata": {},
   "outputs": [],
   "source": [
    "def bp(x, y, title):\n",
    "    total_x = np.sum(x, axis=1)\n",
    "    total_y = np.sum(y, axis=1)\n",
    "    plt.figure()\n",
    "    plt.title(title)\n",
    "    plot_data = [total_x, total_y]\n",
    "    plt.boxplot(plot_data, notch=True)\n",
    "    plt.ylabel('Sum of Scores')\n",
    "    plt.xticks([1, 2], ['Control', 'Experimental'])"
   ]
  },
  {
   "cell_type": "code",
   "execution_count": 124,
   "metadata": {
    "scrolled": true
   },
   "outputs": [
    {
     "data": {
      "image/png": "[encoded data removed]",
      "text/plain": [
       "<Figure size 432x288 with 1 Axes>"
      ]
     },
     "metadata": {
      "needs_background": "light"
     },
     "output_type": "display_data"
    }
   ],
   "source": [
    "bp(x_usability, y_usability, 'Usability')"
   ]
  },
  {
   "cell_type": "code",
   "execution_count": 125,
   "metadata": {},
   "outputs": [
    {
     "data": {
      "image/png": "[encoded data removed]",
      "text/plain": [
       "<Figure size 432x288 with 1 Axes>"
      ]
     },
     "metadata": {
      "needs_background": "light"
     },
     "output_type": "display_data"
    }
   ],
   "source": [
    "bp(x_suitability, y_suitability, 'Suitability')"
   ]
  },
  {
   "cell_type": "code",
   "execution_count": 126,
   "metadata": {
    "scrolled": true
   },
   "outputs": [
    {
     "data": {
      "image/png": "[encoded data removed]",
      "text/plain": [
       "<Figure size 432x288 with 1 Axes>"
      ]
     },
     "metadata": {
      "needs_background": "light"
     },
     "output_type": "display_data"
    }
   ],
   "source": [
    "bp(x_navigability, y_navigability, 'Navigability')"
   ]
  },
  {
   "cell_type": "code",
   "execution_count": 127,
   "metadata": {},
   "outputs": [
    {
     "data": {
      "image/png": "[encoded data removed]",
      "text/plain": [
       "<Figure size 432x288 with 1 Axes>"
      ]
     },
     "metadata": {
      "needs_background": "light"
     },
     "output_type": "display_data"
    }
   ],
   "source": [
    "bp(x_interest, y_interest, 'Interest')"
   ]
  },
  {
   "cell_type": "code",
   "execution_count": null,
   "metadata": {},
   "outputs": [],
   "source": []
  }
 ],
 "metadata": {
  "kernelspec": {
   "display_name": "Python 3",
   "language": "python",
   "name": "python3"
  },
  "language_info": {
   "codemirror_mode": {
    "name": "ipython",
    "version": 3
   },
   "file_extension": ".py",
   "mimetype": "text/x-python",
   "name": "python",
   "nbconvert_exporter": "python",
   "pygments_lexer": "ipython3",
   "version": "3.8.3"
  }
 },
 "nbformat": 4,
 "nbformat_minor": 4
}
