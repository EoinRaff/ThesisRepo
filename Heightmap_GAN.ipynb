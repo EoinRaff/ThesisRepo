{
  "nbformat": 4,
  "nbformat_minor": 0,
  "metadata": {
    "colab": {
      "name": "Heightmap_GAN.ipynb",
      "provenance": [],
      "collapsed_sections": [],
      "authorship_tag": "ABX9TyPrpnO0ZJQM2mxLqiDJl4k4",
      "include_colab_link": true
    },
    "kernelspec": {
      "name": "python3",
      "display_name": "Python 3"
    },
    "accelerator": "GPU"
  },
  "cells": [
    {
      "cell_type": "markdown",
      "metadata": {
        "id": "view-in-github",
        "colab_type": "text"
      },
      "source": [
        "<a href=\"https://colab.research.google.com/github/EoinRaff/ThesisRepo/blob/dev/Heightmap_GAN.ipynb\" target=\"_parent\"><img src=\"https://colab.research.google.com/assets/colab-badge.svg\" alt=\"Open In Colab\"/></a>"
      ]
    },
    {
      "cell_type": "markdown",
      "metadata": {
        "id": "uw8hFbVCrsBy",
        "colab_type": "text"
      },
      "source": [
        "# Heightmap GAN\n",
        "\n",
        "This notebook contains a Generative Adversarial Network designed to generate realistic Heightmaps. These heightmaps will be used to produce high quality landscapes in Unreal Engine or Unity (TBD)."
      ]
    },
    {
      "cell_type": "markdown",
      "metadata": {
        "id": "OjIhT-i-L3HS",
        "colab_type": "text"
      },
      "source": [
        ""
      ]
    },
    {
      "cell_type": "code",
      "metadata": {
        "id": "B6Nixbew7_uL",
        "colab_type": "code",
        "colab": {}
      },
      "source": [
        "# helper function for formatting strings\n",
        "\n",
        "def hms_string(sec_elapsed):\n",
        "    h = int(sec_elapsed / (60 * 60))\n",
        "    m = int((sec_elapsed % (60 * 60)) / 60)\n",
        "    s = sec_elapsed % 60\n",
        "    return \"{}:{:>02}:{:>05.2f}\".format(h, m, s)"
      ],
      "execution_count": 0,
      "outputs": []
    },
    {
      "cell_type": "code",
      "metadata": {
        "id": "dtYPWykn9OJ7",
        "colab_type": "code",
        "colab": {
          "base_uri": "https://localhost:8080/",
          "height": 156
        },
        "outputId": "d864f4c9-61bb-4a96-e379-d7d0e655ebcf"
      },
      "source": [
        "try:\n",
        "    from google.colab import drive\n",
        "    drive.mount('/content/drive', force_remount=True)\n",
        "    COLAB = True\n",
        "    print(\"Note: using Google CoLab\")\n",
        "    %tensorflow_version 2.x\n",
        "except:\n",
        "    print(\"Note: not using Google CoLab\")\n",
        "    COLAB = False"
      ],
      "execution_count": 2,
      "outputs": [
        {
          "output_type": "stream",
          "text": [
            "Go to this URL in a browser: https://accounts.google.com/o/oauth2/auth?client_id=947318989803-6bn6qk8qdgf4n4g3pfee6491hc0brc4i.apps.googleusercontent.com&redirect_uri=urn%3aietf%3awg%3aoauth%3a2.0%3aoob&response_type=code&scope=email%20https%3a%2f%2fwww.googleapis.com%2fauth%2fdocs.test%20https%3a%2f%2fwww.googleapis.com%2fauth%2fdrive%20https%3a%2f%2fwww.googleapis.com%2fauth%2fdrive.photos.readonly%20https%3a%2f%2fwww.googleapis.com%2fauth%2fpeopleapi.readonly\n",
            "\n",
            "Enter your authorization code:\n",
            "··········\n",
            "Mounted at /content/drive\n",
            "Note: using Google CoLab\n",
            "TensorFlow 2.x selected.\n"
          ],
          "name": "stdout"
        }
      ]
    },
    {
      "cell_type": "code",
      "metadata": {
        "id": "7z8omsHirpLq",
        "colab_type": "code",
        "colab": {}
      },
      "source": [
        "import tensorflow as tf\n",
        "from tensorflow.keras.layers import Input, Reshape, Dropout, Dense, Flatten, BatchNormalization, Activation, ZeroPadding2D\n",
        "from tensorflow.keras.layers import LeakyReLU\n",
        "from tensorflow.keras.layers import UpSampling2D, Conv2D\n",
        "from tensorflow.keras.models import Sequential, Model, load_model\n",
        "from tensorflow.keras.optimizers import Adam\n",
        "import numpy as np\n",
        "from PIL import Image\n",
        "from tqdm import tqdm\n",
        "import os \n",
        "import time\n",
        "import matplotlib.pyplot as plt"
      ],
      "execution_count": 0,
      "outputs": []
    },
    {
      "cell_type": "markdown",
      "metadata": {
        "id": "i3oIZddy-zXu",
        "colab_type": "text"
      },
      "source": [
        "Heightmaps courtesy of kaggle: https://www.kaggle.com/tpapp157/earth-terrain-height-and-segmentation-map-images"
      ]
    },
    {
      "cell_type": "code",
      "metadata": {
        "id": "wcFxYS6I84K3",
        "colab_type": "code",
        "colab": {
          "base_uri": "https://localhost:8080/",
          "height": 34
        },
        "outputId": "4d858ad4-cae2-43de-ac90-8f24a74a9922"
      },
      "source": [
        "# Generation resolution - Must be square \n",
        "# Training data is also scaled to this.\n",
        "# Note GENERATE_RES 4 or higher  will blow Google CoLab's memory and have not\n",
        "# been tested extensivly.\n",
        "GENERATE_RES = 3 # Generation resolution factor (1=32, 2=64, 3=96, 4=128, etc.)\n",
        "GENERATE_SQUARE = 32 * GENERATE_RES # rows/cols (should be square)\n",
        "IMAGE_CHANNELS = 1 # only need greyscale for heightmaps\n",
        "\n",
        "# Preview image \n",
        "PREVIEW_ROWS = 4\n",
        "PREVIEW_COLS = 7\n",
        "PREVIEW_MARGIN = 16\n",
        "\n",
        "# Size vector to generate images from\n",
        "SEED_SIZE = 100\n",
        "\n",
        "# Configuration\n",
        "DATA_PATH = '/content/drive/My Drive/Master Thesis/heightmaps'\n",
        "EPOCHS = 50\n",
        "BATCH_SIZE = 32\n",
        "BUFFER_SIZE = 60000\n",
        "\n",
        "print(f\"Will generate {GENERATE_SQUARE}px square images.\")"
      ],
      "execution_count": 4,
      "outputs": [
        {
          "output_type": "stream",
          "text": [
            "Will generate 96px square images.\n"
          ],
          "name": "stdout"
        }
      ]
    },
    {
      "cell_type": "markdown",
      "metadata": {
        "id": "ZcAI60cjJlev",
        "colab_type": "text"
      },
      "source": [
        "Load and Preprocess images"
      ]
    },
    {
      "cell_type": "code",
      "metadata": {
        "id": "JKbTKWtiJkrl",
        "colab_type": "code",
        "colab": {
          "base_uri": "https://localhost:8080/",
          "height": 102
        },
        "outputId": "942f9270-0dc1-4ca6-cf02-fce57b381933"
      },
      "source": [
        "# Image set has 5000.\n",
        "# Because of the time needed to preprocess, save a Numpy preprocessed file.\n",
        "\n",
        "training_binary_path = os.path.join(DATA_PATH,f'training_data_{GENERATE_SQUARE}_{GENERATE_SQUARE}.npy')\n",
        "\n",
        "print(f\"Looking for file: {training_binary_path}\")\n",
        "\n",
        "if not os.path.isfile(training_binary_path):\n",
        "  start = time.time()\n",
        "  print(\"Loading training images...\")\n",
        "\n",
        "  training_data = []\n",
        "  hmaps_path = os.path.join(DATA_PATH,'hmap_images')\n",
        "  for filename in tqdm(os.listdir(hmaps_path)):\n",
        "      path = os.path.join(hmaps_path,filename)\n",
        "      image = Image.open(path).resize((GENERATE_SQUARE,GENERATE_SQUARE),Image.ANTIALIAS)\n",
        "      training_data.append(np.asarray(image))\n",
        "  training_data = np.reshape(training_data,(-1,GENERATE_SQUARE,GENERATE_SQUARE,IMAGE_CHANNELS))\n",
        "  training_data = training_data.astype(np.float32)\n",
        "  training_data = training_data / 127.5 - 1.\n",
        "\n",
        "\n",
        "  print(\"Saving training image binary...\")\n",
        "  np.save(training_binary_path,training_data)\n",
        "  elapsed = time.time()-start\n",
        "  print (f'Image preprocess time: {hms_string(elapsed)}')\n",
        "else:\n",
        "  print(\"Loading previous training pickle...\")\n",
        "  training_data = np.load(training_binary_path)"
      ],
      "execution_count": 5,
      "outputs": [
        {
          "output_type": "stream",
          "text": [
            "Looking for file: /content/drive/My Drive/Master Thesis/heightmaps/training_data_96_96.npy\n",
            "Loading training images...\n"
          ],
          "name": "stdout"
        },
        {
          "output_type": "stream",
          "text": [
            "100%|██████████| 5000/5000 [25:58<00:00,  3.68it/s]\n"
          ],
          "name": "stderr"
        },
        {
          "output_type": "stream",
          "text": [
            "Saving training image binary...\n",
            "Image preprocess time: 0:26:23.08\n"
          ],
          "name": "stdout"
        }
      ]
    },
    {
      "cell_type": "code",
      "metadata": {
        "id": "10GgdRBwK-z3",
        "colab_type": "code",
        "colab": {}
      },
      "source": [
        "# Batch and shuffle the data\n",
        "train_dataset = tf.data.Dataset.from_tensor_slices(training_data).shuffle(BUFFER_SIZE).batch(BATCH_SIZE)"
      ],
      "execution_count": 0,
      "outputs": []
    },
    {
      "cell_type": "code",
      "metadata": {
        "id": "LVBi6A34LAyn",
        "colab_type": "code",
        "colab": {}
      },
      "source": [
        "def build_generator(seed_size, channels):\n",
        "    model = Sequential()\n",
        "\n",
        "    model.add(Dense(4*4*256,activation=\"relu\",input_dim=seed_size))\n",
        "    model.add(Reshape((4,4,256)))\n",
        "\n",
        "    model.add(UpSampling2D())\n",
        "    model.add(Conv2D(256,kernel_size=3,padding=\"same\"))\n",
        "    model.add(BatchNormalization(momentum=0.8))\n",
        "    model.add(Activation(\"relu\"))\n",
        "\n",
        "    model.add(UpSampling2D())\n",
        "    model.add(Conv2D(256,kernel_size=3,padding=\"same\"))\n",
        "    model.add(BatchNormalization(momentum=0.8))\n",
        "    model.add(Activation(\"relu\"))\n",
        "   \n",
        "    # Output resolution, additional upsampling\n",
        "    model.add(UpSampling2D())\n",
        "    model.add(Conv2D(128,kernel_size=3,padding=\"same\"))\n",
        "    model.add(BatchNormalization(momentum=0.8))\n",
        "    model.add(Activation(\"relu\"))\n",
        "\n",
        "    if GENERATE_RES>1:\n",
        "      model.add(UpSampling2D(size=(GENERATE_RES,GENERATE_RES)))\n",
        "      model.add(Conv2D(128,kernel_size=3,padding=\"same\"))\n",
        "      model.add(BatchNormalization(momentum=0.8))\n",
        "      model.add(Activation(\"relu\"))\n",
        "\n",
        "    # Final CNN layer\n",
        "    model.add(Conv2D(channels,kernel_size=3,padding=\"same\"))\n",
        "    model.add(Activation(\"tanh\"))\n",
        "\n",
        "    return model\n",
        "\n",
        "\n",
        "def build_discriminator(image_shape):\n",
        "    model = Sequential()\n",
        "\n",
        "    model.add(Conv2D(32, kernel_size=3, strides=2, input_shape=image_shape, padding=\"same\"))\n",
        "    model.add(LeakyReLU(alpha=0.2))\n",
        "\n",
        "    model.add(Dropout(0.25))\n",
        "    model.add(Conv2D(64, kernel_size=3, strides=2, padding=\"same\"))\n",
        "    model.add(ZeroPadding2D(padding=((0,1),(0,1))))\n",
        "    model.add(BatchNormalization(momentum=0.8))\n",
        "    model.add(LeakyReLU(alpha=0.2))\n",
        "\n",
        "    model.add(Dropout(0.25))\n",
        "    model.add(Conv2D(128, kernel_size=3, strides=2, padding=\"same\"))\n",
        "    model.add(BatchNormalization(momentum=0.8))\n",
        "    model.add(LeakyReLU(alpha=0.2))\n",
        "\n",
        "    model.add(Dropout(0.25))\n",
        "    model.add(Conv2D(256, kernel_size=3, strides=1, padding=\"same\"))\n",
        "    model.add(BatchNormalization(momentum=0.8))\n",
        "    model.add(LeakyReLU(alpha=0.2))\n",
        "\n",
        "    model.add(Dropout(0.25))\n",
        "    model.add(Conv2D(512, kernel_size=3, strides=1, padding=\"same\"))\n",
        "    model.add(BatchNormalization(momentum=0.8))\n",
        "    model.add(LeakyReLU(alpha=0.2))\n",
        "\n",
        "    model.add(Dropout(0.25))\n",
        "    model.add(Flatten())\n",
        "    model.add(Dense(1, activation='sigmoid'))\n",
        "\n",
        "    return model"
      ],
      "execution_count": 0,
      "outputs": []
    },
    {
      "cell_type": "code",
      "metadata": {
        "id": "iFym2PUKLMob",
        "colab_type": "code",
        "colab": {}
      },
      "source": [
        "  def save_images(cnt,noise):\n",
        "    image_array = np.full(( \n",
        "        PREVIEW_MARGIN + (PREVIEW_ROWS * (GENERATE_SQUARE+PREVIEW_MARGIN)), \n",
        "        PREVIEW_MARGIN + (PREVIEW_COLS * (GENERATE_SQUARE+PREVIEW_MARGIN)), 3), \n",
        "        255, dtype=np.uint8)\n",
        "    \n",
        "    generated_images = generator.predict(noise)\n",
        "\n",
        "    generated_images = 0.5 * generated_images + 0.5\n",
        "\n",
        "    image_count = 0\n",
        "    for row in range(PREVIEW_ROWS):\n",
        "        for col in range(PREVIEW_COLS):\n",
        "          r = row * (GENERATE_SQUARE+16) + PREVIEW_MARGIN\n",
        "          c = col * (GENERATE_SQUARE+16) + PREVIEW_MARGIN\n",
        "          image_array[r:r+GENERATE_SQUARE,c:c+GENERATE_SQUARE] = generated_images[image_count] * 255\n",
        "          image_count += 1\n",
        "\n",
        "            \n",
        "    output_path = os.path.join(DATA_PATH,'output')\n",
        "    if not os.path.exists(output_path):\n",
        "      os.makedirs(output_path)\n",
        "    \n",
        "    filename = os.path.join(output_path,f\"train-{cnt}.png\")\n",
        "    im = Image.fromarray(image_array)\n",
        "    im.save(filename)"
      ],
      "execution_count": 0,
      "outputs": []
    },
    {
      "cell_type": "code",
      "metadata": {
        "id": "oZU7F7LPLQQb",
        "colab_type": "code",
        "colab": {
          "base_uri": "https://localhost:8080/",
          "height": 285
        },
        "outputId": "affacd04-c778-4147-c2bf-da7fefda6264"
      },
      "source": [
        "generator = build_generator(SEED_SIZE, IMAGE_CHANNELS)\n",
        "\n",
        "noise = tf.random.normal([1, SEED_SIZE])\n",
        "generated_image = generator(noise, training=False)\n",
        "\n",
        "plt.imshow(generated_image[0, :, :, 0])"
      ],
      "execution_count": 12,
      "outputs": [
        {
          "output_type": "execute_result",
          "data": {
            "text/plain": [
              "<matplotlib.image.AxesImage at 0x7f47f0143630>"
            ]
          },
          "metadata": {
            "tags": []
          },
          "execution_count": 12
        },
        {
          "output_type": "display_data",
          "data": {
            "image/png": "[encoded data removed]",
            "text/plain": [
              "<Figure size 432x288 with 1 Axes>"
            ]
          },
          "metadata": {
            "tags": []
          }
        }
      ]
    },
    {
      "cell_type": "code",
      "metadata": {
        "id": "-XgYdSkQLSuD",
        "colab_type": "code",
        "colab": {
          "base_uri": "https://localhost:8080/",
          "height": 34
        },
        "outputId": "9a298d2a-7830-4249-93a3-6b6127bb44b0"
      },
      "source": [
        "image_shape = (GENERATE_SQUARE,GENERATE_SQUARE,IMAGE_CHANNELS)\n",
        "\n",
        "discriminator = build_discriminator(image_shape)\n",
        "decision = discriminator(generated_image)\n",
        "print (decision)"
      ],
      "execution_count": 13,
      "outputs": [
        {
          "output_type": "stream",
          "text": [
            "tf.Tensor([[0.49980065]], shape=(1, 1), dtype=float32)\n"
          ],
          "name": "stdout"
        }
      ]
    },
    {
      "cell_type": "code",
      "metadata": {
        "id": "YLqAGtrb1p0Y",
        "colab_type": "code",
        "colab": {}
      },
      "source": [
        "# Define loss functions for generator and discriminator\n",
        "cross_entropy = tf.keras.losses.BinaryCrossentropy(from_logits=True)\n",
        "\n",
        "def discriminator_loss(real_output, fake_output):\n",
        "  real_loss = cross_entropy(tf.ones_like(real_output), real_output)\n",
        "  fake_loss = cross_entropy(tf.zeros_like(fake_output), fake_output)\n",
        "  total_loss = real_loss + fake_loss\n",
        "  return total_loss\n",
        "\n",
        "def generator_loss(fake_output):\n",
        "  return cross_entropy(tf.ones_like(fake_output), fake_output)\n"
      ],
      "execution_count": 0,
      "outputs": []
    },
    {
      "cell_type": "code",
      "metadata": {
        "id": "fQV1RJ582t44",
        "colab_type": "code",
        "colab": {}
      },
      "source": [
        "# Values for Learning Rate need to be tuned based on resolution\n",
        "generator_optimizer = tf.keras.optimizers.Adam(1.5e-04, 0.5)\n",
        "discriminator_optimizer = tf.keras.optimizers.Adam(1.5e-04, 0.5)"
      ],
      "execution_count": 0,
      "outputs": []
    },
    {
      "cell_type": "code",
      "metadata": {
        "id": "Q7BfCmXF4CKW",
        "colab_type": "code",
        "colab": {}
      },
      "source": [
        "@tf.function\n",
        "def train_step(images):\n",
        "  seed = tf.random.normal([BATCH_SIZE, SEED_SIZE])\n",
        "\n",
        "  with tf.GradientTape() as gen_tape, tf.GradientTape() as disc_tape:\n",
        "    generated_images = generator(seed, training=True)\n",
        "\n",
        "    real_output = discriminator(images, training=True)\n",
        "    fake_output = discriminator(generated_images, training=True)\n",
        "\n",
        "    gen_loss = generator_loss(fake_output)\n",
        "    disc_loss = discriminator_loss(real_output, fake_output)\n",
        "\n",
        "    gradients_of_generator = gen_tape.gradient(gen_loss, generator.trainable_variables)\n",
        "    gradients_of_discriminator = disc_tape.gradient(disc_loss, discriminator.trainable_variables)\n",
        "\n",
        "    generator_optimizer.apply_gradients(zip(gradients_of_generator, generator.trainable_variables))\n",
        "    discriminator_optimizer.apply_gradients(zip(gradients_of_discriminator, discriminator.trainable_variables))\n",
        "\n",
        "    return gen_loss, disc_loss"
      ],
      "execution_count": 0,
      "outputs": []
    },
    {
      "cell_type": "code",
      "metadata": {
        "id": "Mzf1wchi55W4",
        "colab_type": "code",
        "colab": {}
      },
      "source": [
        "def train(dataset, epoch):\n",
        "  fixed_seed = np.random.normal(0, 1, (PREVIEW_ROWS * PREVIEW_COLS, SEED_SIZE))\n",
        "  start = time.time()\n",
        "\n",
        "  for epoch in range (epoch):\n",
        "    epoch_start = time.time()\n",
        "\n",
        "    gen_loss_list = []\n",
        "    disc_loss_list = []\n",
        "\n",
        "    for image_batch in dataset:\n",
        "      t = train_step(image_batch)\n",
        "      gen_loss_list.append(t[0])\n",
        "      disc_loss_list.append(t[1])\n",
        "\n",
        "    g_loss = sum(gen_loss_list) / len(gen_loss_list)\n",
        "    d_loss = sum(disc_loss_list) / len(disc_loss_list)\n",
        "\n",
        "    epoch_elapsed = time.time() - epoch_start\n",
        "    print(f'Epoch {epoch+1}, gen_loss={g_loss}, disc_loss={d_loss}, {hms_string(epoch_elapsed)}')\n",
        "\n",
        "    save_images(epoch, fixed_seed)\n",
        "  \n",
        "  elapsed = time.time() - start\n",
        "  print(f'Training time: {hms_string(elapsed)}')"
      ],
      "execution_count": 0,
      "outputs": []
    },
    {
      "cell_type": "code",
      "metadata": {
        "id": "yQsa5JyfLX4r",
        "colab_type": "code",
        "colab": {
          "base_uri": "https://localhost:8080/",
          "height": 884
        },
        "outputId": "91161185-a721-4788-cba3-0afedd3f2a0a"
      },
      "source": [
        "train(train_dataset, EPOCHS)"
      ],
      "execution_count": 22,
      "outputs": [
        {
          "output_type": "stream",
          "text": [
            "Epoch 1, gen_loss=0.6881925463676453, disc_loss=1.0558804273605347, 0:00:21.84\n",
            "Epoch 2, gen_loss=0.6931276917457581, disc_loss=1.0064733028411865, 0:00:16.45\n",
            "Epoch 3, gen_loss=0.6931390166282654, disc_loss=1.0064365863800049, 0:00:16.61\n",
            "Epoch 4, gen_loss=0.6931424736976624, disc_loss=1.0064247846603394, 0:00:16.79\n",
            "Epoch 5, gen_loss=0.6931380033493042, disc_loss=1.0064305067062378, 0:00:17.00\n",
            "Epoch 6, gen_loss=0.6930294036865234, disc_loss=1.0067225694656372, 0:00:17.24\n",
            "Epoch 7, gen_loss=0.6930198669433594, disc_loss=1.0070966482162476, 0:00:17.13\n",
            "Epoch 8, gen_loss=0.693146288394928, disc_loss=1.0064088106155396, 0:00:16.98\n",
            "Epoch 9, gen_loss=0.693146288394928, disc_loss=1.0064088106155396, 0:00:16.95\n",
            "Epoch 10, gen_loss=0.6931462287902832, disc_loss=1.0064088106155396, 0:00:17.01\n",
            "Epoch 11, gen_loss=0.6931462287902832, disc_loss=1.0064088106155396, 0:00:17.07\n",
            "Epoch 12, gen_loss=0.693146288394928, disc_loss=1.0064088106155396, 0:00:17.05\n",
            "Epoch 13, gen_loss=0.6931460499763489, disc_loss=1.0064090490341187, 0:00:17.02\n",
            "Epoch 14, gen_loss=0.693146288394928, disc_loss=1.0064088106155396, 0:00:17.01\n",
            "Epoch 15, gen_loss=0.693146288394928, disc_loss=1.0064088106155396, 0:00:17.02\n",
            "Epoch 16, gen_loss=0.693146288394928, disc_loss=1.0064088106155396, 0:00:17.02\n",
            "Epoch 17, gen_loss=0.693146288394928, disc_loss=1.0064088106155396, 0:00:17.01\n",
            "Epoch 18, gen_loss=0.693146288394928, disc_loss=1.0064088106155396, 0:00:17.03\n",
            "Epoch 19, gen_loss=0.693146288394928, disc_loss=1.0064088106155396, 0:00:17.03\n",
            "Epoch 20, gen_loss=0.693146288394928, disc_loss=1.0064088106155396, 0:00:17.04\n",
            "Epoch 21, gen_loss=0.693146288394928, disc_loss=1.0064088106155396, 0:00:17.06\n",
            "Epoch 22, gen_loss=0.693146288394928, disc_loss=1.0064088106155396, 0:00:17.05\n",
            "Epoch 23, gen_loss=0.693146288394928, disc_loss=1.0064088106155396, 0:00:17.04\n",
            "Epoch 24, gen_loss=0.6931462287902832, disc_loss=1.0064088106155396, 0:00:17.07\n",
            "Epoch 25, gen_loss=0.693146288394928, disc_loss=1.0064088106155396, 0:00:17.05\n",
            "Epoch 26, gen_loss=0.693146288394928, disc_loss=1.0064088106155396, 0:00:17.05\n",
            "Epoch 27, gen_loss=0.693146288394928, disc_loss=1.0064088106155396, 0:00:17.05\n",
            "Epoch 28, gen_loss=0.693146288394928, disc_loss=1.0064088106155396, 0:00:17.04\n",
            "Epoch 29, gen_loss=0.693146288394928, disc_loss=1.0064088106155396, 0:00:17.07\n",
            "Epoch 30, gen_loss=0.693146288394928, disc_loss=1.0064088106155396, 0:00:17.04\n",
            "Epoch 31, gen_loss=0.693146288394928, disc_loss=1.0064088106155396, 0:00:17.04\n",
            "Epoch 32, gen_loss=0.693146288394928, disc_loss=1.0064088106155396, 0:00:17.01\n",
            "Epoch 33, gen_loss=0.693146288394928, disc_loss=1.0064088106155396, 0:00:17.03\n",
            "Epoch 34, gen_loss=0.693146288394928, disc_loss=1.0064088106155396, 0:00:17.01\n",
            "Epoch 35, gen_loss=0.693146288394928, disc_loss=1.0064088106155396, 0:00:17.02\n",
            "Epoch 36, gen_loss=0.693146288394928, disc_loss=1.0064088106155396, 0:00:17.02\n",
            "Epoch 37, gen_loss=0.693146288394928, disc_loss=1.0064088106155396, 0:00:17.04\n",
            "Epoch 38, gen_loss=0.693146288394928, disc_loss=1.0064088106155396, 0:00:17.05\n",
            "Epoch 39, gen_loss=0.693146288394928, disc_loss=1.0064088106155396, 0:00:17.04\n",
            "Epoch 40, gen_loss=0.693146288394928, disc_loss=1.0064088106155396, 0:00:17.05\n",
            "Epoch 41, gen_loss=0.693146288394928, disc_loss=1.0064088106155396, 0:00:17.07\n",
            "Epoch 42, gen_loss=0.693146288394928, disc_loss=1.0064088106155396, 0:00:17.05\n",
            "Epoch 43, gen_loss=0.693146288394928, disc_loss=1.0064088106155396, 0:00:17.03\n",
            "Epoch 44, gen_loss=0.693146288394928, disc_loss=1.0064088106155396, 0:00:17.03\n",
            "Epoch 45, gen_loss=0.693146288394928, disc_loss=1.0064088106155396, 0:00:17.02\n",
            "Epoch 46, gen_loss=0.693146288394928, disc_loss=1.0064088106155396, 0:00:17.02\n",
            "Epoch 47, gen_loss=0.693146288394928, disc_loss=1.0064088106155396, 0:00:17.02\n",
            "Epoch 48, gen_loss=0.693146288394928, disc_loss=1.0064088106155396, 0:00:17.03\n",
            "Epoch 49, gen_loss=0.693146288394928, disc_loss=1.0064088106155396, 0:00:17.04\n",
            "Epoch 50, gen_loss=0.693146288394928, disc_loss=1.0064088106155396, 0:00:17.04\n",
            "Training time: 0:14:22.72\n"
          ],
          "name": "stdout"
        }
      ]
    },
    {
      "cell_type": "code",
      "metadata": {
        "id": "JpU61GhqLbXD",
        "colab_type": "code",
        "colab": {}
      },
      "source": [
        "generator.save(os.path.join(DATA_PATH,\"face_generator.h5\"))"
      ],
      "execution_count": 0,
      "outputs": []
    }
  ]
}