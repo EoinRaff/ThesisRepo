{
 "cells": [
  {
   "cell_type": "code",
   "execution_count": 1,
   "metadata": {},
   "outputs": [],
   "source": [
    "def slope(x, a):\n",
    "    return (x**a)/((x**a) + ((1-x)**a))"
   ]
  },
  {
   "cell_type": "code",
   "execution_count": 2,
   "metadata": {},
   "outputs": [
    {
     "name": "stdout",
     "output_type": "stream",
     "text": [
      "[0.  0.1 0.2 0.3 0.4 0.5 0.6 0.7 0.8 0.9 1. ]\n"
     ]
    }
   ],
   "source": [
    "import numpy as np\n",
    "\n",
    "x_axis = np.linspace(0, 1, 11)\n",
    "print(x_axis)"
   ]
  },
  {
   "cell_type": "code",
   "execution_count": 3,
   "metadata": {},
   "outputs": [
    {
     "name": "stdout",
     "output_type": "stream",
     "text": [
      "[0.0, 0.00045703839122486294, 0.007751937984496124, 0.04900704872307022, 0.1947983411564675, 0.5, 0.8052016588435328, 0.95099295127693, 0.9922480620155039, 0.9995429616087752, 1.0]\n"
     ]
    }
   ],
   "source": [
    "original_slope = [slope(x, 3.5) for x in x_axis ]\n",
    "print(original_slope)"
   ]
  },
  {
   "cell_type": "code",
   "execution_count": 4,
   "metadata": {
    "scrolled": false
   },
   "outputs": [
    {
     "data": {
      "text/plain": [
       "[<matplotlib.lines.Line2D at 0xb87e810>]"
      ]
     },
     "execution_count": 4,
     "metadata": {},
     "output_type": "execute_result"
    }
   ],
   "source": [
    "import matplotlib.pyplot as plt\n",
    "\n",
    "plt.plot(x_axis, original_slope)"
   ]
  },
  {
   "cell_type": "code",
   "execution_count": 5,
   "metadata": {},
   "outputs": [],
   "source": [
    "def landslide(sample, sensitivity, strength):\n",
    "    for i in range (1, len(sample)-1):\n",
    "        for j in range(-1, 1):\n",
    "            if sample[i+j] > sample[i] + sensitivity:\n",
    "                sample[i+j] = sample[i+j] + strength\n",
    "                sample[i] = sample[i] - strength"
   ]
  },
  {
   "cell_type": "code",
   "execution_count": 8,
   "metadata": {},
   "outputs": [
    {
     "name": "stdout",
     "output_type": "stream",
     "text": [
      "[0.00000000e+00 4.57038391e-04 7.75193798e-03 4.90070487e-02\n",
      " 1.94798341e-01 5.00000000e-01 8.05201659e-01 9.50992951e-01\n",
      " 9.92248062e-01 9.99542962e-01 1.00000000e+00]\n",
      "[0.00000000e+00 4.57038391e-04 7.75193798e-03 4.90070487e-02\n",
      " 1.94798341e-01 5.00000000e-01 8.05201659e-01 9.50992951e-01\n",
      " 9.92248062e-01 9.99542962e-01 1.00000000e+00]\n"
     ]
    }
   ],
   "source": [
    "erosion_1 = np.copy(original_slope)\n",
    "print(erosion_1)\n",
    "landslide(erosion_1, 0.01, 0.05)\n",
    "print(erosion_1)"
   ]
  },
  {
   "cell_type": "code",
   "execution_count": 9,
   "metadata": {},
   "outputs": [
    {
     "data": {
      "text/plain": [
       "[<matplotlib.lines.Line2D at 0xbede690>]"
      ]
     },
     "execution_count": 9,
     "metadata": {},
     "output_type": "execute_result"
    },
    {
     "data": {
      "image/png": "[encoded data removed]",
      "text/plain": [
       "<Figure size 432x288 with 1 Axes>"
      ]
     },
     "metadata": {
      "needs_background": "light"
     },
     "output_type": "display_data"
    }
   ],
   "source": [
    "plt.plot(x_axis, erosion_1)"
   ]
  },
  {
   "cell_type": "code",
   "execution_count": null,
   "metadata": {},
   "outputs": [],
   "source": []
  }
 ],
 "metadata": {
  "kernelspec": {
   "display_name": "Python 3",
   "language": "python",
   "name": "python3"
  },
  "language_info": {
   "codemirror_mode": {
    "name": "ipython",
    "version": 3
   },
   "file_extension": ".py",
   "mimetype": "text/x-python",
   "name": "python",
   "nbconvert_exporter": "python",
   "pygments_lexer": "ipython3",
   "version": "3.7.3"
  }
 },
 "nbformat": 4,
 "nbformat_minor": 2
}
