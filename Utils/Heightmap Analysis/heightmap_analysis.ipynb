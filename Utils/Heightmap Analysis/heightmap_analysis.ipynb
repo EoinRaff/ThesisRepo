{
 "cells": [
  {
   "cell_type": "markdown",
   "metadata": {},
   "source": [
    "# PCG Heightmap Analysis\n",
    "\n",
    "This notebook will run an analyis of heightmaps generated procedurally for our Master Thesis. \n",
    "The greyscale heightmaps will be imported, and thresholded into N segments based on a KMeans analysis of the image.\n",
    "Each segment will have it's fractal dimension (Minkowski–Bouligand dimension) measured using the Box Counting method\n",
    "The N dimensions for each image will then be plotted in 2 dimensions for visual analysis using PCA"
   ]
  },
  {
   "cell_type": "code",
   "execution_count": 1,
   "metadata": {},
   "outputs": [],
   "source": [
    "import cv2\n",
    "import numpy as np\n",
    "import matplotlib.pyplot as plt\n",
    "import matplotlib.image as mpimg\n",
    "from mpl_toolkits.mplot3d import Axes3D\n",
    "import sklearn\n",
    "from sklearn.cluster import KMeans\n",
    "import os\n",
    "from os import listdir"
   ]
  },
  {
   "cell_type": "code",
   "execution_count": 2,
   "metadata": {},
   "outputs": [
    {
     "name": "stdout",
     "output_type": "stream",
     "text": [
      "Looking for files ending in: .png in directory : img\\hm_all\n",
      "\n",
      "Found 200 files ending with .png.\n"
     ]
    }
   ],
   "source": [
    "path = \"img\\hm_all\"\n",
    "suffix = \".png\"\n",
    "print(f'Looking for files ending in: {suffix} in directory : {path}\\n')\n",
    "\n",
    "paths = [\"img\\hm_all\", \"img\\hm_ds\", \"img\\hm_v\", \"img\\hm_p\"]\n",
    "\n",
    "files = []\n",
    "labels = []\n",
    "label = 0\n",
    "for path in paths:\n",
    "    for file in os.listdir(path):\n",
    "        if file.endswith(suffix):\n",
    "            files.append(file)\n",
    "            labels.append(label)\n",
    "    label = label + 1;\n",
    "\n",
    "print(f'Found {len(files)} files ending with {suffix}.')\n"
   ]
  },
  {
   "cell_type": "code",
   "execution_count": 3,
   "metadata": {},
   "outputs": [],
   "source": [
    "#print (labels)"
   ]
  },
  {
   "cell_type": "markdown",
   "metadata": {},
   "source": [
    "## Display sample heightmap image"
   ]
  },
  {
   "cell_type": "code",
   "execution_count": 4,
   "metadata": {},
   "outputs": [
    {
     "data": {
      "image/png": "[encoded data removed]",
      "text/plain": [
       "<Figure size 432x288 with 1 Axes>"
      ]
     },
     "metadata": {},
     "output_type": "display_data"
    }
   ],
   "source": [
    "img = cv2.imread(path + '\\\\' + files[0])\n",
    "plt.imshow(img)\n",
    "plt.xticks([]), plt.yticks([])  # to hide tick values on X and Y axis\n",
    "plt.show()"
   ]
  },
  {
   "cell_type": "code",
   "execution_count": 5,
   "metadata": {},
   "outputs": [
    {
     "data": {
      "image/png": "[encoded data removed]",
      "text/plain": [
       "<Figure size 432x288 with 1 Axes>"
      ]
     },
     "metadata": {},
     "output_type": "display_data"
    }
   ],
   "source": [
    "norm_img = np.zeros((img.shape[0],img.shape[1]))\n",
    "final_img = cv2.normalize(img,  norm_img, 0, 255, cv2.NORM_MINMAX)\n",
    "plt.imshow(final_img)\n",
    "plt.xticks([]), plt.yticks([])  # to hide tick values on X and Y axis\n",
    "plt.show()"
   ]
  },
  {
   "cell_type": "markdown",
   "metadata": {},
   "source": [
    "## KMeans clustering of heightmaps\n",
    "\n",
    "```One of the most commonly used clustering algorithms is k-means. Here, the k represents the number of clusters (not to be confused with k-nearest neighbor). Let’s understand how k-means works:\n",
    "\n",
    "First, randomly select k initial clusters\n",
    "\n",
    "Randomly assign each data point to any one of the k clusters\n",
    "\n",
    "Calculate the centers of these clusters\n",
    "\n",
    "Calculate the distance of all the points from the center of each cluster\n",
    "\n",
    "Depending on this distance, the points are reassigned to the nearest cluster\n",
    "\n",
    "Calculate the center of the newly formed clusters\n",
    "\n",
    "Finally, repeat steps (4), (5) and (6) until either the center of the clusters does not change or we reach the set number of iterations\n",
    "\n",
    "The key advantage of using k-means algorithm is that it is simple and easy to understand. We are assigning the points to the clusters which are closest to them.```\n",
    "\n",
    "from https://www.analyticsvidhya.com/blog/2019/04/introduction-image-segmentation-techniques-python/"
   ]
  },
  {
   "cell_type": "markdown",
   "metadata": {},
   "source": [
    "### Prepare data for processing\n",
    "- Read the files from disc as images.\n",
    "- Store the images in an array\n",
    "- Reshape the images from 3D arrays of (x, y, channels) to 2D arrays of (x*y, channels)"
   ]
  },
  {
   "cell_type": "code",
   "execution_count": 6,
   "metadata": {},
   "outputs": [
    {
     "name": "stdout",
     "output_type": "stream",
     "text": [
      "original shape: (513, 513)\n",
      "new shape: (263169, 1)\n"
     ]
    }
   ],
   "source": [
    "image_data = []\n",
    "\n",
    "for f in files:\n",
    "    original = cv2.imread(path + '\\\\' + f, 0)\n",
    "    reshaped = original.reshape(img.shape[0]*img.shape[1], 1)\n",
    "    image_data.append([original, reshaped])\n",
    "    \n",
    "print('original shape: ' + str(image_data[0][0].shape))\n",
    "print('new shape: ' + str(image_data[0][1].shape))"
   ]
  },
  {
   "cell_type": "markdown",
   "metadata": {},
   "source": [
    "# Perform KMeans clustering\n",
    "\n",
    "Use the KMeans clustering algorithm to determine height bands in the heightmaps\n",
    "- Return an array of the cluster centers (i.e. the values of the different height bands) sorted from lowest to highest\n",
    "- Also return a segmented image to visualise these values"
   ]
  },
  {
   "cell_type": "code",
   "execution_count": 7,
   "metadata": {},
   "outputs": [],
   "source": [
    "def get_kmeans_clusters(image_data, k):\n",
    "    kmeans = KMeans(n_clusters=k, random_state=0).fit(image_data[1])     # perform KMeans clustering on reshaped image\n",
    "    mean_values = kmeans.cluster_centers_.T[0]                           # return the values of the cluster centers\n",
    "    mean_values = np.sort(mean_values, axis=None)                        # sort the means from low to hight\n",
    "    pic2show = kmeans.cluster_centers_[kmeans.labels_]                   # generate a segmented image\n",
    "    \n",
    "    # reshape the segmented image to a 2D array\n",
    "    # divide by 255 to remap from uint8 (0-255) to float64 (0-1)\n",
    "    cluster_pic = (pic2show.reshape(image_data[0].shape[0], image_data[0].shape[1]))/255 \n",
    "\n",
    "    return mean_values, cluster_pic                                      # return the cluster centers (means) and the segmented image"
   ]
  },
  {
   "cell_type": "code",
   "execution_count": 8,
   "metadata": {},
   "outputs": [
    {
     "name": "stdout",
     "output_type": "stream",
     "text": [
      "k-Means done! Time elapsed: 300.4300947189331 seconds\n"
     ]
    }
   ],
   "source": [
    "import time\n",
    "image_cluster_data = []\n",
    "time_start = time.time()\n",
    "\n",
    "\n",
    "for data in image_data:\n",
    "    image_cluster_data.append(get_kmeans_clusters(data, 6))\n",
    "    \n",
    "print('k-Means done! Time elapsed: ' + str(time.time()-time_start) + ' seconds')"
   ]
  },
  {
   "cell_type": "markdown",
   "metadata": {},
   "source": [
    "#### Display Segmented Images\n",
    "\n",
    "These images are the result of sementing the heightmap using KMeans. They should be somewhat remeniscent of topological maps."
   ]
  },
  {
   "cell_type": "code",
   "execution_count": 9,
   "metadata": {
    "scrolled": true
   },
   "outputs": [
    {
     "data": {
      "image/png": "[encoded data removed]",
      "text/plain": [
       "<Figure size 432x288 with 1 Axes>"
      ]
     },
     "metadata": {},
     "output_type": "display_data"
    }
   ],
   "source": [
    "#for data in image_cluster_data:\n",
    "    \n",
    "plt.figure()\n",
    "plt.imshow(image_cluster_data[0][1]) # image_cluster_data[0] is the cluster centers, image_cluster_data[1] is the segmented image\n",
    "plt.xticks([]), plt.yticks([])  # to hide tick values on X and Y axis\n",
    "plt.show()"
   ]
  },
  {
   "cell_type": "code",
   "execution_count": 10,
   "metadata": {},
   "outputs": [],
   "source": [
    "# Each image should have an array of binary images\n",
    "binary_images = []\n",
    "def split_image_clusters(img, mean_values):\n",
    "    binary_images = []\n",
    "    for i in range (0, len(mean_values)):\n",
    "        ret,thresh = cv2.threshold(img,mean_values[i],255,cv2.THRESH_BINARY)\n",
    "        #img_c = cv2.Canny(thresh, mean_values[i] - 0.01, mean_values[i] + 0.01)\n",
    "        float_thresh = thresh/255\n",
    "        binary_images.append(float_thresh)\n",
    "    return binary_images\n"
   ]
  },
  {
   "cell_type": "code",
   "execution_count": 11,
   "metadata": {},
   "outputs": [
    {
     "ename": "MemoryError",
     "evalue": "Unable to allocate 2.01 MiB for an array with shape (513, 513) and data type float64",
     "output_type": "error",
     "traceback": [
      "\u001b[1;31m---------------------------------------------------------------------------\u001b[0m",
      "\u001b[1;31mMemoryError\u001b[0m                               Traceback (most recent call last)",
      "\u001b[1;32m<ipython-input-11-290f97081402>\u001b[0m in \u001b[0;36m<module>\u001b[1;34m\u001b[0m\n\u001b[0;32m      1\u001b[0m \u001b[1;32mfor\u001b[0m \u001b[0mi\u001b[0m \u001b[1;32min\u001b[0m \u001b[0mrange\u001b[0m\u001b[1;33m(\u001b[0m\u001b[0mlen\u001b[0m\u001b[1;33m(\u001b[0m\u001b[0mimage_data\u001b[0m\u001b[1;33m)\u001b[0m\u001b[1;33m)\u001b[0m\u001b[1;33m:\u001b[0m\u001b[1;33m\u001b[0m\u001b[1;33m\u001b[0m\u001b[0m\n\u001b[1;32m----> 2\u001b[1;33m     \u001b[0mbinary_images\u001b[0m\u001b[1;33m.\u001b[0m\u001b[0mappend\u001b[0m\u001b[1;33m(\u001b[0m\u001b[0msplit_image_clusters\u001b[0m\u001b[1;33m(\u001b[0m\u001b[0mimage_data\u001b[0m\u001b[1;33m[\u001b[0m\u001b[0mi\u001b[0m\u001b[1;33m]\u001b[0m\u001b[1;33m[\u001b[0m\u001b[1;36m0\u001b[0m\u001b[1;33m]\u001b[0m\u001b[1;33m,\u001b[0m \u001b[0mimage_cluster_data\u001b[0m\u001b[1;33m[\u001b[0m\u001b[0mi\u001b[0m\u001b[1;33m]\u001b[0m\u001b[1;33m[\u001b[0m\u001b[1;36m0\u001b[0m\u001b[1;33m]\u001b[0m\u001b[1;33m)\u001b[0m\u001b[1;33m)\u001b[0m\u001b[1;33m\u001b[0m\u001b[1;33m\u001b[0m\u001b[0m\n\u001b[0m",
      "\u001b[1;32m<ipython-input-10-461f88d25bb2>\u001b[0m in \u001b[0;36msplit_image_clusters\u001b[1;34m(img, mean_values)\u001b[0m\n\u001b[0;32m      6\u001b[0m         \u001b[0mret\u001b[0m\u001b[1;33m,\u001b[0m\u001b[0mthresh\u001b[0m \u001b[1;33m=\u001b[0m \u001b[0mcv2\u001b[0m\u001b[1;33m.\u001b[0m\u001b[0mthreshold\u001b[0m\u001b[1;33m(\u001b[0m\u001b[0mimg\u001b[0m\u001b[1;33m,\u001b[0m\u001b[0mmean_values\u001b[0m\u001b[1;33m[\u001b[0m\u001b[0mi\u001b[0m\u001b[1;33m]\u001b[0m\u001b[1;33m,\u001b[0m\u001b[1;36m255\u001b[0m\u001b[1;33m,\u001b[0m\u001b[0mcv2\u001b[0m\u001b[1;33m.\u001b[0m\u001b[0mTHRESH_BINARY\u001b[0m\u001b[1;33m)\u001b[0m\u001b[1;33m\u001b[0m\u001b[1;33m\u001b[0m\u001b[0m\n\u001b[0;32m      7\u001b[0m         \u001b[1;31m#img_c = cv2.Canny(thresh, mean_values[i] - 0.01, mean_values[i] + 0.01)\u001b[0m\u001b[1;33m\u001b[0m\u001b[1;33m\u001b[0m\u001b[1;33m\u001b[0m\u001b[0m\n\u001b[1;32m----> 8\u001b[1;33m         \u001b[0mfloat_thresh\u001b[0m \u001b[1;33m=\u001b[0m \u001b[0mthresh\u001b[0m\u001b[1;33m/\u001b[0m\u001b[1;36m255\u001b[0m\u001b[1;33m\u001b[0m\u001b[1;33m\u001b[0m\u001b[0m\n\u001b[0m\u001b[0;32m      9\u001b[0m         \u001b[0mbinary_images\u001b[0m\u001b[1;33m.\u001b[0m\u001b[0mappend\u001b[0m\u001b[1;33m(\u001b[0m\u001b[0mfloat_thresh\u001b[0m\u001b[1;33m)\u001b[0m\u001b[1;33m\u001b[0m\u001b[1;33m\u001b[0m\u001b[0m\n\u001b[0;32m     10\u001b[0m     \u001b[1;32mreturn\u001b[0m \u001b[0mbinary_images\u001b[0m\u001b[1;33m\u001b[0m\u001b[1;33m\u001b[0m\u001b[0m\n",
      "\u001b[1;31mMemoryError\u001b[0m: Unable to allocate 2.01 MiB for an array with shape (513, 513) and data type float64"
     ]
    }
   ],
   "source": [
    "for i in range(len(image_data)): \n",
    "    binary_images.append(split_image_clusters(image_data[i][0], image_cluster_data[i][0]))"
   ]
  },
  {
   "cell_type": "code",
   "execution_count": null,
   "metadata": {},
   "outputs": [],
   "source": [
    "\n",
    "for i in range(0, len(binary_images[0])):\n",
    "    plt.imshow(binary_images[0][i])#.astype(np.uint8)) # Otherwise it caps at 1\n",
    "    plt.title(str(image_cluster_data[0][0][i])) #[source][data_type][binary_image]\n",
    "    plt.xticks([]), plt.yticks([])  # to hide tick values on X and Y axis\n",
    "    plt.show()"
   ]
  },
  {
   "cell_type": "code",
   "execution_count": null,
   "metadata": {},
   "outputs": [],
   "source": [
    "print(binary_images[0][0].shape)"
   ]
  },
  {
   "cell_type": "code",
   "execution_count": null,
   "metadata": {},
   "outputs": [],
   "source": [
    "def box_count(Z, k):\n",
    "    ''''''\n",
    "    S = np.add.reduceat(\n",
    "        np.add.reduceat(Z, np.arange(0, Z.shape[0], k), axis=0),\n",
    "                           np.arange(0, Z.shape[1], k), axis=1)\n",
    "    return len(np.where((S > 0) & (S < k*k))[0])\n"
   ]
  },
  {
   "cell_type": "code",
   "execution_count": null,
   "metadata": {},
   "outputs": [],
   "source": [
    "test = np.array([\n",
    "    [0, 0, 255, 0, 255, 255],\n",
    "    [0, 1, 1, 0, 1, 1],\n",
    "    [0, 1, 1, 0, 1, 0],\n",
    "    [0, 1, 1, 1, 1, 0],\n",
    "    [0, 0, 1, 1, 1, 0],\n",
    "    [0, 0, 0, 0, 1, 0],\n",
    "])\n",
    "print(box_count(test, 2))\n",
    "print(box_count(test, 3))\n",
    "print (box_count(binary_images[0][0], 2))\n",
    "#print(((binary_images[0])/255)[257][256])\n"
   ]
  },
  {
   "cell_type": "code",
   "execution_count": null,
   "metadata": {},
   "outputs": [],
   "source": [
    "scale_factors = [2, 4, 8, 16, 32]\n",
    "N = []\n",
    "\n",
    "for s in scale_factors:\n",
    "    N.append(box_count(binary_images[0][0], s*2))\n",
    "\n",
    "print(N)"
   ]
  },
  {
   "cell_type": "code",
   "execution_count": null,
   "metadata": {},
   "outputs": [],
   "source": [
    "plt.scatter(scale_factors, N)\n",
    "plt.ylabel('N')\n",
    "plt.xlabel('S')\n",
    "\n",
    "plt.show"
   ]
  },
  {
   "cell_type": "code",
   "execution_count": null,
   "metadata": {},
   "outputs": [],
   "source": [
    "from numpy.polynomial.polynomial import polyfit\n",
    "\n",
    "constant, slope = polyfit(np.log(scale_factors), np.log(N), 1)\n",
    "\n",
    "def plot_data_with_polynomial(N, constant, slope, axis):\n",
    "    axis.plot(np.log(scale_factors), np.log(N), '.')\n",
    "    axis.plot(np.log(scale_factors), constant + slope * np.log(scale_factors), '-')\n",
    "    axis.ylabel('log(N)')\n",
    "    axis.xlabel('log(S)')\n",
    "\n",
    "plot_data_with_polynomial(N, constant, slope, plt)"
   ]
  },
  {
   "cell_type": "code",
   "execution_count": null,
   "metadata": {},
   "outputs": [],
   "source": [
    "def fractal_dimension(img, scale_factors):\n",
    "    '''Using the box counting method, FD is the slope of the best fit line on the plot of the log log plot of the number of boxes and the size of boxes'''\n",
    "    N = []\n",
    "    for s in scale_factors:\n",
    "        N.append(box_count(img, s*2))\n",
    "        \n",
    "    constant, slope = polyfit(np.log(scale_factors), np.log(N), 1)\n",
    "    \n",
    "    return [N, constant, slope]\n"
   ]
  },
  {
   "cell_type": "code",
   "execution_count": null,
   "metadata": {},
   "outputs": [],
   "source": [
    "plot_data = []\n",
    "data = []\n",
    "for i in range (len(binary_images)):\n",
    "    FD = []\n",
    "    for img in binary_images[i]:\n",
    "        N, constant, slope = fractal_dimension(img, scale_factors)\n",
    "        FD.append(slope)\n",
    "        plot_data.append([N, constant, slope])\n",
    "    data.append(FD)\n"
   ]
  },
  {
   "cell_type": "code",
   "execution_count": null,
   "metadata": {},
   "outputs": [],
   "source": [
    "for pd in plot_data:\n",
    "    plot_data_with_polynomial(pd[0], pd[1], pd[2], plt)"
   ]
  },
  {
   "cell_type": "markdown",
   "metadata": {},
   "source": [
    "## Principal Component Analysis"
   ]
  },
  {
   "cell_type": "code",
   "execution_count": null,
   "metadata": {},
   "outputs": [],
   "source": [
    "from sklearn import decomposition\n"
   ]
  },
  {
   "cell_type": "code",
   "execution_count": null,
   "metadata": {},
   "outputs": [],
   "source": [
    "pca = decomposition.PCA(n_components = 2)\n",
    "pca.fit(data)\n",
    "out = pca.transform(data)\n",
    "print(out.shape)"
   ]
  },
  {
   "cell_type": "code",
   "execution_count": null,
   "metadata": {},
   "outputs": [],
   "source": [
    "plt.scatter(out[:, 0], out[:, 1])\n",
    "plt.show"
   ]
  },
  {
   "cell_type": "code",
   "execution_count": null,
   "metadata": {},
   "outputs": [],
   "source": [
    "from sklearn.manifold import TSNE\n",
    "import time\n",
    "\n",
    "time_start = time.time()\n",
    "tsne = TSNE(n_components=2, verbose=1, perplexity=40, n_iter=300)\n",
    "tsne_results = tsne.fit_transform(data)\n",
    "\n",
    "print(tsne_results.shape)\n",
    "plt.scatter(tsne_results[:,0], tsne_results[:, 1])\n",
    "#print 't-SNE done! Time elapsed: {} seconds'.format(time.time()-time_start)"
   ]
  },
  {
   "cell_type": "code",
   "execution_count": null,
   "metadata": {},
   "outputs": [],
   "source": [
    "time_start = time.time()\n",
    "tsne = TSNE(n_components=2, verbose=1, perplexity=40, n_iter=300)\n",
    "tsne_pca_results = tsne.fit_transform(out)\n",
    "\n",
    "print(tsne_pca_results.shape)\n",
    "plt.scatter(tsne_pca_results[:,0], tsne_pca_results[:, 1])"
   ]
  },
  {
   "cell_type": "code",
   "execution_count": null,
   "metadata": {},
   "outputs": [],
   "source": []
  }
 ],
 "metadata": {
  "kernelspec": {
   "display_name": "Python 3",
   "language": "python",
   "name": "python3"
  },
  "language_info": {
   "codemirror_mode": {
    "name": "ipython",
    "version": 3
   },
   "file_extension": ".py",
   "mimetype": "text/x-python",
   "name": "python",
   "nbconvert_exporter": "python",
   "pygments_lexer": "ipython3",
   "version": "3.8.1"
  }
 },
 "nbformat": 4,
 "nbformat_minor": 4
}
