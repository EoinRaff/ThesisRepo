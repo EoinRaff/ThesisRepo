{
 "cells": [
  {
   "cell_type": "markdown",
   "metadata": {},
   "source": [
    "# PCG Heightmap Analysis\n",
    "\n",
    "This notebook will run an analyis of heightmaps generated procedurally for our Master Thesis. \n",
    "The greyscale heightmaps will be imported, and thresholded into N segments based on a KMeans analysis of the image.\n",
    "Each segment will have it's fractal dimension (Minkowski–Bouligand dimension) measured using the Box Counting method\n",
    "The N dimensions for each image will then be plotted in 2 dimensions for visual analysis using PCA"
   ]
  },
  {
   "cell_type": "code",
   "execution_count": 4,
   "metadata": {},
   "outputs": [],
   "source": [
    "import cv2\n",
    "import numpy as np\n",
    "import matplotlib.pyplot as plt\n",
    "from sklearn.cluster import KMeans\n",
    "import os\n",
    "from os import listdir"
   ]
  },
  {
   "cell_type": "code",
   "execution_count": 10,
   "metadata": {},
   "outputs": [
    {
     "name": "stdout",
     "output_type": "stream",
     "text": [
      "Looking for files ending in: .png in directory : tree/img\n",
      "\n",
      "Found 0 files ending with .png.\n"
     ]
    }
   ],
   "source": [
    "path = \"tree/img\"\n",
    "suffix = \".png\"\n",
    "print(f'Looking for files ending in: {suffix} in directory : {path}\\n')\n",
    "\n",
    "#os.chdir(path)\n",
    "files = []\n",
    "for file in os.listdir():\n",
    "    if file.endswith(suffix):\n",
    "        files.append(file)\n",
    "\n",
    "print(f'Found {len(files)} files ending with {suffix}.')"
   ]
  },
  {
   "cell_type": "code",
   "execution_count": null,
   "metadata": {},
   "outputs": [],
   "source": []
  }
 ],
 "metadata": {
  "kernelspec": {
   "display_name": "Python 3",
   "language": "python",
   "name": "python3"
  },
  "language_info": {
   "codemirror_mode": {
    "name": "ipython",
    "version": 3
   },
   "file_extension": ".py",
   "mimetype": "text/x-python",
   "name": "python",
   "nbconvert_exporter": "python",
   "pygments_lexer": "ipython3",
   "version": "3.8.1"
  }
 },
 "nbformat": 4,
 "nbformat_minor": 4
}
